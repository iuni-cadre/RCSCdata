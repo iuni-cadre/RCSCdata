{
 "cells": [
  {
   "cell_type": "code",
   "execution_count": 2,
   "metadata": {
    "scrolled": true
   },
   "outputs": [
    {
     "data": {
      "text/plain": [
       "sqlContext = org.apache.spark.sql.SQLContext@1d31c97b\n"
      ]
     },
     "metadata": {},
     "output_type": "display_data"
    },
    {
     "data": {
      "text/plain": [
       "warning: there was one deprecation warning; re-run with -deprecation for details\n"
      ]
     },
     "metadata": {},
     "output_type": "display_data"
    },
    {
     "data": {
      "text/plain": [
       "Some(http://iuni2:4040)"
      ]
     },
     "execution_count": 2,
     "metadata": {},
     "output_type": "execute_result"
    }
   ],
   "source": [
    "import org.apache.spark.sql.{SQLContext, SaveMode}\n",
    "import org.apache.spark.sql.types.{StructType, StructField, StringType, DoubleType};\n",
    "import com.databricks.spark.xml._\n",
    "\n",
    "val sqlContext = new SQLContext(sc)\n",
    "import sqlContext.implicits._\n",
    "sqlContext.sql(\"set spark.sql.caseSensitive=true\") \n",
    "spark.sparkContext.uiWebUrl"
   ]
  },
  {
   "cell_type": "code",
   "execution_count": 3,
   "metadata": {},
   "outputs": [
    {
     "name": "stdout",
     "output_type": "stream",
     "text": [
      "+-------------------+--------------------+---------+---------+-------------+---------+------------+--------------------+--------+----+--------+---------+-----------------+--------------------+\n",
      "|                UID|    _r_id_disclaimer|abstracts|addresses|category_info|citedWork|contributors|        dynamic_data|fund_ack|item|keywords|reference|reprint_addresses|         static_data|\n",
      "+-------------------+--------------------+---------+---------+-------------+---------+------------+--------------------+--------+----+--------+---------+-----------------+--------------------+\n",
      "|WOS:000531777000006|ResearcherID data...|     null|     null|         null|     null|        null|[[[[[, accession_...|    null|null|    null|     null|             null|[,,,,, [, [, 2, [...|\n",
      "|WOS:000244816400003|ResearcherID data...|     null|     null|         null|     null|        null|[[[[[, accession_...|    null|null|    null|     null|             null|[,,,, [2, [[[, F-...|\n",
      "+-------------------+--------------------+---------+---------+-------------+---------+------------+--------------------+--------+----+--------+---------+-----------------+--------------------+\n",
      "only showing top 2 rows\n",
      "\n",
      "root\n",
      " |-- UID: string (nullable = true)\n",
      " |-- _r_id_disclaimer: string (nullable = true)\n",
      " |-- abstracts: struct (nullable = true)\n",
      " |    |-- _count: long (nullable = true)\n",
      " |    |-- abstract: struct (nullable = true)\n",
      " |    |    |-- abstract_text: struct (nullable = true)\n",
      " |    |    |    |-- _count: long (nullable = true)\n",
      " |    |    |    |-- p: array (nullable = true)\n",
      " |    |    |    |    |-- element: string (containsNull = true)\n",
      " |-- addresses: struct (nullable = true)\n",
      " |    |-- _count: long (nullable = true)\n",
      " |    |-- address_name: array (nullable = true)\n",
      " |    |    |-- element: struct (containsNull = true)\n",
      " |    |    |    |-- address_spec: struct (nullable = true)\n",
      " |    |    |    |    |-- _addr_no: long (nullable = true)\n",
      " |    |    |    |    |-- city: string (nullable = true)\n",
      " |    |    |    |    |-- country: string (nullable = true)\n",
      " |    |    |    |    |-- full_address: string (nullable = true)\n",
      " |    |    |    |    |-- organizations: struct (nullable = true)\n",
      " |    |    |    |    |    |-- _count: long (nullable = true)\n",
      " |    |    |    |    |    |-- organization: array (nullable = true)\n",
      " |    |    |    |    |    |    |-- element: struct (containsNull = true)\n",
      " |    |    |    |    |    |    |    |-- _VALUE: string (nullable = true)\n",
      " |    |    |    |    |    |    |    |-- _pref: string (nullable = true)\n",
      " |    |    |    |    |-- state: string (nullable = true)\n",
      " |    |    |    |    |-- street: string (nullable = true)\n",
      " |    |    |    |    |-- suborganizations: struct (nullable = true)\n",
      " |    |    |    |    |    |-- _count: long (nullable = true)\n",
      " |    |    |    |    |    |-- suborganization: array (nullable = true)\n",
      " |    |    |    |    |    |    |-- element: string (containsNull = true)\n",
      " |    |    |    |    |-- zip: struct (nullable = true)\n",
      " |    |    |    |    |    |-- _VALUE: string (nullable = true)\n",
      " |    |    |    |    |    |-- _location: string (nullable = true)\n",
      " |    |    |    |-- names: struct (nullable = true)\n",
      " |    |    |    |    |-- _count: long (nullable = true)\n",
      " |    |    |    |    |-- name: array (nullable = true)\n",
      " |    |    |    |    |    |-- element: struct (containsNull = true)\n",
      " |    |    |    |    |    |    |-- _addr_no: long (nullable = true)\n",
      " |    |    |    |    |    |    |-- _r_id: string (nullable = true)\n",
      " |    |    |    |    |    |    |-- _reprint: string (nullable = true)\n",
      " |    |    |    |    |    |    |-- _role: string (nullable = true)\n",
      " |    |    |    |    |    |    |-- _seq_no: long (nullable = true)\n",
      " |    |    |    |    |    |    |-- display_name: string (nullable = true)\n",
      " |    |    |    |    |    |    |-- email_addr: string (nullable = true)\n",
      " |    |    |    |    |    |    |-- first_name: string (nullable = true)\n",
      " |    |    |    |    |    |    |-- full_name: string (nullable = true)\n",
      " |    |    |    |    |    |    |-- last_name: string (nullable = true)\n",
      " |    |    |    |    |    |    |-- wos_standard: string (nullable = true)\n",
      " |-- category_info: struct (nullable = true)\n",
      " |    |-- headings: struct (nullable = true)\n",
      " |    |    |-- _count: long (nullable = true)\n",
      " |    |    |-- heading: string (nullable = true)\n",
      " |    |-- subheadings: struct (nullable = true)\n",
      " |    |    |-- _count: long (nullable = true)\n",
      " |    |    |-- subheading: array (nullable = true)\n",
      " |    |    |    |-- element: string (containsNull = true)\n",
      " |    |-- subjects: struct (nullable = true)\n",
      " |    |    |-- _count: long (nullable = true)\n",
      " |    |    |-- subject: array (nullable = true)\n",
      " |    |    |    |-- element: struct (containsNull = true)\n",
      " |    |    |    |    |-- _VALUE: string (nullable = true)\n",
      " |    |    |    |    |-- _ascatype: string (nullable = true)\n",
      " |-- citedWork: string (nullable = true)\n",
      " |-- contributors: struct (nullable = true)\n",
      " |    |-- _count: long (nullable = true)\n",
      " |    |-- contributor: array (nullable = true)\n",
      " |    |    |-- element: struct (containsNull = true)\n",
      " |    |    |    |-- name: struct (nullable = true)\n",
      " |    |    |    |    |-- _orcid_id: string (nullable = true)\n",
      " |    |    |    |    |-- _r_id: string (nullable = true)\n",
      " |    |    |    |    |-- _role: string (nullable = true)\n",
      " |    |    |    |    |-- _seq_no: long (nullable = true)\n",
      " |    |    |    |    |-- display_name: string (nullable = true)\n",
      " |    |    |    |    |-- first_name: string (nullable = true)\n",
      " |    |    |    |    |-- full_name: string (nullable = true)\n",
      " |    |    |    |    |-- last_name: string (nullable = true)\n",
      " |-- dynamic_data: struct (nullable = true)\n",
      " |    |-- cluster_related: struct (nullable = true)\n",
      " |    |    |-- identifiers: struct (nullable = true)\n",
      " |    |    |    |-- identifier: array (nullable = true)\n",
      " |    |    |    |    |-- element: struct (containsNull = true)\n",
      " |    |    |    |    |    |-- _VALUE: string (nullable = true)\n",
      " |    |    |    |    |    |-- _type: string (nullable = true)\n",
      " |    |    |    |    |    |-- _value: string (nullable = true)\n",
      " |    |-- ic_related: struct (nullable = true)\n",
      " |    |    |-- oases: struct (nullable = true)\n",
      " |    |    |    |-- _count: long (nullable = true)\n",
      " |    |    |    |-- _is_OA: string (nullable = true)\n",
      " |    |    |    |-- oas: array (nullable = true)\n",
      " |    |    |    |    |-- element: struct (containsNull = true)\n",
      " |    |    |    |    |    |-- _VALUE: string (nullable = true)\n",
      " |    |    |    |    |    |-- _type: string (nullable = true)\n",
      " |-- fund_ack: struct (nullable = true)\n",
      " |    |-- fund_text: struct (nullable = true)\n",
      " |    |    |-- p: string (nullable = true)\n",
      " |    |-- grants: struct (nullable = true)\n",
      " |    |    |-- _count: long (nullable = true)\n",
      " |    |    |-- grant: array (nullable = true)\n",
      " |    |    |    |-- element: struct (containsNull = true)\n",
      " |    |    |    |    |-- grant_agency: string (nullable = true)\n",
      " |    |    |    |    |-- grant_ids: struct (nullable = true)\n",
      " |    |    |    |    |    |-- _count: long (nullable = true)\n",
      " |    |    |    |    |    |-- grant_id: array (nullable = true)\n",
      " |    |    |    |    |    |    |-- element: string (containsNull = true)\n",
      " |-- item: struct (nullable = true)\n",
      " |    |-- _xmlns:xsi: string (nullable = true)\n",
      " |    |-- _xsi:type: string (nullable = true)\n",
      " |    |-- bib_id: string (nullable = true)\n",
      " |    |-- bib_pagecount: struct (nullable = true)\n",
      " |    |    |-- _VALUE: long (nullable = true)\n",
      " |    |    |-- _type: string (nullable = true)\n",
      " |    |-- book_desc: array (nullable = true)\n",
      " |    |    |-- element: struct (containsNull = true)\n",
      " |    |    |    |-- bk_binding: string (nullable = true)\n",
      " |    |    |    |-- bk_prepay: string (nullable = true)\n",
      " |    |    |    |-- bk_publisher: string (nullable = true)\n",
      " |    |-- book_notes: struct (nullable = true)\n",
      " |    |    |-- _count: long (nullable = true)\n",
      " |    |    |-- book_note: array (nullable = true)\n",
      " |    |    |    |-- element: string (containsNull = true)\n",
      " |    |-- book_pages: long (nullable = true)\n",
      " |    |-- ids: struct (nullable = true)\n",
      " |    |    |-- _VALUE: string (nullable = true)\n",
      " |    |    |-- _avail: string (nullable = true)\n",
      " |    |-- keywords_plus: struct (nullable = true)\n",
      " |    |    |-- _count: long (nullable = true)\n",
      " |    |    |-- keyword: array (nullable = true)\n",
      " |    |    |    |-- element: string (containsNull = true)\n",
      " |-- keywords: struct (nullable = true)\n",
      " |    |-- _count: long (nullable = true)\n",
      " |    |-- keyword: array (nullable = true)\n",
      " |    |    |-- element: string (containsNull = true)\n",
      " |-- reference: array (nullable = true)\n",
      " |    |-- element: struct (containsNull = true)\n",
      " |    |    |-- citedAuthor: string (nullable = true)\n",
      " |    |    |-- citedTitle: string (nullable = true)\n",
      " |    |    |-- citedWork: string (nullable = true)\n",
      " |    |    |-- doi: string (nullable = true)\n",
      " |    |    |-- i: array (nullable = true)\n",
      " |    |    |    |-- element: string (containsNull = true)\n",
      " |    |    |-- page: string (nullable = true)\n",
      " |    |    |-- uid: string (nullable = true)\n",
      " |    |    |-- volume: string (nullable = true)\n",
      " |    |    |-- year: long (nullable = true)\n",
      " |-- reprint_addresses: struct (nullable = true)\n",
      " |    |-- _count: long (nullable = true)\n",
      " |    |-- address_name: array (nullable = true)\n",
      " |    |    |-- element: struct (containsNull = true)\n",
      " |    |    |    |-- address_spec: struct (nullable = true)\n",
      " |    |    |    |    |-- _addr_no: long (nullable = true)\n",
      " |    |    |    |    |-- city: string (nullable = true)\n",
      " |    |    |    |    |-- country: string (nullable = true)\n",
      " |    |    |    |    |-- full_address: string (nullable = true)\n",
      " |    |    |    |    |-- organizations: struct (nullable = true)\n",
      " |    |    |    |    |    |-- _count: long (nullable = true)\n",
      " |    |    |    |    |    |-- organization: array (nullable = true)\n",
      " |    |    |    |    |    |    |-- element: struct (containsNull = true)\n",
      " |    |    |    |    |    |    |    |-- _VALUE: string (nullable = true)\n",
      " |    |    |    |    |    |    |    |-- _pref: string (nullable = true)\n",
      " |    |    |    |    |-- state: string (nullable = true)\n",
      " |    |    |    |    |-- street: string (nullable = true)\n",
      " |    |    |    |    |-- suborganizations: struct (nullable = true)\n",
      " |    |    |    |    |    |-- _count: long (nullable = true)\n",
      " |    |    |    |    |    |-- suborganization: array (nullable = true)\n",
      " |    |    |    |    |    |    |-- element: string (containsNull = true)\n",
      " |    |    |    |    |-- zip: array (nullable = true)\n",
      " |    |    |    |    |    |-- element: struct (containsNull = true)\n",
      " |    |    |    |    |    |    |-- _VALUE: string (nullable = true)\n",
      " |    |    |    |    |    |    |-- _location: string (nullable = true)\n",
      " |    |    |    |-- names: struct (nullable = true)\n",
      " |    |    |    |    |-- _count: long (nullable = true)\n",
      " |    |    |    |    |-- name: struct (nullable = true)\n",
      " |    |    |    |    |    |-- _addr_no: long (nullable = true)\n",
      " |    |    |    |    |    |-- _reprint: string (nullable = true)\n",
      " |    |    |    |    |    |-- _role: string (nullable = true)\n",
      " |    |    |    |    |    |-- _seq_no: long (nullable = true)\n",
      " |    |    |    |    |    |-- display_name: string (nullable = true)\n",
      " |    |    |    |    |    |-- email_addr: string (nullable = true)\n",
      " |    |    |    |    |    |-- first_name: string (nullable = true)\n",
      " |    |    |    |    |    |-- full_name: string (nullable = true)\n",
      " |    |    |    |    |    |-- last_name: string (nullable = true)\n",
      " |    |    |    |    |    |-- wos_standard: string (nullable = true)\n",
      " |-- static_data: struct (nullable = true)\n",
      " |    |-- abstracts: struct (nullable = true)\n",
      " |    |    |-- _count: long (nullable = true)\n",
      " |    |    |-- abstract: struct (nullable = true)\n",
      " |    |    |    |-- abstract_text: struct (nullable = true)\n",
      " |    |    |    |    |-- _count: long (nullable = true)\n",
      " |    |    |    |    |-- p: array (nullable = true)\n",
      " |    |    |    |    |    |-- element: string (containsNull = true)\n",
      " |    |-- addresses: struct (nullable = true)\n",
      " |    |    |-- _VALUE: string (nullable = true)\n",
      " |    |    |-- _count: long (nullable = true)\n",
      " |    |    |-- address_name: array (nullable = true)\n",
      " |    |    |    |-- element: struct (containsNull = true)\n",
      " |    |    |    |    |-- address_spec: struct (nullable = true)\n",
      " |    |    |    |    |    |-- _addr_no: long (nullable = true)\n",
      " |    |    |    |    |    |-- city: string (nullable = true)\n",
      " |    |    |    |    |    |-- country: string (nullable = true)\n",
      " |    |    |    |    |    |-- full_address: string (nullable = true)\n",
      " |    |    |    |    |    |-- organizations: struct (nullable = true)\n",
      " |    |    |    |    |    |    |-- _count: long (nullable = true)\n",
      " |    |    |    |    |    |    |-- organization: array (nullable = true)\n",
      " |    |    |    |    |    |    |    |-- element: struct (containsNull = true)\n",
      " |    |    |    |    |    |    |    |    |-- _VALUE: string (nullable = true)\n",
      " |    |    |    |    |    |    |    |    |-- _pref: string (nullable = true)\n",
      " |    |    |    |    |    |-- state: string (nullable = true)\n",
      " |    |    |    |    |    |-- street: string (nullable = true)\n",
      " |    |    |    |    |    |-- suborganizations: struct (nullable = true)\n",
      " |    |    |    |    |    |    |-- _count: long (nullable = true)\n",
      " |    |    |    |    |    |    |-- suborganization: array (nullable = true)\n",
      " |    |    |    |    |    |    |    |-- element: string (containsNull = true)\n",
      " |    |    |    |    |    |-- zip: array (nullable = true)\n",
      " |    |    |    |    |    |    |-- element: struct (containsNull = true)\n",
      " |    |    |    |    |    |    |    |-- _VALUE: string (nullable = true)\n",
      " |    |    |    |    |    |    |    |-- _location: string (nullable = true)\n",
      " |    |    |    |    |-- names: struct (nullable = true)\n",
      " |    |    |    |    |    |-- _count: long (nullable = true)\n",
      " |    |    |    |    |    |-- name: array (nullable = true)\n",
      " |    |    |    |    |    |    |-- element: struct (containsNull = true)\n",
      " |    |    |    |    |    |    |    |-- _addr_no: long (nullable = true)\n",
      " |    |    |    |    |    |    |    |-- _orcid_id_tr: string (nullable = true)\n",
      " |    |    |    |    |    |    |    |-- _r_id: string (nullable = true)\n",
      " |    |    |    |    |    |    |    |-- _reprint: string (nullable = true)\n",
      " |    |    |    |    |    |    |    |-- _role: string (nullable = true)\n",
      " |    |    |    |    |    |    |    |-- _seq_no: long (nullable = true)\n",
      " |    |    |    |    |    |    |    |-- display_name: string (nullable = true)\n",
      " |    |    |    |    |    |    |    |-- email_addr: string (nullable = true)\n",
      " |    |    |    |    |    |    |    |-- first_name: string (nullable = true)\n",
      " |    |    |    |    |    |    |    |-- full_name: string (nullable = true)\n",
      " |    |    |    |    |    |    |    |-- last_name: string (nullable = true)\n",
      " |    |    |    |    |    |    |    |-- suffix: string (nullable = true)\n",
      " |    |    |    |    |    |    |    |-- wos_standard: string (nullable = true)\n",
      " |    |-- category_info: struct (nullable = true)\n",
      " |    |    |-- headings: struct (nullable = true)\n",
      " |    |    |    |-- _count: long (nullable = true)\n",
      " |    |    |    |-- heading: string (nullable = true)\n",
      " |    |    |-- subheadings: struct (nullable = true)\n",
      " |    |    |    |-- _count: long (nullable = true)\n",
      " |    |    |    |-- subheading: array (nullable = true)\n",
      " |    |    |    |    |-- element: string (containsNull = true)\n",
      " |    |    |-- subjects: struct (nullable = true)\n",
      " |    |    |    |-- _count: long (nullable = true)\n",
      " |    |    |    |-- subject: array (nullable = true)\n",
      " |    |    |    |    |-- element: struct (containsNull = true)\n",
      " |    |    |    |    |    |-- _VALUE: string (nullable = true)\n",
      " |    |    |    |    |    |-- _ascatype: string (nullable = true)\n",
      " |    |-- citedWork: string (nullable = true)\n",
      " |    |-- contributors: struct (nullable = true)\n",
      " |    |    |-- _count: long (nullable = true)\n",
      " |    |    |-- contributor: array (nullable = true)\n",
      " |    |    |    |-- element: struct (containsNull = true)\n",
      " |    |    |    |    |-- name: struct (nullable = true)\n",
      " |    |    |    |    |    |-- _orcid_id: string (nullable = true)\n",
      " |    |    |    |    |    |-- _r_id: string (nullable = true)\n",
      " |    |    |    |    |    |-- _role: string (nullable = true)\n",
      " |    |    |    |    |    |-- _seq_no: long (nullable = true)\n",
      " |    |    |    |    |    |-- display_name: string (nullable = true)\n",
      " |    |    |    |    |    |-- first_name: string (nullable = true)\n",
      " |    |    |    |    |    |-- full_name: string (nullable = true)\n",
      " |    |    |    |    |    |-- last_name: string (nullable = true)\n",
      " |    |-- fullrecord_metadata: struct (nullable = true)\n",
      " |    |    |-- abstracts: struct (nullable = true)\n",
      " |    |    |    |-- _count: long (nullable = true)\n",
      " |    |    |    |-- abstract: struct (nullable = true)\n",
      " |    |    |    |    |-- abstract_text: struct (nullable = true)\n",
      " |    |    |    |    |    |-- _count: long (nullable = true)\n",
      " |    |    |    |    |    |-- p: array (nullable = true)\n",
      " |    |    |    |    |    |    |-- element: string (containsNull = true)\n",
      " |    |    |-- addresses: struct (nullable = true)\n",
      " |    |    |    |-- _VALUE: string (nullable = true)\n",
      " |    |    |    |-- _count: long (nullable = true)\n",
      " |    |    |    |-- address_name: array (nullable = true)\n",
      " |    |    |    |    |-- element: struct (containsNull = true)\n",
      " |    |    |    |    |    |-- address_spec: struct (nullable = true)\n",
      " |    |    |    |    |    |    |-- _addr_no: long (nullable = true)\n",
      " |    |    |    |    |    |    |-- city: string (nullable = true)\n",
      " |    |    |    |    |    |    |-- country: string (nullable = true)\n",
      " |    |    |    |    |    |    |-- full_address: string (nullable = true)\n",
      " |    |    |    |    |    |    |-- organizations: struct (nullable = true)\n",
      " |    |    |    |    |    |    |    |-- _count: long (nullable = true)\n",
      " |    |    |    |    |    |    |    |-- organization: array (nullable = true)\n",
      " |    |    |    |    |    |    |    |    |-- element: struct (containsNull = true)\n",
      " |    |    |    |    |    |    |    |    |    |-- _VALUE: string (nullable = true)\n",
      " |    |    |    |    |    |    |    |    |    |-- _pref: string (nullable = true)\n",
      " |    |    |    |    |    |    |-- state: string (nullable = true)\n",
      " |    |    |    |    |    |    |-- street: string (nullable = true)\n",
      " |    |    |    |    |    |    |-- suborganizations: struct (nullable = true)\n",
      " |    |    |    |    |    |    |    |-- _count: long (nullable = true)\n",
      " |    |    |    |    |    |    |    |-- suborganization: array (nullable = true)\n",
      " |    |    |    |    |    |    |    |    |-- element: string (containsNull = true)\n",
      " |    |    |    |    |    |    |-- zip: array (nullable = true)\n",
      " |    |    |    |    |    |    |    |-- element: struct (containsNull = true)\n",
      " |    |    |    |    |    |    |    |    |-- _VALUE: string (nullable = true)\n",
      " |    |    |    |    |    |    |    |    |-- _location: string (nullable = true)\n",
      " |    |    |    |    |    |-- names: struct (nullable = true)\n",
      " |    |    |    |    |    |    |-- _count: long (nullable = true)\n",
      " |    |    |    |    |    |    |-- name: array (nullable = true)\n",
      " |    |    |    |    |    |    |    |-- element: struct (containsNull = true)\n",
      " |    |    |    |    |    |    |    |    |-- _addr_no: long (nullable = true)\n",
      " |    |    |    |    |    |    |    |    |-- _orcid_id_tr: string (nullable = true)\n",
      " |    |    |    |    |    |    |    |    |-- _r_id: string (nullable = true)\n",
      " |    |    |    |    |    |    |    |    |-- _reprint: string (nullable = true)\n",
      " |    |    |    |    |    |    |    |    |-- _role: string (nullable = true)\n",
      " |    |    |    |    |    |    |    |    |-- _seq_no: long (nullable = true)\n",
      " |    |    |    |    |    |    |    |    |-- display_name: string (nullable = true)\n",
      " |    |    |    |    |    |    |    |    |-- email_addr: string (nullable = true)\n",
      " |    |    |    |    |    |    |    |    |-- first_name: string (nullable = true)\n",
      " |    |    |    |    |    |    |    |    |-- full_name: string (nullable = true)\n",
      " |    |    |    |    |    |    |    |    |-- last_name: string (nullable = true)\n",
      " |    |    |    |    |    |    |    |    |-- suffix: string (nullable = true)\n",
      " |    |    |    |    |    |    |    |    |-- wos_standard: string (nullable = true)\n",
      " |    |    |-- category_info: struct (nullable = true)\n",
      " |    |    |    |-- headings: struct (nullable = true)\n",
      " |    |    |    |    |-- _count: long (nullable = true)\n",
      " |    |    |    |    |-- heading: array (nullable = true)\n",
      " |    |    |    |    |    |-- element: string (containsNull = true)\n",
      " |    |    |    |-- subheadings: struct (nullable = true)\n",
      " |    |    |    |    |-- _count: long (nullable = true)\n",
      " |    |    |    |    |-- subheading: array (nullable = true)\n",
      " |    |    |    |    |    |-- element: string (containsNull = true)\n",
      " |    |    |    |-- subjects: struct (nullable = true)\n",
      " |    |    |    |    |-- _count: long (nullable = true)\n",
      " |    |    |    |    |-- subject: array (nullable = true)\n",
      " |    |    |    |    |    |-- element: struct (containsNull = true)\n",
      " |    |    |    |    |    |    |-- _VALUE: string (nullable = true)\n",
      " |    |    |    |    |    |    |-- _ascatype: string (nullable = true)\n",
      " |    |    |-- citedWork: string (nullable = true)\n",
      " |    |    |-- fund_ack: struct (nullable = true)\n",
      " |    |    |    |-- fund_text: struct (nullable = true)\n",
      " |    |    |    |    |-- p: array (nullable = true)\n",
      " |    |    |    |    |    |-- element: string (containsNull = true)\n",
      " |    |    |    |-- grants: struct (nullable = true)\n",
      " |    |    |    |    |-- _count: long (nullable = true)\n",
      " |    |    |    |    |-- grant: array (nullable = true)\n",
      " |    |    |    |    |    |-- element: struct (containsNull = true)\n",
      " |    |    |    |    |    |    |-- grant_agency: string (nullable = true)\n",
      " |    |    |    |    |    |    |-- grant_ids: struct (nullable = true)\n",
      " |    |    |    |    |    |    |    |-- _count: long (nullable = true)\n",
      " |    |    |    |    |    |    |    |-- grant_id: array (nullable = true)\n",
      " |    |    |    |    |    |    |    |    |-- element: string (containsNull = true)\n",
      " |    |    |-- keywords: struct (nullable = true)\n",
      " |    |    |    |-- _count: long (nullable = true)\n",
      " |    |    |    |-- keyword: array (nullable = true)\n",
      " |    |    |    |    |-- element: string (containsNull = true)\n",
      " |    |    |-- languages: struct (nullable = true)\n",
      " |    |    |    |-- _count: long (nullable = true)\n",
      " |    |    |    |-- language: array (nullable = true)\n",
      " |    |    |    |    |-- element: struct (containsNull = true)\n",
      " |    |    |    |    |    |-- _VALUE: string (nullable = true)\n",
      " |    |    |    |    |    |-- _type: string (nullable = true)\n",
      " |    |    |-- normalized_doctypes: struct (nullable = true)\n",
      " |    |    |    |-- _count: long (nullable = true)\n",
      " |    |    |    |-- doctype: array (nullable = true)\n",
      " |    |    |    |    |-- element: string (containsNull = true)\n",
      " |    |    |-- normalized_languages: struct (nullable = true)\n",
      " |    |    |    |-- _count: long (nullable = true)\n",
      " |    |    |    |-- language: array (nullable = true)\n",
      " |    |    |    |    |-- element: struct (containsNull = true)\n",
      " |    |    |    |    |    |-- _VALUE: string (nullable = true)\n",
      " |    |    |    |    |    |-- _status: string (nullable = true)\n",
      " |    |    |    |    |    |-- _type: string (nullable = true)\n",
      " |    |    |-- reference: array (nullable = true)\n",
      " |    |    |    |-- element: struct (containsNull = true)\n",
      " |    |    |    |    |-- citedAuthor: string (nullable = true)\n",
      " |    |    |    |    |-- citedTitle: string (nullable = true)\n",
      " |    |    |    |    |-- citedWork: string (nullable = true)\n",
      " |    |    |    |    |-- doi: string (nullable = true)\n",
      " |    |    |    |    |-- i: array (nullable = true)\n",
      " |    |    |    |    |    |-- element: string (containsNull = true)\n",
      " |    |    |    |    |-- page: string (nullable = true)\n",
      " |    |    |    |    |-- sub: long (nullable = true)\n",
      " |    |    |    |    |-- uid: string (nullable = true)\n",
      " |    |    |    |    |-- volume: string (nullable = true)\n",
      " |    |    |    |    |-- year: string (nullable = true)\n",
      " |    |    |-- references: struct (nullable = true)\n",
      " |    |    |    |-- _VALUE: string (nullable = true)\n",
      " |    |    |    |-- _count: long (nullable = true)\n",
      " |    |    |    |-- citedWork: string (nullable = true)\n",
      " |    |    |    |-- reference: array (nullable = true)\n",
      " |    |    |    |    |-- element: struct (containsNull = true)\n",
      " |    |    |    |    |    |-- art_no: string (nullable = true)\n",
      " |    |    |    |    |    |-- assignee: string (nullable = true)\n",
      " |    |    |    |    |    |-- citedAuthor: string (nullable = true)\n",
      " |    |    |    |    |    |-- citedTitle: string (nullable = true)\n",
      " |    |    |    |    |    |-- citedWork: string (nullable = true)\n",
      " |    |    |    |    |    |-- doi: string (nullable = true)\n",
      " |    |    |    |    |    |-- i: array (nullable = true)\n",
      " |    |    |    |    |    |    |-- element: string (containsNull = true)\n",
      " |    |    |    |    |    |-- page: string (nullable = true)\n",
      " |    |    |    |    |    |-- patent_no: string (nullable = true)\n",
      " |    |    |    |    |    |-- sub: array (nullable = true)\n",
      " |    |    |    |    |    |    |-- element: long (containsNull = true)\n",
      " |    |    |    |    |    |-- sup: string (nullable = true)\n",
      " |    |    |    |    |    |-- uid: string (nullable = true)\n",
      " |    |    |    |    |    |-- volume: string (nullable = true)\n",
      " |    |    |    |    |    |-- year: string (nullable = true)\n",
      " |    |    |-- reprint_addresses: struct (nullable = true)\n",
      " |    |    |    |-- _count: long (nullable = true)\n",
      " |    |    |    |-- address_name: array (nullable = true)\n",
      " |    |    |    |    |-- element: struct (containsNull = true)\n",
      " |    |    |    |    |    |-- address_spec: struct (nullable = true)\n",
      " |    |    |    |    |    |    |-- _addr_no: long (nullable = true)\n",
      " |    |    |    |    |    |    |-- city: string (nullable = true)\n",
      " |    |    |    |    |    |    |-- country: string (nullable = true)\n",
      " |    |    |    |    |    |    |-- full_address: string (nullable = true)\n",
      " |    |    |    |    |    |    |-- organizations: struct (nullable = true)\n",
      " |    |    |    |    |    |    |    |-- _count: long (nullable = true)\n",
      " |    |    |    |    |    |    |    |-- organization: array (nullable = true)\n",
      " |    |    |    |    |    |    |    |    |-- element: struct (containsNull = true)\n",
      " |    |    |    |    |    |    |    |    |    |-- _VALUE: string (nullable = true)\n",
      " |    |    |    |    |    |    |    |    |    |-- _pref: string (nullable = true)\n",
      " |    |    |    |    |    |    |-- state: string (nullable = true)\n",
      " |    |    |    |    |    |    |-- street: string (nullable = true)\n",
      " |    |    |    |    |    |    |-- suborganizations: struct (nullable = true)\n",
      " |    |    |    |    |    |    |    |-- _count: long (nullable = true)\n",
      " |    |    |    |    |    |    |    |-- suborganization: array (nullable = true)\n",
      " |    |    |    |    |    |    |    |    |-- element: string (containsNull = true)\n",
      " |    |    |    |    |    |    |-- zip: array (nullable = true)\n",
      " |    |    |    |    |    |    |    |-- element: struct (containsNull = true)\n",
      " |    |    |    |    |    |    |    |    |-- _VALUE: string (nullable = true)\n",
      " |    |    |    |    |    |    |    |    |-- _location: string (nullable = true)\n",
      " |    |    |    |    |    |-- names: struct (nullable = true)\n",
      " |    |    |    |    |    |    |-- _count: long (nullable = true)\n",
      " |    |    |    |    |    |    |-- name: array (nullable = true)\n",
      " |    |    |    |    |    |    |    |-- element: struct (containsNull = true)\n",
      " |    |    |    |    |    |    |    |    |-- _addr_no: long (nullable = true)\n",
      " |    |    |    |    |    |    |    |    |-- _display: string (nullable = true)\n",
      " |    |    |    |    |    |    |    |    |-- _reprint: string (nullable = true)\n",
      " |    |    |    |    |    |    |    |    |-- _role: string (nullable = true)\n",
      " |    |    |    |    |    |    |    |    |-- _seq_no: long (nullable = true)\n",
      " |    |    |    |    |    |    |    |    |-- display_name: string (nullable = true)\n",
      " |    |    |    |    |    |    |    |    |-- email_addr: string (nullable = true)\n",
      " |    |    |    |    |    |    |    |    |-- first_name: string (nullable = true)\n",
      " |    |    |    |    |    |    |    |    |-- full_name: string (nullable = true)\n",
      " |    |    |    |    |    |    |    |    |-- last_name: string (nullable = true)\n",
      " |    |    |    |    |    |    |    |    |-- suffix: string (nullable = true)\n",
      " |    |    |    |    |    |    |    |    |-- wos_standard: string (nullable = true)\n",
      " |    |-- fund_ack: struct (nullable = true)\n",
      " |    |    |-- fund_text: struct (nullable = true)\n",
      " |    |    |    |-- p: string (nullable = true)\n",
      " |    |    |-- grants: struct (nullable = true)\n",
      " |    |    |    |-- _count: long (nullable = true)\n",
      " |    |    |    |-- grant: array (nullable = true)\n",
      " |    |    |    |    |-- element: struct (containsNull = true)\n",
      " |    |    |    |    |    |-- grant_agency: string (nullable = true)\n",
      " |    |    |    |    |    |-- grant_ids: struct (nullable = true)\n",
      " |    |    |    |    |    |    |-- _count: long (nullable = true)\n",
      " |    |    |    |    |    |    |-- grant_id: array (nullable = true)\n",
      " |    |    |    |    |    |    |    |-- element: string (containsNull = true)\n",
      " |    |-- item: struct (nullable = true)\n",
      " |    |    |-- _xmlns:xsi: string (nullable = true)\n",
      " |    |    |-- _xsi:type: string (nullable = true)\n",
      " |    |    |-- bib_id: string (nullable = true)\n",
      " |    |    |-- bib_pagecount: struct (nullable = true)\n",
      " |    |    |    |-- _VALUE: long (nullable = true)\n",
      " |    |    |    |-- _type: string (nullable = true)\n",
      " |    |    |-- book_chapters: long (nullable = true)\n",
      " |    |    |-- book_desc: array (nullable = true)\n",
      " |    |    |    |-- element: struct (containsNull = true)\n",
      " |    |    |    |    |-- bk_binding: string (nullable = true)\n",
      " |    |    |    |    |-- bk_ordering: string (nullable = true)\n",
      " |    |    |    |    |-- bk_prepay: string (nullable = true)\n",
      " |    |    |    |    |-- bk_price: struct (nullable = true)\n",
      " |    |    |    |    |    |-- _VALUE: string (nullable = true)\n",
      " |    |    |    |    |    |-- _amount: double (nullable = true)\n",
      " |    |    |    |    |    |-- _currency: string (nullable = true)\n",
      " |    |    |    |    |    |-- _desc: string (nullable = true)\n",
      " |    |    |    |    |    |-- _volumes: long (nullable = true)\n",
      " |    |    |    |    |-- bk_publisher: string (nullable = true)\n",
      " |    |    |-- book_notes: struct (nullable = true)\n",
      " |    |    |    |-- _count: long (nullable = true)\n",
      " |    |    |    |-- book_note: array (nullable = true)\n",
      " |    |    |    |    |-- element: string (containsNull = true)\n",
      " |    |    |-- book_pages: long (nullable = true)\n",
      " |    |    |-- ids: struct (nullable = true)\n",
      " |    |    |    |-- _VALUE: string (nullable = true)\n",
      " |    |    |    |-- _avail: string (nullable = true)\n",
      " |    |    |-- keywords_plus: struct (nullable = true)\n",
      " |    |    |    |-- _count: long (nullable = true)\n",
      " |    |    |    |-- keyword: array (nullable = true)\n",
      " |    |    |    |    |-- element: string (containsNull = true)\n",
      " |    |    |-- reviewed_work: struct (nullable = true)\n",
      " |    |    |    |-- languages: struct (nullable = true)\n",
      " |    |    |    |    |-- _count: long (nullable = true)\n",
      " |    |    |    |    |-- language: string (nullable = true)\n",
      " |    |    |    |-- rw_authors: struct (nullable = true)\n",
      " |    |    |    |    |-- _count: long (nullable = true)\n",
      " |    |    |    |    |-- rw_author: array (nullable = true)\n",
      " |    |    |    |    |    |-- element: string (containsNull = true)\n",
      " |    |    |    |-- rw_year: long (nullable = true)\n",
      " |    |-- keywords: struct (nullable = true)\n",
      " |    |    |-- _count: long (nullable = true)\n",
      " |    |    |-- keyword: array (nullable = true)\n",
      " |    |    |    |-- element: string (containsNull = true)\n",
      " |    |-- reference: array (nullable = true)\n",
      " |    |    |-- element: struct (containsNull = true)\n",
      " |    |    |    |-- citedAuthor: string (nullable = true)\n",
      " |    |    |    |-- citedTitle: string (nullable = true)\n",
      " |    |    |    |-- citedWork: string (nullable = true)\n",
      " |    |    |    |-- doi: string (nullable = true)\n",
      " |    |    |    |-- i: array (nullable = true)\n",
      " |    |    |    |    |-- element: string (containsNull = true)\n",
      " |    |    |    |-- page: string (nullable = true)\n",
      " |    |    |    |-- uid: string (nullable = true)\n",
      " |    |    |    |-- volume: long (nullable = true)\n",
      " |    |    |    |-- year: long (nullable = true)\n",
      " |    |-- reprint_addresses: struct (nullable = true)\n",
      " |    |    |-- _count: long (nullable = true)\n",
      " |    |    |-- address_name: array (nullable = true)\n",
      " |    |    |    |-- element: struct (containsNull = true)\n",
      " |    |    |    |    |-- address_spec: struct (nullable = true)\n",
      " |    |    |    |    |    |-- _addr_no: long (nullable = true)\n",
      " |    |    |    |    |    |-- city: string (nullable = true)\n",
      " |    |    |    |    |    |-- country: string (nullable = true)\n",
      " |    |    |    |    |    |-- full_address: string (nullable = true)\n",
      " |    |    |    |    |    |-- organizations: struct (nullable = true)\n",
      " |    |    |    |    |    |    |-- _count: long (nullable = true)\n",
      " |    |    |    |    |    |    |-- organization: array (nullable = true)\n",
      " |    |    |    |    |    |    |    |-- element: struct (containsNull = true)\n",
      " |    |    |    |    |    |    |    |    |-- _VALUE: string (nullable = true)\n",
      " |    |    |    |    |    |    |    |    |-- _pref: string (nullable = true)\n",
      " |    |    |    |    |    |-- state: string (nullable = true)\n",
      " |    |    |    |    |    |-- street: string (nullable = true)\n",
      " |    |    |    |    |    |-- suborganizations: struct (nullable = true)\n",
      " |    |    |    |    |    |    |-- _count: long (nullable = true)\n",
      " |    |    |    |    |    |    |-- suborganization: array (nullable = true)\n",
      " |    |    |    |    |    |    |    |-- element: string (containsNull = true)\n",
      " |    |    |    |    |    |-- zip: array (nullable = true)\n",
      " |    |    |    |    |    |    |-- element: struct (containsNull = true)\n",
      " |    |    |    |    |    |    |    |-- _VALUE: string (nullable = true)\n",
      " |    |    |    |    |    |    |    |-- _location: string (nullable = true)\n",
      " |    |    |    |    |-- names: struct (nullable = true)\n",
      " |    |    |    |    |    |-- _count: long (nullable = true)\n",
      " |    |    |    |    |    |-- name: array (nullable = true)\n",
      " |    |    |    |    |    |    |-- element: struct (containsNull = true)\n",
      " |    |    |    |    |    |    |    |-- _addr_no: long (nullable = true)\n",
      " |    |    |    |    |    |    |    |-- _display: string (nullable = true)\n",
      " |    |    |    |    |    |    |    |-- _reprint: string (nullable = true)\n",
      " |    |    |    |    |    |    |    |-- _role: string (nullable = true)\n",
      " |    |    |    |    |    |    |    |-- _seq_no: long (nullable = true)\n",
      " |    |    |    |    |    |    |    |-- display_name: string (nullable = true)\n",
      " |    |    |    |    |    |    |    |-- email_addr: string (nullable = true)\n",
      " |    |    |    |    |    |    |    |-- first_name: string (nullable = true)\n",
      " |    |    |    |    |    |    |    |-- full_name: string (nullable = true)\n",
      " |    |    |    |    |    |    |    |-- last_name: string (nullable = true)\n",
      " |    |    |    |    |    |    |    |-- suffix: string (nullable = true)\n",
      " |    |    |    |    |    |    |    |-- wos_standard: string (nullable = true)\n",
      " |    |-- summary: struct (nullable = true)\n",
      " |    |    |-- EWUID: struct (nullable = true)\n",
      " |    |    |    |-- WUID: struct (nullable = true)\n",
      " |    |    |    |    |-- _VALUE: string (nullable = true)\n",
      " |    |    |    |    |-- _coll_id: string (nullable = true)\n",
      " |    |    |    |-- edition: array (nullable = true)\n",
      " |    |    |    |    |-- element: struct (containsNull = true)\n",
      " |    |    |    |    |    |-- _VALUE: string (nullable = true)\n",
      " |    |    |    |    |    |-- _value: string (nullable = true)\n",
      " |    |    |-- conferences: struct (nullable = true)\n",
      " |    |    |    |-- _count: long (nullable = true)\n",
      " |    |    |    |-- conference: struct (nullable = true)\n",
      " |    |    |    |    |-- _conf_id: long (nullable = true)\n",
      " |    |    |    |    |-- conf_dates: struct (nullable = true)\n",
      " |    |    |    |    |    |-- _count: long (nullable = true)\n",
      " |    |    |    |    |    |-- conf_date: struct (nullable = true)\n",
      " |    |    |    |    |    |    |-- _VALUE: string (nullable = true)\n",
      " |    |    |    |    |    |    |-- _conf_end: long (nullable = true)\n",
      " |    |    |    |    |    |    |-- _conf_start: long (nullable = true)\n",
      " |    |    |    |    |-- conf_infos: struct (nullable = true)\n",
      " |    |    |    |    |    |-- _count: long (nullable = true)\n",
      " |    |    |    |    |    |-- conf_info: string (nullable = true)\n",
      " |    |    |    |    |-- conf_locations: struct (nullable = true)\n",
      " |    |    |    |    |    |-- _count: long (nullable = true)\n",
      " |    |    |    |    |    |-- conf_location: struct (nullable = true)\n",
      " |    |    |    |    |    |    |-- conf_city: string (nullable = true)\n",
      " |    |    |    |    |    |    |-- conf_host: string (nullable = true)\n",
      " |    |    |    |    |    |    |-- conf_state: string (nullable = true)\n",
      " |    |    |    |    |-- conf_titles: struct (nullable = true)\n",
      " |    |    |    |    |    |-- _count: long (nullable = true)\n",
      " |    |    |    |    |    |-- conf_title: string (nullable = true)\n",
      " |    |    |    |    |-- sponsors: struct (nullable = true)\n",
      " |    |    |    |    |    |-- _count: long (nullable = true)\n",
      " |    |    |    |    |    |-- sponsor: array (nullable = true)\n",
      " |    |    |    |    |    |    |-- element: string (containsNull = true)\n",
      " |    |    |-- doctypes: struct (nullable = true)\n",
      " |    |    |    |-- _count: long (nullable = true)\n",
      " |    |    |    |-- doctype: array (nullable = true)\n",
      " |    |    |    |    |-- element: string (containsNull = true)\n",
      " |    |    |-- names: struct (nullable = true)\n",
      " |    |    |    |-- _count: long (nullable = true)\n",
      " |    |    |    |-- name: array (nullable = true)\n",
      " |    |    |    |    |-- element: struct (containsNull = true)\n",
      " |    |    |    |    |    |-- _addr_no: string (nullable = true)\n",
      " |    |    |    |    |    |-- _orcid_id_tr: string (nullable = true)\n",
      " |    |    |    |    |    |-- _reprint: string (nullable = true)\n",
      " |    |    |    |    |    |-- _role: string (nullable = true)\n",
      " |    |    |    |    |    |-- _seq_no: long (nullable = true)\n",
      " |    |    |    |    |    |-- display_name: string (nullable = true)\n",
      " |    |    |    |    |    |-- email_addr: string (nullable = true)\n",
      " |    |    |    |    |    |-- first_name: string (nullable = true)\n",
      " |    |    |    |    |    |-- full_name: string (nullable = true)\n",
      " |    |    |    |    |    |-- last_name: string (nullable = true)\n",
      " |    |    |    |    |    |-- suffix: string (nullable = true)\n",
      " |    |    |    |    |    |-- wos_standard: string (nullable = true)\n",
      " |    |    |-- pub_info: struct (nullable = true)\n",
      " |    |    |    |-- _coverdate: string (nullable = true)\n",
      " |    |    |    |-- _early_access_date: string (nullable = true)\n",
      " |    |    |    |-- _early_access_month: long (nullable = true)\n",
      " |    |    |    |-- _early_access_year: long (nullable = true)\n",
      " |    |    |    |-- _has_abstract: string (nullable = true)\n",
      " |    |    |    |-- _issue: string (nullable = true)\n",
      " |    |    |    |-- _part_no: string (nullable = true)\n",
      " |    |    |    |-- _pubmonth: string (nullable = true)\n",
      " |    |    |    |-- _pubtype: string (nullable = true)\n",
      " |    |    |    |-- _pubyear: long (nullable = true)\n",
      " |    |    |    |-- _sortdate: string (nullable = true)\n",
      " |    |    |    |-- _special_issue: string (nullable = true)\n",
      " |    |    |    |-- _supplement: string (nullable = true)\n",
      " |    |    |    |-- _vol: string (nullable = true)\n",
      " |    |    |    |-- page: struct (nullable = true)\n",
      " |    |    |    |    |-- _VALUE: string (nullable = true)\n",
      " |    |    |    |    |-- _begin: string (nullable = true)\n",
      " |    |    |    |    |-- _end: string (nullable = true)\n",
      " |    |    |    |    |-- _page_count: long (nullable = true)\n",
      " |    |    |-- publishers: struct (nullable = true)\n",
      " |    |    |    |-- publisher: struct (nullable = true)\n",
      " |    |    |    |    |-- address_spec: struct (nullable = true)\n",
      " |    |    |    |    |    |-- _addr_no: long (nullable = true)\n",
      " |    |    |    |    |    |-- city: string (nullable = true)\n",
      " |    |    |    |    |    |-- full_address: string (nullable = true)\n",
      " |    |    |    |    |-- names: struct (nullable = true)\n",
      " |    |    |    |    |    |-- _count: long (nullable = true)\n",
      " |    |    |    |    |    |-- name: struct (nullable = true)\n",
      " |    |    |    |    |    |    |-- _addr_no: long (nullable = true)\n",
      " |    |    |    |    |    |    |-- _role: string (nullable = true)\n",
      " |    |    |    |    |    |    |-- _seq_no: long (nullable = true)\n",
      " |    |    |    |    |    |    |-- display_name: string (nullable = true)\n",
      " |    |    |    |    |    |    |-- full_name: string (nullable = true)\n",
      " |    |    |-- titles: struct (nullable = true)\n",
      " |    |    |    |-- _count: long (nullable = true)\n",
      " |    |    |    |-- title: array (nullable = true)\n",
      " |    |    |    |    |-- element: struct (containsNull = true)\n",
      " |    |    |    |    |    |-- _VALUE: string (nullable = true)\n",
      " |    |    |    |    |    |-- _translated: string (nullable = true)\n",
      " |    |    |    |    |    |-- _type: string (nullable = true)\n",
      "\n"
     ]
    },
    {
     "data": {
      "text/plain": [
       "df = [UID: string, _r_id_disclaimer: string ... 12 more fields]\n"
      ]
     },
     "metadata": {},
     "output_type": "display_data",
     "source": "user"
    },
    {
     "data": {
      "text/plain": [
       "[UID: string, _r_id_disclaimer: string ... 12 more fields]"
      ]
     },
     "execution_count": 3,
     "metadata": {},
     "output_type": "execute_result"
    }
   ],
   "source": [
    "//val sqlContext = new SQLContext(sc)\n",
    "val df = sqlContext.read\n",
    "  .format(\"com.databricks.spark.xml\")\n",
    "  .option(\"rowTag\", \"REC\")\n",
    "  //.schema(customSchema)\n",
    "  .load(\"/dataRCSC/*.xml\")\n",
    "\n",
    "df.show(2)\n",
    "df.printSchema()"
   ]
  },
  {
   "cell_type": "code",
   "execution_count": 4,
   "metadata": {},
   "outputs": [
    {
     "name": "stdout",
     "output_type": "stream",
     "text": [
      "root\n",
      " |-- UID: string (nullable = true)\n",
      " |-- identifier: array (nullable = true)\n",
      " |    |-- element: struct (containsNull = true)\n",
      " |    |    |-- _VALUE: string (nullable = true)\n",
      " |    |    |-- _type: string (nullable = true)\n",
      " |    |    |-- _value: string (nullable = true)\n",
      " |-- doctype: array (nullable = true)\n",
      " |    |-- element: string (containsNull = true)\n",
      " |-- name: array (nullable = true)\n",
      " |    |-- element: struct (containsNull = true)\n",
      " |    |    |-- _addr_no: string (nullable = true)\n",
      " |    |    |-- _orcid_id_tr: string (nullable = true)\n",
      " |    |    |-- _reprint: string (nullable = true)\n",
      " |    |    |-- _role: string (nullable = true)\n",
      " |    |    |-- _seq_no: long (nullable = true)\n",
      " |    |    |-- display_name: string (nullable = true)\n",
      " |    |    |-- email_addr: string (nullable = true)\n",
      " |    |    |-- first_name: string (nullable = true)\n",
      " |    |    |-- full_name: string (nullable = true)\n",
      " |    |    |-- last_name: string (nullable = true)\n",
      " |    |    |-- suffix: string (nullable = true)\n",
      " |    |    |-- wos_standard: string (nullable = true)\n",
      " |-- titles: struct (nullable = true)\n",
      " |    |-- _count: long (nullable = true)\n",
      " |    |-- title: array (nullable = true)\n",
      " |    |    |-- element: struct (containsNull = true)\n",
      " |    |    |    |-- _VALUE: string (nullable = true)\n",
      " |    |    |    |-- _translated: string (nullable = true)\n",
      " |    |    |    |-- _type: string (nullable = true)\n",
      " |-- conference: struct (nullable = true)\n",
      " |    |-- _conf_id: long (nullable = true)\n",
      " |    |-- conf_dates: struct (nullable = true)\n",
      " |    |    |-- _count: long (nullable = true)\n",
      " |    |    |-- conf_date: struct (nullable = true)\n",
      " |    |    |    |-- _VALUE: string (nullable = true)\n",
      " |    |    |    |-- _conf_end: long (nullable = true)\n",
      " |    |    |    |-- _conf_start: long (nullable = true)\n",
      " |    |-- conf_infos: struct (nullable = true)\n",
      " |    |    |-- _count: long (nullable = true)\n",
      " |    |    |-- conf_info: string (nullable = true)\n",
      " |    |-- conf_locations: struct (nullable = true)\n",
      " |    |    |-- _count: long (nullable = true)\n",
      " |    |    |-- conf_location: struct (nullable = true)\n",
      " |    |    |    |-- conf_city: string (nullable = true)\n",
      " |    |    |    |-- conf_host: string (nullable = true)\n",
      " |    |    |    |-- conf_state: string (nullable = true)\n",
      " |    |-- conf_titles: struct (nullable = true)\n",
      " |    |    |-- _count: long (nullable = true)\n",
      " |    |    |-- conf_title: string (nullable = true)\n",
      " |    |-- sponsors: struct (nullable = true)\n",
      " |    |    |-- _count: long (nullable = true)\n",
      " |    |    |-- sponsor: array (nullable = true)\n",
      " |    |    |    |-- element: string (containsNull = true)\n",
      " |-- address_name: array (nullable = true)\n",
      " |    |-- element: struct (containsNull = true)\n",
      " |    |    |-- address_spec: struct (nullable = true)\n",
      " |    |    |    |-- _addr_no: long (nullable = true)\n",
      " |    |    |    |-- city: string (nullable = true)\n",
      " |    |    |    |-- country: string (nullable = true)\n",
      " |    |    |    |-- full_address: string (nullable = true)\n",
      " |    |    |    |-- organizations: struct (nullable = true)\n",
      " |    |    |    |    |-- _count: long (nullable = true)\n",
      " |    |    |    |    |-- organization: array (nullable = true)\n",
      " |    |    |    |    |    |-- element: struct (containsNull = true)\n",
      " |    |    |    |    |    |    |-- _VALUE: string (nullable = true)\n",
      " |    |    |    |    |    |    |-- _pref: string (nullable = true)\n",
      " |    |    |    |-- state: string (nullable = true)\n",
      " |    |    |    |-- street: string (nullable = true)\n",
      " |    |    |    |-- suborganizations: struct (nullable = true)\n",
      " |    |    |    |    |-- _count: long (nullable = true)\n",
      " |    |    |    |    |-- suborganization: array (nullable = true)\n",
      " |    |    |    |    |    |-- element: string (containsNull = true)\n",
      " |    |    |    |-- zip: array (nullable = true)\n",
      " |    |    |    |    |-- element: struct (containsNull = true)\n",
      " |    |    |    |    |    |-- _VALUE: string (nullable = true)\n",
      " |    |    |    |    |    |-- _location: string (nullable = true)\n",
      " |    |    |-- names: struct (nullable = true)\n",
      " |    |    |    |-- _count: long (nullable = true)\n",
      " |    |    |    |-- name: array (nullable = true)\n",
      " |    |    |    |    |-- element: struct (containsNull = true)\n",
      " |    |    |    |    |    |-- _addr_no: long (nullable = true)\n",
      " |    |    |    |    |    |-- _orcid_id_tr: string (nullable = true)\n",
      " |    |    |    |    |    |-- _r_id: string (nullable = true)\n",
      " |    |    |    |    |    |-- _reprint: string (nullable = true)\n",
      " |    |    |    |    |    |-- _role: string (nullable = true)\n",
      " |    |    |    |    |    |-- _seq_no: long (nullable = true)\n",
      " |    |    |    |    |    |-- display_name: string (nullable = true)\n",
      " |    |    |    |    |    |-- email_addr: string (nullable = true)\n",
      " |    |    |    |    |    |-- first_name: string (nullable = true)\n",
      " |    |    |    |    |    |-- full_name: string (nullable = true)\n",
      " |    |    |    |    |    |-- last_name: string (nullable = true)\n",
      " |    |    |    |    |    |-- suffix: string (nullable = true)\n",
      " |    |    |    |    |    |-- wos_standard: string (nullable = true)\n",
      " |-- reprint_addresses: struct (nullable = true)\n",
      " |    |-- _count: long (nullable = true)\n",
      " |    |-- address_name: array (nullable = true)\n",
      " |    |    |-- element: struct (containsNull = true)\n",
      " |    |    |    |-- address_spec: struct (nullable = true)\n",
      " |    |    |    |    |-- _addr_no: long (nullable = true)\n",
      " |    |    |    |    |-- city: string (nullable = true)\n",
      " |    |    |    |    |-- country: string (nullable = true)\n",
      " |    |    |    |    |-- full_address: string (nullable = true)\n",
      " |    |    |    |    |-- organizations: struct (nullable = true)\n",
      " |    |    |    |    |    |-- _count: long (nullable = true)\n",
      " |    |    |    |    |    |-- organization: array (nullable = true)\n",
      " |    |    |    |    |    |    |-- element: struct (containsNull = true)\n",
      " |    |    |    |    |    |    |    |-- _VALUE: string (nullable = true)\n",
      " |    |    |    |    |    |    |    |-- _pref: string (nullable = true)\n",
      " |    |    |    |    |-- state: string (nullable = true)\n",
      " |    |    |    |    |-- street: string (nullable = true)\n",
      " |    |    |    |    |-- suborganizations: struct (nullable = true)\n",
      " |    |    |    |    |    |-- _count: long (nullable = true)\n",
      " |    |    |    |    |    |-- suborganization: array (nullable = true)\n",
      " |    |    |    |    |    |    |-- element: string (containsNull = true)\n",
      " |    |    |    |    |-- zip: array (nullable = true)\n",
      " |    |    |    |    |    |-- element: struct (containsNull = true)\n",
      " |    |    |    |    |    |    |-- _VALUE: string (nullable = true)\n",
      " |    |    |    |    |    |    |-- _location: string (nullable = true)\n",
      " |    |    |    |-- names: struct (nullable = true)\n",
      " |    |    |    |    |-- _count: long (nullable = true)\n",
      " |    |    |    |    |-- name: array (nullable = true)\n",
      " |    |    |    |    |    |-- element: struct (containsNull = true)\n",
      " |    |    |    |    |    |    |-- _addr_no: long (nullable = true)\n",
      " |    |    |    |    |    |    |-- _display: string (nullable = true)\n",
      " |    |    |    |    |    |    |-- _reprint: string (nullable = true)\n",
      " |    |    |    |    |    |    |-- _role: string (nullable = true)\n",
      " |    |    |    |    |    |    |-- _seq_no: long (nullable = true)\n",
      " |    |    |    |    |    |    |-- display_name: string (nullable = true)\n",
      " |    |    |    |    |    |    |-- email_addr: string (nullable = true)\n",
      " |    |    |    |    |    |    |-- first_name: string (nullable = true)\n",
      " |    |    |    |    |    |    |-- full_name: string (nullable = true)\n",
      " |    |    |    |    |    |    |-- last_name: string (nullable = true)\n",
      " |    |    |    |    |    |    |-- suffix: string (nullable = true)\n",
      " |    |    |    |    |    |    |-- wos_standard: string (nullable = true)\n",
      " |-- abstract_text: struct (nullable = true)\n",
      " |    |-- _count: long (nullable = true)\n",
      " |    |-- p: array (nullable = true)\n",
      " |    |    |-- element: string (containsNull = true)\n",
      " |-- keyword: array (nullable = true)\n",
      " |    |-- element: string (containsNull = true)\n",
      " |-- reference: array (nullable = true)\n",
      " |    |-- element: struct (containsNull = true)\n",
      " |    |    |-- art_no: string (nullable = true)\n",
      " |    |    |-- assignee: string (nullable = true)\n",
      " |    |    |-- citedAuthor: string (nullable = true)\n",
      " |    |    |-- citedTitle: string (nullable = true)\n",
      " |    |    |-- citedWork: string (nullable = true)\n",
      " |    |    |-- doi: string (nullable = true)\n",
      " |    |    |-- i: array (nullable = true)\n",
      " |    |    |    |-- element: string (containsNull = true)\n",
      " |    |    |-- page: string (nullable = true)\n",
      " |    |    |-- patent_no: string (nullable = true)\n",
      " |    |    |-- sub: array (nullable = true)\n",
      " |    |    |    |-- element: long (containsNull = true)\n",
      " |    |    |-- sup: string (nullable = true)\n",
      " |    |    |-- uid: string (nullable = true)\n",
      " |    |    |-- volume: string (nullable = true)\n",
      " |    |    |-- year: string (nullable = true)\n",
      " |-- contributor: array (nullable = true)\n",
      " |    |-- element: struct (containsNull = true)\n",
      " |    |    |-- name: struct (nullable = true)\n",
      " |    |    |    |-- _orcid_id: string (nullable = true)\n",
      " |    |    |    |-- _r_id: string (nullable = true)\n",
      " |    |    |    |-- _role: string (nullable = true)\n",
      " |    |    |    |-- _seq_no: long (nullable = true)\n",
      " |    |    |    |-- display_name: string (nullable = true)\n",
      " |    |    |    |-- first_name: string (nullable = true)\n",
      " |    |    |    |-- full_name: string (nullable = true)\n",
      " |    |    |    |-- last_name: string (nullable = true)\n",
      " |-- EWUID: struct (nullable = true)\n",
      " |    |-- WUID: struct (nullable = true)\n",
      " |    |    |-- _VALUE: string (nullable = true)\n",
      " |    |    |-- _coll_id: string (nullable = true)\n",
      " |    |-- edition: array (nullable = true)\n",
      " |    |    |-- element: struct (containsNull = true)\n",
      " |    |    |    |-- _VALUE: string (nullable = true)\n",
      " |    |    |    |-- _value: string (nullable = true)\n",
      " |-- pub_info: struct (nullable = true)\n",
      " |    |-- _coverdate: string (nullable = true)\n",
      " |    |-- _early_access_date: string (nullable = true)\n",
      " |    |-- _early_access_month: long (nullable = true)\n",
      " |    |-- _early_access_year: long (nullable = true)\n",
      " |    |-- _has_abstract: string (nullable = true)\n",
      " |    |-- _issue: string (nullable = true)\n",
      " |    |-- _part_no: string (nullable = true)\n",
      " |    |-- _pubmonth: string (nullable = true)\n",
      " |    |-- _pubtype: string (nullable = true)\n",
      " |    |-- _pubyear: long (nullable = true)\n",
      " |    |-- _sortdate: string (nullable = true)\n",
      " |    |-- _special_issue: string (nullable = true)\n",
      " |    |-- _supplement: string (nullable = true)\n",
      " |    |-- _vol: string (nullable = true)\n",
      " |    |-- page: struct (nullable = true)\n",
      " |    |    |-- _VALUE: string (nullable = true)\n",
      " |    |    |-- _begin: string (nullable = true)\n",
      " |    |    |-- _end: string (nullable = true)\n",
      " |    |    |-- _page_count: long (nullable = true)\n",
      " |-- publishers: struct (nullable = true)\n",
      " |    |-- publisher: struct (nullable = true)\n",
      " |    |    |-- address_spec: struct (nullable = true)\n",
      " |    |    |    |-- _addr_no: long (nullable = true)\n",
      " |    |    |    |-- city: string (nullable = true)\n",
      " |    |    |    |-- full_address: string (nullable = true)\n",
      " |    |    |-- names: struct (nullable = true)\n",
      " |    |    |    |-- _count: long (nullable = true)\n",
      " |    |    |    |-- name: struct (nullable = true)\n",
      " |    |    |    |    |-- _addr_no: long (nullable = true)\n",
      " |    |    |    |    |-- _role: string (nullable = true)\n",
      " |    |    |    |    |-- _seq_no: long (nullable = true)\n",
      " |    |    |    |    |-- display_name: string (nullable = true)\n",
      " |    |    |    |    |-- full_name: string (nullable = true)\n",
      " |-- fund_ack: struct (nullable = true)\n",
      " |    |-- fund_text: struct (nullable = true)\n",
      " |    |    |-- p: array (nullable = true)\n",
      " |    |    |    |-- element: string (containsNull = true)\n",
      " |    |-- grants: struct (nullable = true)\n",
      " |    |    |-- _count: long (nullable = true)\n",
      " |    |    |-- grant: array (nullable = true)\n",
      " |    |    |    |-- element: struct (containsNull = true)\n",
      " |    |    |    |    |-- grant_agency: string (nullable = true)\n",
      " |    |    |    |    |-- grant_ids: struct (nullable = true)\n",
      " |    |    |    |    |    |-- _count: long (nullable = true)\n",
      " |    |    |    |    |    |-- grant_id: array (nullable = true)\n",
      " |    |    |    |    |    |    |-- element: string (containsNull = true)\n",
      "\n"
     ]
    },
    {
     "data": {
      "text/plain": [
       "WoS2 = [UID: string, identifier: array<struct<_VALUE:string,_type:string,_value:string>> ... 14 more fields]\n"
      ]
     },
     "metadata": {},
     "output_type": "display_data",
     "source": "user"
    },
    {
     "data": {
      "text/plain": [
       "[UID: string, identifier: array<struct<_VALUE:string,_type:string,_value:string>> ... 14 more fields]"
      ]
     },
     "execution_count": 4,
     "metadata": {},
     "output_type": "execute_result"
    }
   ],
   "source": [
    "val WoS2 = df.select(\"UID\",\"dynamic_data.cluster_related.identifiers.identifier\",\"static_data.summary.doctypes.doctype\",\n",
    "                      \"static_data.summary.names.name\",\"static_data.summary.titles\",\"static_data.summary.conferences.conference\",\n",
    "                      \"static_data.fullrecord_metadata.addresses.address_name\", \"static_data.fullrecord_metadata.reprint_addresses\",\n",
    "                      \"static_data.fullrecord_metadata.abstracts.abstract.abstract_text\",\n",
    "                      \"static_data.fullrecord_metadata.keywords.keyword\",\"static_data.fullrecord_metadata.references.reference\",\n",
    "                      \"static_data.contributors.contributor\",\"static_data.summary.EWUID\",\n",
    "                      \"static_data.summary.pub_info\",\"static_data.summary.publishers\",\"static_data.fullrecord_metadata.fund_ack\")\n",
    "WoS2.printSchema"
   ]
  },
  {
   "cell_type": "code",
   "execution_count": 7,
   "metadata": {},
   "outputs": [
    {
     "data": {
      "text/plain": [
       "WoSref = [citing: string, refList: array<string> ... 1 more field]\n"
      ]
     },
     "metadata": {},
     "output_type": "display_data",
     "source": "user"
    },
    {
     "data": {
      "text/plain": [
       "[citing: string, refList: array<string> ... 1 more field]"
      ]
     },
     "execution_count": 7,
     "metadata": {},
     "output_type": "execute_result"
    }
   ],
   "source": [
    "import scala.util.Try\n",
    "import org.apache.spark.sql.functions._\n",
    "import org.apache.spark.sql.{Row, SQLContext}\n",
    "import org.apache.spark.sql.functions.countDistinct\n",
    "import org.apache.spark.sql.SaveMode\n",
    "\n",
    "//WoS2.write.mode(SaveMode.Overwrite).json(\"/dataRCSC/WoS_json\")\n",
    "val WoSref = WoS2.select(\"UID\",\"reference.uid\").toDF(\"citing\",\"refList\").withColumn(\"cited\", explode(col(\"refList\")))\n",
    "WoSref.select(\"citing\",\"cited\").orderBy($\"cited\".desc).coalesce(1).write.mode(SaveMode.Overwrite)\n",
    "    .format(\"com.databricks.spark.csv\")\n",
    "    .option(\"header\", \"true\").option(\"compression\", \"gzip\")\n",
    "    .save(\"/dataRCSC/WoS_json/citeEdges.csv/\")"
   ]
  },
  {
   "cell_type": "code",
   "execution_count": 6,
   "metadata": {},
   "outputs": [
    {
     "data": {
      "text/plain": [
       "WoSref = [citing: string, refList: array<string> ... 1 more field]\n"
      ]
     },
     "metadata": {},
     "output_type": "display_data",
     "source": "user"
    },
    {
     "data": {
      "text/plain": [
       "[citing: string, refList: array<string> ... 1 more field]"
      ]
     },
     "execution_count": 6,
     "metadata": {},
     "output_type": "execute_result"
    }
   ],
   "source": [
    "val WoSref = WoS2.select(\"UID\",\"reference.uid\").toDF(\"citing\",\"refList\").withColumn(\"cited\", explode(col(\"refList\")))\n",
    "WoSref.select(\"citing\",\"cited\").coalesce(1).write.mode(SaveMode.Overwrite)\n",
    "    .format(\"com.databricks.spark.csv\")\n",
    "    .option(\"header\", \"true\").option(\"compression\", \"gzip\")\n",
    "    .save(\"/dataRCSC/WoS_json/refEdges.csv\")"
   ]
  },
  {
   "cell_type": "code",
   "execution_count": 2,
   "metadata": {
    "scrolled": true
   },
   "outputs": [
    {
     "name": "stdout",
     "output_type": "stream",
     "text": [
      "root\n",
      " |-- UID: string (nullable = true)\n",
      " |-- titles: struct (nullable = true)\n",
      " |    |-- _count: long (nullable = true)\n",
      " |    |-- title: array (nullable = true)\n",
      " |    |    |-- element: struct (containsNull = true)\n",
      " |    |    |    |-- _VALUE: string (nullable = true)\n",
      " |    |    |    |-- _translated: string (nullable = true)\n",
      " |    |    |    |-- _type: string (nullable = true)\n",
      " |-- category_info: struct (nullable = true)\n",
      " |    |-- headings: struct (nullable = true)\n",
      " |    |    |-- _count: long (nullable = true)\n",
      " |    |    |-- heading: array (nullable = true)\n",
      " |    |    |    |-- element: string (containsNull = true)\n",
      " |    |-- subheadings: struct (nullable = true)\n",
      " |    |    |-- _count: long (nullable = true)\n",
      " |    |    |-- subheading: array (nullable = true)\n",
      " |    |    |    |-- element: string (containsNull = true)\n",
      " |    |-- subjects: struct (nullable = true)\n",
      " |    |    |-- _count: long (nullable = true)\n",
      " |    |    |-- subject: array (nullable = true)\n",
      " |    |    |    |-- element: struct (containsNull = true)\n",
      " |    |    |    |    |-- _VALUE: string (nullable = true)\n",
      " |    |    |    |    |-- _ascatype: string (nullable = true)\n",
      "\n"
     ]
    },
    {
     "data": {
      "text/plain": [
       "WoS = [UID: string, _r_id_disclaimer: string ... 13 more fields]\n",
       "WoS2 = [UID: string, titles: struct<_count: bigint, title: array<struct<_VALUE:string,_translated:string,_type:string>>> ... 1 more field]\n"
      ]
     },
     "metadata": {},
     "output_type": "display_data",
     "source": "user"
    },
    {
     "data": {
      "text/plain": [
       "[UID: string, titles: struct<_count: bigint, title: array<struct<_VALUE:string,_translated:string,_type:string>>> ... 1 more field]"
      ]
     },
     "execution_count": 2,
     "metadata": {},
     "output_type": "execute_result"
    }
   ],
   "source": [
    "val WoS = spark.read.format(\"parquet\").load(\"/WoSraw/parquet/*.parquet\")\n",
    "\n",
    "val WoS2 = WoS.select(\"UID\",\"static_data.summary.titles\",\"static_data.fullrecord_metadata.category_info\")\n",
    "WoS2.printSchema"
   ]
  },
  {
   "cell_type": "code",
   "execution_count": 8,
   "metadata": {
    "scrolled": true
   },
   "outputs": [
    {
     "name": "stdout",
     "output_type": "stream",
     "text": [
      "+-------+------+--------+-----+--------+------+------+-----+---------+-------+--------+------------+-------+-------+------+----------------+--------+--------------+--------------+------+------+----------+--------------+\n",
      "|summary|   _c0|cord_uid|  sha|source_x| title|   doi|pmcid|pubmed_id|license|abstract|publish_time|authors|journal|mag_id|who_covidence_id|arxiv_id|pdf_json_files|pmc_json_files|   url| s2_id|pmcAuthors|pmcAffiliation|\n",
      "+-------+------+--------+-----+--------+------+------+-----+---------+-------+--------+------------+-------+-------+------+----------------+--------+--------------+--------------+------+------+----------+--------------+\n",
      "|  count|207311|  207311|87409|  207311|207255|146317|91304|   123955| 207311|  147637|      207294| 200607| 195418|     0|           57491|    2759|         87409|         66516|160560|178607|     66516|         66516|\n",
      "+-------+------+--------+-----+--------+------+------+-----+---------+-------+--------+------------+-------+-------+------+----------------+--------+--------------+--------------+------+------+----------+--------------+\n",
      "\n"
     ]
    },
    {
     "data": {
      "text/plain": [
       "session = org.apache.spark.sql.SparkSession@43fa97a0\n",
       "azureFile = /azureBlob.txt MapPartitionsRDD[50] at textFile at <console>:75\n",
       "sdf = [_c0: string, cord_uid: string ... 20 more fields]\n"
      ]
     },
     "metadata": {},
     "output_type": "display_data"
    },
    {
     "data": {
      "text/plain": [
       "lastException: Throwable = null\n"
      ]
     },
     "metadata": {},
     "output_type": "display_data"
    },
    {
     "data": {
      "text/plain": [
       "[_c0: string, cord_uid: string ... 20 more fields]"
      ]
     },
     "execution_count": 8,
     "metadata": {},
     "output_type": "execute_result"
    }
   ],
   "source": [
    "import scala.util.Try\n",
    "import org.apache.spark.sql.functions._\n",
    "import org.apache.spark.sql.{Row, SQLContext}\n",
    "import org.apache.spark.sql.functions.countDistinct\n",
    "import org.apache.spark.sql.SaveMode\n",
    "\n",
    "val session = SparkSession.builder().getOrCreate()\n",
    "\n",
    "val azureFile = sc.textFile(\"/azureBlob.txt\")\n",
    "session.conf.set(\n",
    "    \"fs.azure.account.key.iunimag.blob.core.windows.net\",\n",
    "     azureFile.collect().mkString\n",
    ")\n",
    "val sdf = spark.read.format(\"csv\")\n",
    "    .option(\"header\", \"true\")\n",
    "    .option(\"quote\", \"\\\"\")\n",
    "    .option(\"escape\", \"\\\"\")\n",
    "    //.option(\"inferSchema\",\"true\")\n",
    "    //.load(\"/dataRCSC/metaInstitutes.csv\")\n",
    "    .load(\"wasbs://mag-2020-07-29@iunimag.blob.core.windows.net/metaInstitutes-08-03.csv\")\n",
    "sdf.describe().filter($\"summary\" === \"count\").show"
   ]
  },
  {
   "cell_type": "code",
   "execution_count": 3,
   "metadata": {},
   "outputs": [
    {
     "name": "stdout",
     "output_type": "stream",
     "text": [
      "+--------+----------------------------------------+--------+--------------------------------------------------------------------------------------------------------------------------------+------------------------+---------+---------+---------+-------------------------------------------------------------------------------------------------------------------------------------------------------------------------------------------------------------------------------------------------------------------------------------------------------------------------------------------------------------------------------------------------------------------------------------------------------------------------------------------------------------------------------------------------------------------------------------------------------------------------------------------------------------------------------------------------------------------------------------------------------------------------------------------------------------------------------------------------------------------------------------------------------------------------------------------------------------------------------------------------------------------------------------------------------------------------------------------------------------------------------------------------------------------------------------------------------------------------------------------------------------------------------------------------------------------------------------------------------------------------------------------------------------------------------------------------------------------------------------------------------------------------------------------------------------------------------------------------------------------------------------------------------------------------------------------------------------------------------------------------------------------------------------------------------------------------------------------------------------------------------------------------------------------------------------------------------------------------------------------------------------------------------------------------------------------------------------------------------------------------------------------------------------------------------------------------------------------------------------------------------------------------------------------------------------------------------------------------------------------------------------------------------------------------------------------------------------------------+------------+-------------------------------------------------------------------------------------------------------------------------------------------------------------------------------------------------------------+-------------------------------------------------------+------+----------------+--------+----------------------------------------------------------------------+-------------------------------------------+------------------------------------------------------------------------+-----+\n",
      "|cord_uid|sha                                     |source_x|title                                                                                                                           |doi                     |pmcid    |pubmed_id|license  |abstract                                                                                                                                                                                                                                                                                                                                                                                                                                                                                                                                                                                                                                                                                                                                                                                                                                                                                                                                                                                                                                                                                                                                                                                                                                                                                                                                                                                                                                                                                                                                                                                                                                                                                                                                                                                                                                                                                                                                                                                                                                                                                                                                                                                                                                                                                                                                                                                                                                                                 |publish_time|authors                                                                                                                                                                                                      |journal                                                |mag_id|who_covidence_id|arxiv_id|pdf_json_files                                                        |pmc_json_files                             |url                                                                     |s2_id|\n",
      "+--------+----------------------------------------+--------+--------------------------------------------------------------------------------------------------------------------------------+------------------------+---------+---------+---------+-------------------------------------------------------------------------------------------------------------------------------------------------------------------------------------------------------------------------------------------------------------------------------------------------------------------------------------------------------------------------------------------------------------------------------------------------------------------------------------------------------------------------------------------------------------------------------------------------------------------------------------------------------------------------------------------------------------------------------------------------------------------------------------------------------------------------------------------------------------------------------------------------------------------------------------------------------------------------------------------------------------------------------------------------------------------------------------------------------------------------------------------------------------------------------------------------------------------------------------------------------------------------------------------------------------------------------------------------------------------------------------------------------------------------------------------------------------------------------------------------------------------------------------------------------------------------------------------------------------------------------------------------------------------------------------------------------------------------------------------------------------------------------------------------------------------------------------------------------------------------------------------------------------------------------------------------------------------------------------------------------------------------------------------------------------------------------------------------------------------------------------------------------------------------------------------------------------------------------------------------------------------------------------------------------------------------------------------------------------------------------------------------------------------------------------------------------------------------+------------+-------------------------------------------------------------------------------------------------------------------------------------------------------------------------------------------------------------+-------------------------------------------------------+------+----------------+--------+----------------------------------------------------------------------+-------------------------------------------+------------------------------------------------------------------------+-----+\n",
      "|ug7v899j|d1aafb70c066a2068b02786f8929fd9c900897fb|PMC     |Clinical features of culture-proven Mycoplasma pneumoniae infections at King Abdulaziz University Hospital, Jeddah, Saudi Arabia|10.1186/1471-2334-1-6   |PMC35282 |11472636 |no-cc    |OBJECTIVE: This retrospective chart review describes the epidemiology and clinical features of 40 patients with culture-proven Mycoplasma pneumoniae infections at King Abdulaziz University Hospital, Jeddah, Saudi Arabia. METHODS: Patients with positive M. pneumoniae cultures from respiratory specimens from January 1997 through December 1998 were identified through the Microbiology records. Charts of patients were reviewed. RESULTS: 40 patients were identified, 33 (82.5%) of whom required admission. Most infections (92.5%) were community-acquired. The infection affected all age groups but was most common in infants (32.5%) and pre-school children (22.5%). It occurred year-round but was most common in the fall (35%) and spring (30%). More than three-quarters of patients (77.5%) had comorbidities. Twenty-four isolates (60%) were associated with pneumonia, 14 (35%) with upper respiratory tract infections, and 2 (5%) with bronchiolitis. Cough (82.5%), fever (75%), and malaise (58.8%) were the most common symptoms, and crepitations (60%), and wheezes (40%) were the most common signs. Most patients with pneumonia had crepitations (79.2%) but only 25% had bronchial breathing. Immunocompromised patients were more likely than non-immunocompromised patients to present with pneumonia (8/9 versus 16/31, P = 0.05). Of the 24 patients with pneumonia, 14 (58.3%) had uneventful recovery, 4 (16.7%) recovered following some complications, 3 (12.5%) died because of M pneumoniae infection, and 3 (12.5%) died due to underlying comorbidities. The 3 patients who died of M pneumoniae pneumonia had other comorbidities. CONCLUSION: our results were similar to published data except for the finding that infections were more common in infants and preschool children and that the mortality rate of pneumonia in patients with comorbidities was high.                                                                                                                                                                                                                                                                                                                                                                                                                                                                                                                                                  |2001-07-04  |Madani, Tariq A; Al-Ghamdi, Aisha A                                                                                                                                                                          |BMC Infect Dis                                         |null  |null            |null    |document_parses/pdf_json/d1aafb70c066a2068b02786f8929fd9c900897fb.json|document_parses/pmc_json/PMC35282.xml.json |https://www.ncbi.nlm.nih.gov/pmc/articles/PMC35282/                     |null |\n",
      "|02tnwd4m|6b0567729c2143a66d737eb0a2f63f2dce2e5a7d|PMC     |Nitric oxide: a pro-inflammatory mediator in lung disease?                                                                      |10.1186/rr14            |PMC59543 |11667967 |no-cc    |Inflammatory diseases of the respiratory tract are commonly associated with elevated production of nitric oxide (NO•) and increased indices of NO• -dependent oxidative stress. Although NO• is known to have anti-microbial, anti-inflammatory and anti-oxidant properties, various lines of evidence support the contribution of NO• to lung injury in several disease models. On the basis of biochemical evidence, it is often presumed that such NO• -dependent oxidations are due to the formation of the oxidant peroxynitrite, although alternative mechanisms involving the phagocyte-derived heme proteins myeloperoxidase and eosinophil peroxidase might be operative during conditions of inflammation. Because of the overwhelming literature on NO• generation and activities in the respiratory tract, it would be beyond the scope of this commentary to review this area comprehensively. Instead, it focuses on recent evidence and concepts of the presumed contribution of NO• to inflammatory diseases of the lung.                                                                                                                                                                                                                                                                                                                                                                                                                                                                                                                                                                                                                                                                                                                                                                                                                                                                                                                                                                                                                                                                                                                                                                                                                                                                                                                                                                                                                                |2000-08-15  |Vliet, Albert van der; Eiserich, Jason P; Cross, Carroll E                                                                                                                                                   |Respir Res                                             |null  |null            |null    |document_parses/pdf_json/6b0567729c2143a66d737eb0a2f63f2dce2e5a7d.json|document_parses/pmc_json/PMC59543.xml.json |https://www.ncbi.nlm.nih.gov/pmc/articles/PMC59543/                     |null |\n",
      "|ejv2xln0|06ced00a5fc04215949aa72528f2eeaae1d58927|PMC     |Surfactant protein-D and pulmonary host defense                                                                                 |10.1186/rr19            |PMC59549 |11667972 |no-cc    |Surfactant protein-D (SP-D) participates in the innate response to inhaled microorganisms and organic antigens, and contributes to immune and inflammatory regulation within the lung. SP-D is synthesized and secreted by alveolar and bronchiolar epithelial cells, but is also expressed by epithelial cells lining various exocrine ducts and the mucosa of the gastrointestinal and genitourinary tracts. SP-D, a collagenous calcium-dependent lectin (or collectin), binds to surface glycoconjugates expressed by a wide variety of microorganisms, and to oligosaccharides associated with the surface of various complex organic antigens. SP-D also specifically interacts with glycoconjugates and other molecules expressed on the surface of macrophages, neutrophils, and lymphocytes. In addition, SP-D binds to specific surfactant-associated lipids and can influence the organization of lipid mixtures containing phosphatidylinositol in vitro. Consistent with these diverse in vitro activities is the observation that SP-D-deficient transgenic mice show abnormal accumulations of surfactant lipids, and respond abnormally to challenge with respiratory viruses and bacterial lipopolysaccharides. The phenotype of macrophages isolated from the lungs of SP-D-deficient mice is altered, and there is circumstantial evidence that abnormal oxidant metabolism and/or increased metalloproteinase expression contributes to the development of emphysema. The expression of SP-D is increased in response to many forms of lung injury, and deficient accumulation of appropriately oligomerized SP-D might contribute to the pathogenesis of a variety of human lung diseases.                                                                                                                                                                                                                                                                                                                                                                                                                                                                                                                                                                                                                                                                                                                                                          |2000-08-25  |Crouch, Erika C                                                                                                                                                                                              |Respir Res                                             |null  |null            |null    |document_parses/pdf_json/06ced00a5fc04215949aa72528f2eeaae1d58927.json|document_parses/pmc_json/PMC59549.xml.json |https://www.ncbi.nlm.nih.gov/pmc/articles/PMC59549/                     |null |\n",
      "|2b73a28n|348055649b6b8cf2b9a376498df9bf41f7123605|PMC     |Role of endothelin-1 in lung disease                                                                                            |10.1186/rr44            |PMC59574 |11686871 |no-cc    |Endothelin-1 (ET-1) is a 21 amino acid peptide with diverse biological activity that has been implicated in numerous diseases. ET-1 is a potent mitogen regulator of smooth muscle tone, and inflammatory mediator that may play a key role in diseases of the airways, pulmonary circulation, and inflammatory lung diseases, both acute and chronic. This review will focus on the biology of ET-1 and its role in lung disease.                                                                                                                                                                                                                                                                                                                                                                                                                                                                                                                                                                                                                                                                                                                                                                                                                                                                                                                                                                                                                                                                                                                                                                                                                                                                                                                                                                                                                                                                                                                                                                                                                                                                                                                                                                                                                                                                                                                                                                                                                                       |2001-02-22  |Fagan, Karen A; McMurtry, Ivan F; Rodman, David M                                                                                                                                                            |Respir Res                                             |null  |null            |null    |document_parses/pdf_json/348055649b6b8cf2b9a376498df9bf41f7123605.json|document_parses/pmc_json/PMC59574.xml.json |https://www.ncbi.nlm.nih.gov/pmc/articles/PMC59574/                     |null |\n",
      "|9785vg6d|5f48792a5fa08bed9f56016f4981ae2ca6031b32|PMC     |Gene expression in epithelial cells in response to pneumovirus infection                                                        |10.1186/rr61            |PMC59580 |11686888 |no-cc    |Respiratory syncytial virus (RSV) and pneumonia virus of mice (PVM) are viruses of the family Paramyxoviridae, subfamily pneumovirus, which cause clinically important respiratory infections in humans and rodents, respectively. The respiratory epithelial target cells respond to viral infection with specific alterations in gene expression, including production of chemoattractant cytokines, adhesion molecules, elements that are related to the apoptosis response, and others that remain incompletely understood. Here we review our current understanding of these mucosal responses and discuss several genomic approaches, including differential display reverse transcription-polymerase chain reaction (PCR) and gene array strategies, that will permit us to unravel the nature of these responses in a more complete and systematic manner.                                                                                                                                                                                                                                                                                                                                                                                                                                                                                                                                                                                                                                                                                                                                                                                                                                                                                                                                                                                                                                                                                                                                                                                                                                                                                                                                                                                                                                                                                                                                                                                                       |2001-05-11  |Domachowske, Joseph B; Bonville, Cynthia A; Rosenberg, Helene F                                                                                                                                              |Respir Res                                             |null  |null            |null    |document_parses/pdf_json/5f48792a5fa08bed9f56016f4981ae2ca6031b32.json|document_parses/pmc_json/PMC59580.xml.json |https://www.ncbi.nlm.nih.gov/pmc/articles/PMC59580/                     |null |\n",
      "|zjufx4fo|b2897e1277f56641193a6db73825f707eed3e4c9|PMC     |Sequence requirements for RNA strand transfer during nidovirus discontinuous subgenomic RNA synthesis                           |10.1093/emboj/20.24.7220|PMC125340|11742998 |green-oa |Nidovirus subgenomic mRNAs contain a leader sequence derived from the 5′ end of the genome fused to different sequences (‘bodies’) derived from the 3′ end. Their generation involves a unique mechanism of discontinuous subgenomic RNA synthesis that resembles copy-choice RNA recombination. During this process, the nascent RNA strand is transferred from one site in the template to another, during either plus or minus strand synthesis, to yield subgenomic RNA molecules. Central to this process are transcription-regulating sequences (TRSs), which are present at both template sites and ensure the fidelity of strand transfer. Here we present results of a comprehensive co-variation mutagenesis study of equine arteritis virus TRSs, demonstrating that discontinuous RNA synthesis depends not only on base pairing between sense leader TRS and antisense body TRS, but also on the primary sequence of the body TRS. While the leader TRS merely plays a targeting role for strand transfer, the body TRS fulfils multiple functions. The sequences of mRNA leader–body junctions of TRS mutants strongly suggested that the discontinuous step occurs during minus strand synthesis.                                                                                                                                                                                                                                                                                                                                                                                                                                                                                                                                                                                                                                                                                                                                                                                                                                                                                                                                                                                                                                                                                                                                                                                                                                                         |2001-12-17  |Pasternak, Alexander O.; van den Born, Erwin; Spaan, Willy J.M.; Snijder, Eric J.                                                                                                                            |The EMBO Journal                                       |null  |null            |null    |document_parses/pdf_json/b2897e1277f56641193a6db73825f707eed3e4c9.json|document_parses/pmc_json/PMC125340.xml.json|http://europepmc.org/articles/pmc125340?pdf=render                      |null |\n",
      "|ymceytj3|e3d0d482ebd9a8ba81c254cc433f314142e72174|PMC     |Crystal structure of murine sCEACAM1a[1,4]: a coronavirus receptor in the CEA family                                            |10.1093/emboj/21.9.2076 |PMC125375|11980704 |green-oa |CEACAM1 is a member of the carcinoembryonic antigen (CEA) family. Isoforms of murine CEACAM1 serve as receptors for mouse hepatitis virus (MHV), a murine coronavirus. Here we report the crystal structure of soluble murine sCEACAM1a[1,4], which is composed of two Ig-like domains and has MHV neutralizing activity. Its N-terminal domain has a uniquely folded CC′ loop that encompasses key virus-binding residues. This is the first atomic structure of any member of the CEA family, and provides a prototypic architecture for functional exploration of CEA family members. We discuss the structural basis of virus receptor activities of murine CEACAM1 proteins, binding of Neisseria to human CEACAM1, and other homophilic and heterophilic interactions of CEA family members.                                                                                                                                                                                                                                                                                                                                                                                                                                                                                                                                                                                                                                                                                                                                                                                                                                                                                                                                                                                                                                                                                                                                                                                                                                                                                                                                                                                                                                                                                                                                                                                                                                                                       |2002-05-01  |Tan, Kemin; Zelus, Bruce D.; Meijers, Rob; Liu, Jin-huan; Bergelson, Jeffrey M.; Duke, Norma; Zhang, Rongguang; Joachimiak, Andrzej; Holmes, Kathryn V.; Wang, Jia-huai                                      |The EMBO Journal                                       |null  |null            |null    |document_parses/pdf_json/e3d0d482ebd9a8ba81c254cc433f314142e72174.json|document_parses/pmc_json/PMC125375.xml.json|http://europepmc.org/articles/pmc125375?pdf=render                      |null |\n",
      "|wzj2glte|00b1d99e70f779eb4ede50059db469c65e8c1469|PMC     |Synthesis of a novel hepatitis C virus protein by ribosomal frameshift                                                          |10.1093/emboj/20.14.3840|PMC125543|11447125 |no-cc    |Hepatitis C virus (HCV) is an important human pathogen that affects ∼100 million people worldwide. Its RNA genome codes for a polyprotein, which is cleaved by viral and cellular proteases to produce at least 10 mature viral protein products. We report here the discovery of a novel HCV protein synthesized by ribosomal frameshift. This protein, which we named the F protein, is synthesized from the initiation codon of the polyprotein sequence followed by ribosomal frameshift into the −2/+1 reading frame. This ribosomal frameshift requires only codons 8–14 of the core protein‐coding sequence, and the shift junction is located at or near codon 11. An F protein analog synthesized in vitro reacted with the sera of HCV patients but not with the sera of hepatitis B patients, indicating the expression of the F protein during natural HCV infection. This unexpected finding may open new avenues for the development of anti‐HCV drugs.                                                                                                                                                                                                                                                                                                                                                                                                                                                                                                                                                                                                                                                                                                                                                                                                                                                                                                                                                                                                                                                                                                                                                                                                                                                                                                                                                                                                                                                                                                    |2001-07-16  |Xu, Zhenming; Choi, Jinah; Yen, T.S.Benedict; Lu, Wen; Strohecker, Anne; Govindarajan, Sugantha; Chien, David; Selby, Mark J.; Ou, Jing‐hsiung                                                               |EMBO J                                                 |null  |null            |null    |document_parses/pdf_json/00b1d99e70f779eb4ede50059db469c65e8c1469.json|document_parses/pmc_json/PMC125543.xml.json|https://www.ncbi.nlm.nih.gov/pmc/articles/PMC125543/                    |null |\n",
      "|2sfqsfm1|cf584e00f637cbd8f1bb35f3f09f5ed07b71aeb0|PMC     |Structure of coronavirus main proteinase reveals combination of a chymotrypsin fold with an extra α-helical domain              |10.1093/emboj/cdf327    |PMC126080|12093723 |green-oa |The key enzyme in coronavirus polyprotein processing is the viral main proteinase, M(pro), a protein with extremely low sequence similarity to other viral and cellular proteinases. Here, the crystal structure of the 33.1 kDa transmissible gastroenteritis (corona)virus M(pro) is reported. The structure was refined to 1.96 Å resolution and revealed three dimers in the asymmetric unit. The mutual arrangement of the protomers in each of the dimers suggests that M(pro) self-processing occurs in trans. The active site, comprised of Cys144 and His41, is part of a chymotrypsin-like fold that is connected by a 16 residue loop to an extra domain featuring a novel α-helical fold. Molecular modelling and mutagenesis data implicate the loop in substrate binding and elucidate S1 and S2 subsites suitable to accommodate the side chains of the P1 glutamine and P2 leucine residues of M(pro) substrates. Interactions involving the N-terminus and the α-helical domain stabilize the loop in the orientation required for trans-cleavage activity. The study illustrates that RNA viruses have evolved unprecedented variations of the classical chymotrypsin fold.                                                                                                                                                                                                                                                                                                                                                                                                                                                                                                                                                                                                                                                                                                                                                                                                                                                                                                                                                                                                                                                                                                                                                                                                                                                                            |2002-07-01  |Anand, Kanchan; Palm, Gottfried J.; Mesters, Jeroen R.; Siddell, Stuart G.; Ziebuhr, John; Hilgenfeld, Rolf                                                                                                  |The EMBO Journal                                       |null  |null            |null    |document_parses/pdf_json/cf584e00f637cbd8f1bb35f3f09f5ed07b71aeb0.json|document_parses/pmc_json/PMC126080.xml.json|http://europepmc.org/articles/pmc126080?pdf=render                      |null |\n",
      "|i0zym7iq|dde02f11923815e6a16a31dd6298c46b109c5dfa|PMC     |Discontinuous and non-discontinuous subgenomic RNA transcription in a nidovirus                                                 |10.1093/emboj/cdf635    |PMC136939|12456663 |green-oa |Arteri-, corona-, toro- and roniviruses are evolutionarily related positive-strand RNA viruses, united in the order Nidovirales. The best studied nidoviruses, the corona- and arteriviruses, employ a unique transcription mechanism, which involves discontinuous RNA synthesis, a process resembling similarity-assisted copy-choice RNA recombination. During infection, multiple subgenomic (sg) mRNAs are transcribed from a mirror set of sg negative-strand RNA templates. The sg mRNAs all possess a short 5′ common leader sequence, derived from the 5′ end of the genomic RNA. The joining of the non-contiguous ‘leader’ and ‘body’ sequences presumably occurs during minus-strand synthesis. To study whether toroviruses use a similar transcription mechanism, we characterized the 5′ termini of the genome and the four sg mRNAs of Berne virus (BEV). We show that BEV mRNAs 3–5 lack a leader sequence. Surprisingly, however, RNA 2 does contain a leader, identical to the 5′-terminal 18 residues of the genome. Apparently, BEV combines discontinuous and non-discontinous RNA synthesis to produce its sg mRNAs. Our findings have important implications for the understanding of the mechanism and evolution of nidovirus transcription.                                                                                                                                                                                                                                                                                                                                                                                                                                                                                                                                                                                                                                                                                                                                                                                                                                                                                                                                                                                                                                                                                                                                                                                                    |2002-12-01  |van Vliet, A.L.W.; Smits, S.L.; Rottier, P.J.M.; de Groot, R.J.                                                                                                                                              |The EMBO Journal                                       |null  |null            |null    |document_parses/pdf_json/dde02f11923815e6a16a31dd6298c46b109c5dfa.json|document_parses/pmc_json/PMC136939.xml.json|http://europepmc.org/articles/pmc136939?pdf=render                      |null |\n",
      "|5yhe786e|3bb07ea10432f7738413dff9816809cc90f03f99|PMC     |Debate: Transfusing to normal haemoglobin levels will not improve outcome                                                       |10.1186/cc987           |PMC137267|11299062 |no-cc    |Recent evidence suggests that critically ill patients are able to tolerate lower levels of haemoglobin than was previously believed. It is our goal to show that transfusing to a level of 100 g/l does not improve mortality and other clinically important outcomes in a critical care setting. Although many questions remain, many laboratory and clinical studies, including a recent randomized controlled trial (RCT), have established that transfusing to normal haemoglobin concentrations does not improve organ failure and mortality in the critically ill patient. In addition, a restrictive transfusion strategy will reduce exposure to allogeneic transfusions, result in more efficient use of red blood cells (RBCs), save blood overall, and decrease health care costs.                                                                                                                                                                                                                                                                                                                                                                                                                                                                                                                                                                                                                                                                                                                                                                                                                                                                                                                                                                                                                                                                                                                                                                                                                                                                                                                                                                                                                                                                                                                                                                                                                                                                            |2001-03-08  |Alvarez, Gonzalo; Hébert, Paul C; Szick, Sharyn                                                                                                                                                              |Crit Care                                              |null  |null            |null    |document_parses/pdf_json/3bb07ea10432f7738413dff9816809cc90f03f99.json|document_parses/pmc_json/PMC137267.xml.json|https://www.ncbi.nlm.nih.gov/pmc/articles/PMC137267/                    |null |\n",
      "|8zchiykl|5806726a24dc91de3954001effbdffd7a82d54e2|PMC     |The 21st International Symposium on Intensive Care and Emergency Medicine, Brussels, Belgium, 20-23 March 2001                  |10.1186/cc1013          |PMC137274|11353930 |no-cc    |The 21st International Symposium on Intensive Care and Emergency Medicine was dominated by the results of recent clinical trials in sepsis and acute respiratory distress syndrome (ARDS). The promise of extracorporeal liver replacement therapy and noninvasive ventilation were other areas of interest. Ethical issues also received attention. Overall, the 'state of the art' lectures, pro/con debates, seminars and tutorials were of a high standard. The meeting was marked by a sense of renewed enthusiasm that positive progress is occurring in intensive care medicine.                                                                                                                                                                                                                                                                                                                                                                                                                                                                                                                                                                                                                                                                                                                                                                                                                                                                                                                                                                                                                                                                                                                                                                                                                                                                                                                                                                                                                                                                                                                                                                                                                                                                                                                                                                                                                                                                                  |2001-05-02  |Ball, Jonathan; Venn, Richard                                                                                                                                                                                |Crit Care                                              |null  |null            |null    |document_parses/pdf_json/5806726a24dc91de3954001effbdffd7a82d54e2.json|document_parses/pmc_json/PMC137274.xml.json|https://www.ncbi.nlm.nih.gov/pmc/articles/PMC137274/                    |null |\n",
      "|xqhn0vbp|1e1286db212100993d03cc22374b624f7caee956|PMC     |Airborne rhinovirus detection and effect of ultraviolet irradiation on detection by a semi-nested RT-PCR assay                  |10.1186/1471-2458-3-5   |PMC140314|12525263 |no-cc    |BACKGROUND: Rhinovirus, the most common cause of upper respiratory tract infections, has been implicated in asthma exacerbations and possibly asthma deaths. Although the method of transmission of rhinoviruses is disputed, several studies have demonstrated that aerosol transmission is a likely method of transmission among adults. As a first step in studies of possible airborne rhinovirus transmission, we developed methods to detect aerosolized rhinovirus by extending existing technology for detecting infectious agents in nasal specimens. METHODS: We aerosolized rhinovirus in a small aerosol chamber. Experiments were conducted with decreasing concentrations of rhinovirus. To determine the effect of UV irradiation on detection of rhinoviral aerosols, we also conducted experiments in which we exposed aerosols to a UV dose of 684 mJ/m(2). Aerosols were collected on Teflon filters and rhinovirus recovered in Qiagen AVL buffer using the Qiagen QIAamp Viral RNA Kit (Qiagen Corp., Valencia, California) followed by semi-nested RT-PCR and detection by gel electrophoresis. RESULTS: We obtained positive results from filter samples that had collected at least 1.3 TCID(50 )of aerosolized rhinovirus. Ultraviolet irradiation of airborne virus at doses much greater than those used in upper-room UV germicidal irradiation applications did not inhibit subsequent detection with the RT-PCR assay. CONCLUSION: The air sampling and extraction methodology developed in this study should be applicable to the detection of rhinovirus and other airborne viruses in the indoor air of offices and schools. This method, however, cannot distinguish UV inactivated virus from infectious viral particles.                                                                                                                                                                                                                                                                                                                                                                                                                                                                                                                                                                                                                                                                                                             |2003-01-13  |Myatt, Theodore A; Johnston, Sebastian L; Rudnick, Stephen; Milton, Donald K                                                                                                                                 |BMC Public Health                                      |null  |null            |null    |document_parses/pdf_json/1e1286db212100993d03cc22374b624f7caee956.json|document_parses/pmc_json/PMC140314.xml.json|https://www.ncbi.nlm.nih.gov/pmc/articles/PMC140314/                    |null |\n",
      "|gi6uaa83|8ae137c8da1607b3a8e4c946c07ca8bda67f88ac|PMC     |Discovering human history from stomach bacteria                                                                                 |10.1186/gb-2003-4-5-213 |PMC156578|12734001 |no-cc    |Recent analyses of human pathogens have revealed that their evolutionary histories are congruent with the hypothesized pattern of ancient and modern human population migrations. Phylogenetic trees of strains of the bacterium Helicobacter pylori and the polyoma JC virus taken from geographically diverse groups of human beings correlate closely with relationships of the populations in which they are found.                                                                                                                                                                                                                                                                                                                                                                                                                                                                                                                                                                                                                                                                                                                                                                                                                                                                                                                                                                                                                                                                                                                                                                                                                                                                                                                                                                                                                                                                                                                                                                                                                                                                                                                                                                                                                                                                                                                                                                                                                                                  |2003-04-28  |Disotell, Todd R                                                                                                                                                                                             |Genome Biol                                            |null  |null            |null    |document_parses/pdf_json/8ae137c8da1607b3a8e4c946c07ca8bda67f88ac.json|document_parses/pmc_json/PMC156578.xml.json|https://www.ncbi.nlm.nih.gov/pmc/articles/PMC156578/                    |null |\n",
      "|0m32ecnu|23bc55d6f63fab18b02004483888db2b6a0bfa48|PMC     |Prokaryotic-style frameshifting in a plant translation system: conservation of an unusual single-tRNA slippage event            |10.1093/emboj/cdg365    |PMC169038|12881428 |green-oa |Ribosomal frameshifting signals are found in mobile genetic elements, viruses and cellular genes of prokaryotes and eukaryotes. Typically they comprise a slippery sequence, X XXY YYZ, where the frameshift occurs, and a stimulatory mRNA element. Here we studied the influence of host translational environment and the identity of slippery sequence-decoding tRNAs on the frameshift mechanism. By expressing candidate signals in Escherichia coli, and in wheatgerm extracts depleted of endogenous tRNAs and supplemented with prokaryotic or eukaryotic tRNA populations, we show that when decoding AAG in the ribosomal A-site, E.coli tRNA(Lys) promotes a highly unusual single-tRNA slippage event in both prokaryotic and eukaryotic ribosomes. This event does not appear to require slippage of the adjacent P-site tRNA, although its identity is influential. Conversely, asparaginyl-tRNA promoted a dual slippage event in either system. Thus, the tRNAs themselves are the main determinants in the selection of single- or dual-tRNA slippage mechanisms. We also show for the first time that prokaryotic tRNA(Asn) is not inherently ‘unslippery’ and induces efficient frameshifting when in the context of a eukaryotic translation system.                                                                                                                                                                                                                                                                                                                                                                                                                                                                                                                                                                                                                                                                                                                                                                                                                                                                                                                                                                                                                                                                                                                                                                                                |2003-08-01  |Napthine, Sawsan; Vidakovic, Marijana; Girnary, Roseanne; Namy, Olivier; Brierley, Ian                                                                                                                       |The EMBO Journal                                       |null  |null            |null    |document_parses/pdf_json/23bc55d6f63fab18b02004483888db2b6a0bfa48.json|document_parses/pmc_json/PMC169038.xml.json|http://europepmc.org/articles/pmc169038?pdf=render                      |null |\n",
      "|8qnrcgnk|faaf1022ccfe93b032c5608097a53543ba24aedb|PMC     |Heme oxygenase-1 and carbon monoxide in pulmonary medicine                                                                      |10.1186/1465-9921-4-7   |PMC193681|12964953 |no-cc    |Heme oxygenase-1 (HO-1), an inducible stress protein, confers cytoprotection against oxidative stress in vitro and in vivo. In addition to its physiological role in heme degradation, HO-1 may influence a number of cellular processes, including growth, inflammation, and apoptosis. By virtue of anti-inflammatory effects, HO-1 limits tissue damage in response to proinflammatory stimuli and prevents allograft rejection after transplantation. The transcriptional upregulation of HO-1 responds to many agents, such as hypoxia, bacterial lipopolysaccharide, and reactive oxygen/nitrogen species. HO-1 and its constitutively expressed isozyme, heme oxygenase-2, catalyze the rate-limiting step in the conversion of heme to its metabolites, bilirubin IXα, ferrous iron, and carbon monoxide (CO). The mechanisms by which HO-1 provides protection most likely involve its enzymatic reaction products. Remarkably, administration of CO at low concentrations can substitute for HO-1 with respect to anti-inflammatory and anti-apoptotic effects, suggesting a role for CO as a key mediator of HO-1 function. Chronic, low-level, exogenous exposure to CO from cigarette smoking contributes to the importance of CO in pulmonary medicine. The implications of the HO-1/CO system in pulmonary diseases will be discussed in this review, with an emphasis on inflammatory states.                                                                                                                                                                                                                                                                                                                                                                                                                                                                                                                                                                                                                                                                                                                                                                                                                                                                                                                                                                                                                                                            |2003-08-07  |Slebos, Dirk-Jan; Ryter, Stefan W; Choi, Augustine MK                                                                                                                                                        |Respir Res                                             |null  |null            |null    |document_parses/pdf_json/faaf1022ccfe93b032c5608097a53543ba24aedb.json|document_parses/pmc_json/PMC193681.xml.json|https://www.ncbi.nlm.nih.gov/pmc/articles/PMC193681/                    |null |\n",
      "|3oxzzxnd|7ff45096210eeb392d51f646f5c7fe011079aaf3|PMC     |SseG, a virulence protein that targets Salmonella to the Golgi network                                                          |10.1093/emboj/cdg517    |PMC204495|14517239 |green-oa |Intracellular replication of the bacterial pathogen Salmonella enterica occurs in membrane-bound compartments called Salmonella-containing vacuoles (SCVs). Maturation of the SCV has been shown to occur by selective interactions with the endocytic pathway. We show here that after invasion of epithelial cells and migration to a perinuclear location, the majority of SCVs become surrounded by membranes of the Golgi network. This process is dependent on the Salmonella pathogenicity island 2 type III secretion system effector SseG. In infected cells, SseG was associated with the SCV and peripheral punctate structures. Only bacterial cells closely associated with the Golgi network were able to multiply; furthermore, mutation of sseG or disruption of the Golgi network inhibited intracellular bacterial growth. When expressed in epithelial cells, SseG co-localized extensively with markers of the trans-Golgi network. We identify a Golgi-targeting domain within SseG, and other regions of the protein that are required for localization of bacteria to the Golgi network. Therefore, replication of Salmonella in epithelial cells is dependent on simultaneous and selective interactions with both endocytic and secretory pathways.                                                                                                                                                                                                                                                                                                                                                                                                                                                                                                                                                                                                                                                                                                                                                                                                                                                                                                                                                                                                                                                                                                                                                                                             |2003-10-01  |Salcedo, Suzana P.; Holden, David W.                                                                                                                                                                         |The EMBO Journal                                       |null  |null            |null    |document_parses/pdf_json/7ff45096210eeb392d51f646f5c7fe011079aaf3.json|document_parses/pmc_json/PMC204495.xml.json|http://europepmc.org/articles/pmc204495?pdf=render                      |null |\n",
      "|fy4w7xz8|0104f6ceccf92ae8567a0102f89cbb976969a774|PMC     |Association of HLA class I with severe acute respiratory syndrome coronavirus infection                                         |10.1186/1471-2350-4-9   |PMC212558|12969506 |no-cc    |BACKGROUND: The human leukocyte antigen (HLA) system is widely used as a strategy in the search for the etiology of infectious diseases and autoimmune disorders. During the Taiwan epidemic of severe acute respiratory syndrome (SARS), many health care workers were infected. In an effort to establish a screening program for high risk personal, the distribution of HLA class I and II alleles in case and control groups was examined for the presence of an association to a genetic susceptibly or resistance to SARS coronavirus infection. METHODS: HLA-class I and II allele typing by PCR-SSOP was performed on 37 cases of probable SARS, 28 fever patients excluded later as probable SARS, and 101 non-infected health care workers who were exposed or possibly exposed to SARS coronavirus. An additional control set of 190 normal healthy unrelated Taiwanese was also used in the analysis. RESULTS: Woolf and Haldane Odds ratio (OR) and corrected P-value (Pc) obtained from two tails Fisher exact test were used to show susceptibility of HLA class I or class II alleles with coronavirus infection. At first, when analyzing infected SARS patients and high risk health care workers groups, HLA-B*4601 (OR = 2.08, P = 0.04, Pc = n.s.) and HLA-B*5401 (OR = 5.44, P = 0.02, Pc = n.s.) appeared as the most probable elements that may be favoring SARS coronavirus infection. After selecting only a \"severe cases\" patient group from the infected \"probable SARS\" patient group and comparing them with the high risk health care workers group, the severity of SARS was shown to be significantly associated with HLA-B*4601 (P = 0.0008 or Pc = 0.0279). CONCLUSIONS: Densely populated regions with genetically related southern Asian populations appear to be more affected by the spreading of SARS infection. Up until recently, no probable SARS patients were reported among Taiwan indigenous peoples who are genetically distinct from the Taiwanese general population, have no HLA-B* 4601 and have high frequency of HLA-B* 1301. While increase of HLA-B* 4601 allele frequency was observed in the \"Probable SARS infected\" patient group, a further significant increase of the allele was seen in the \"Severe cases\" patient group. These results appeared to indicate association of HLA-B* 4601 with the severity of SARS infection in Asian populations. Independent studies are needed to test these results.|2003-09-12  |Lin, Marie; Tseng, Hsiang-Kuang; Trejaut, Jean A; Lee, Hui-Lin; Loo, Jun-Hun; Chu, Chen-Chung; Chen, Pei-Jan; Su, Ying-Wen; Lim, Ken Hong; Tsai, Zen-Uong; Lin, Ruey-Yi; Lin, Ruey-Shiung; Huang, Chun-Hsiung|BMC Med Genet                                          |null  |null            |null    |document_parses/pdf_json/0104f6ceccf92ae8567a0102f89cbb976969a774.json|document_parses/pmc_json/PMC212558.xml.json|https://www.ncbi.nlm.nih.gov/pmc/articles/PMC212558/                    |null |\n",
      "|jg13scgo|5b44feca5d6ffaaeb66501fa84cc6dd44d06660a|PMC     |Technical Description of RODS: A Real-time Public Health Surveillance System                                                    |10.1197/jamia.m1345     |PMC212776|12807803 |bronze-oa|This report describes the design and implementation of the Real-time Outbreak and Disease Surveillance (RODS) system, a computer-based public health surveillance system for early detection of disease outbreaks. Hospitals send RODS data from clinical encounters over virtual private networks and leased lines using the Health Level 7 (HL7) message protocol. The data are sent in real time. RODS automatically classifies the registration chief complaint from the visit into one of seven syndrome categories using Bayesian classifiers. It stores the data in a relational database, aggregates the data for analysis using data warehousing techniques, applies univariate and multivariate statistical detection algorithms to the data, and alerts users of when the algorithms identify anomalous patterns in the syndrome counts. RODS also has a Web-based user interface that supports temporal and spatial analyses. RODS processes sales of over-the-counter health care products in a similar manner but receives such data in batch mode on a daily basis. RODS was used during the 2002 Winter Olympics and currently operates in two states—Pennsylvania and Utah. It has been and continues to be a resource for implementing, evaluating, and applying new methods of public health surveillance.                                                                                                                                                                                                                                                                                                                                                                                                                                                                                                                                                                                                                                                                                                                                                                                                                                                                                                                                                                                                                                                                                                                                            |2003-09-01  |Tsui, Fu-Chiang; Espino, Jeremy U.; Dato, Virginia M.; Gesteland, Per H.; Hutman, Judith; Wagner, Michael M.                                                                                                 |Journal of the American Medical Informatics Association|null  |null            |null    |document_parses/pdf_json/5b44feca5d6ffaaeb66501fa84cc6dd44d06660a.json|document_parses/pmc_json/PMC212776.xml.json|https://academic.oup.com/jamia/article-pdf/10/5/399/2352016/10-5-399.pdf|null |\n",
      "|0qaoam29|5b68a553a7cbbea13472721cd1ad617d42b40c26|PMC     |A double epidemic model for the SARS propagation                                                                                |10.1186/1471-2334-3-19  |PMC222908|12964944 |no-cc    |BACKGROUND: An epidemic of a Severe Acute Respiratory Syndrome (SARS) caused by a new coronavirus has spread from the Guangdong province to the rest of China and to the world, with a puzzling contagion behavior. It is important both for predicting the future of the present outbreak and for implementing effective prophylactic measures, to identify the causes of this behavior. RESULTS: In this report, we show first that the standard Susceptible-Infected-Removed (SIR) model cannot account for the patterns observed in various regions where the disease spread. We develop a model involving two superimposed epidemics to study the recent spread of the SARS in Hong Kong and in the region. We explore the situation where these epidemics may be caused either by a virus and one or several mutants that changed its tropism, or by two unrelated viruses. This has important consequences for the future: the innocuous epidemic might still be there and generate, from time to time, variants that would have properties similar to those of SARS. CONCLUSION: We find that, in order to reconcile the existing data and the spread of the disease, it is convenient to suggest that a first milder outbreak protected against the SARS. Regions that had not seen the first epidemic, or that were affected simultaneously with the SARS suffered much more, with a very high percentage of persons affected. We also find regions where the data appear to be inconsistent, suggesting that they are incomplete or do not reflect an appropriate identification of SARS patients. Finally, we could, within the framework of the model, fix limits to the future development of the epidemic, allowing us to identify landmarks that may be useful to set up a monitoring system to follow the evolution of the epidemic. The model also suggests that there might exist a SARS precursor in a large reservoir, prompting for implementation of precautionary measures when the weather cools down.                                                                                                                                                                                                                                                                                                                                                                                                                                          |2003-09-10  |Ng, Tuen Wai; Turinici, Gabriel; Danchin, Antoine                                                                                                                                                            |BMC Infect Dis                                         |null  |null            |null    |document_parses/pdf_json/5b68a553a7cbbea13472721cd1ad617d42b40c26.json|document_parses/pmc_json/PMC222908.xml.json|https://www.ncbi.nlm.nih.gov/pmc/articles/PMC222908/                    |null |\n",
      "+--------+----------------------------------------+--------+--------------------------------------------------------------------------------------------------------------------------------+------------------------+---------+---------+---------+-------------------------------------------------------------------------------------------------------------------------------------------------------------------------------------------------------------------------------------------------------------------------------------------------------------------------------------------------------------------------------------------------------------------------------------------------------------------------------------------------------------------------------------------------------------------------------------------------------------------------------------------------------------------------------------------------------------------------------------------------------------------------------------------------------------------------------------------------------------------------------------------------------------------------------------------------------------------------------------------------------------------------------------------------------------------------------------------------------------------------------------------------------------------------------------------------------------------------------------------------------------------------------------------------------------------------------------------------------------------------------------------------------------------------------------------------------------------------------------------------------------------------------------------------------------------------------------------------------------------------------------------------------------------------------------------------------------------------------------------------------------------------------------------------------------------------------------------------------------------------------------------------------------------------------------------------------------------------------------------------------------------------------------------------------------------------------------------------------------------------------------------------------------------------------------------------------------------------------------------------------------------------------------------------------------------------------------------------------------------------------------------------------------------------------------------------------------------------+------------+-------------------------------------------------------------------------------------------------------------------------------------------------------------------------------------------------------------+-------------------------------------------------------+------+----------------+--------+----------------------------------------------------------------------+-------------------------------------------+------------------------------------------------------------------------+-----+\n",
      "only showing top 20 rows\n",
      "\n"
     ]
    }
   ],
   "source": [
    "//sdf.printSchema\n",
    "sdf.filter(\"sha is not null\").show(false)"
   ]
  },
  {
   "cell_type": "code",
   "execution_count": 40,
   "metadata": {
    "scrolled": true
   },
   "outputs": [
    {
     "name": "stdout",
     "output_type": "stream",
     "text": [
      "+-----+-----+--------------------+------+-----------------------------------+-----------------------------------+----+----+----------+----------------------------+----+----+----+----+----+----+----+----+----+----+----------------------------------+----+-------------------+\n",
      "|  _c0|  _c1|                 _c2|   _c3|                                _c4|                                _c5| _c6| _c7|       _c8|                         _c9|_c10|_c11|_c12|_c13|_c14|_c15|_c16|_c17|_c18|_c19|                              _c20|_c21|               _c22|\n",
      "+-----+-----+--------------------+------+-----------------------------------+-----------------------------------+----+----+----------+----------------------------+----+----+----+----+----+----+----+----+----+----+----------------------------------+----+-------------------+\n",
      "| 8933|30118|                null|  null|               историческая наук...|               Историческая наук...|null|1960|1960-10-31|        ТОО Редакция журн...|null|null|null|null|  10| 123| 129|   0|   0|   0|              id = 688, shortTi...|null|2016-06-24 00:00:00|\n",
      "|13293|24697|                null|Patent|               mechanical perspe...|               Mechanical perspe...|null|1986|1986-01-29|                        null|null|null|null|null|null|null|null|   5|   1|   1|                              null|null|2016-06-24 00:00:00|\n",
      "|18536|24893|                null|  null|               la realidad de la...|               La realidad de la...|null|2012|2012-01-01|                        null|null|null|null|null|null|null|null|   0|   0|   0|                              null|null|2016-06-24 00:00:00|\n",
      "|23377|23388|                null|Patent|               method for preven...|               Method for preven...|null|1980|1980-05-22|                        null|null|null|null|null|null|null|null|   3|   9|   9|                              null|null|2016-06-24 00:00:00|\n",
      "|24137|23918|                null|Patent|               plastic jacket fo...|               Plastic jacket fo...|null|1972|1972-10-02|                        null|null|null|null|null|null|null|null|   3|  10|  10|                              null|null|2016-06-24 00:00:00|\n",
      "|31406|24951|                null|  null|      c 10 10 エミッタサイズ効果...|      C-10-10 エミッタサイズ効果...|null|2009|2009-03-04|一般社団法人電子情報通信学会|null|null|null|2009|   2|  79|null|   0|   0|   0|電子情報通信学会総合大会講演論文集|null|2016-06-24 00:00:00|\n",
      "|31497|21585|                null|  null|               aceites y grasas ...|               Aceites y grasas ...|null|1999|1999-01-01|                     Acribia|null|null|null|null|null|null|null|   0|   8|   8|                              null|null|2016-06-24 00:00:00|\n",
      "|42214|24991|10.1007/978-94-00...|  null|               on the early rece...|               On the Early Rece...|null|1987|1987-01-01|        Springer Netherlands|null|null|null|null|null| 231| 241|   0|   1|   1|                              null|null|2016-06-24 00:00:00|\n",
      "|52377|23620|10.1007/978-1-402...|  null|               mixed mode neural...|               MIXED-MODE NEURAL...|null|2004|2004-01-01|                 Springer US|null|null|null|null|null| 209| 226|  11|   0|   0|                              null|null|2016-06-24 00:00:00|\n",
      "|53286|26015|                null|  null|地下水と地表水 海水との相互作用 ...|地下水と地表水 ・ 海水との相互作...|null|2001|2001-05-31|              日本地下水学会|null|null|null|  43|   2|  89| 100|   0|   0|   0|                      地下水学会誌|null|2016-06-24 00:00:00|\n",
      "|53448|22647|10.1007/1-4020-49...|  null|               mechanical behavi...|               Mechanical Behavi...|null|2006|2006-01-01|         Springer, Dordrecht|null|null|null|null|null| 827| 828|   8|   2|   2|                              null|null|2016-06-24 00:00:00|\n",
      "|65508|22942|  10.1007/BF03372617|  null|               die wirkung posit...|               Die Wirkung posit...|null|2000|2000-05-01|        Springer Fachmedi...|null|null|null|  52|   3| 234| 256|  70|   4|   4|              Schmalenbachs Zei...|null|2016-06-24 00:00:00|\n",
      "|71261|27618|                null|  null|               defect chemistry ...|               DEFECT CHEMISTRY ...|null|1985|1985-01-01|                        null|null|null|null|null|null|null|null|   0|   0|   0|                              null|null|2016-06-24 00:00:00|\n",
      "|81533|24914|                null|  null|                  les beaux chevaux|                  Les beaux chevaux|null|2012|2012-03-26|                        null|null|null|null|null|null|null|null|   0|   0|   0|                              null|null|2016-06-24 00:00:00|\n",
      "|81862|21179|                null|Patent|               sliding cover mec...|               SLIDING COVER MEC...|null|2007|2007-09-24|                        null|null|null|null|null|null|null|null|   4|   7|   7|                              null|null|2016-06-24 00:00:00|\n",
      "|84136|25114|                null|  null|               la funcion educad...|               La función educad...|null|2010|2010-01-01|        Centro de Enseñan...|null|null|null|null|  22|  41|  54|   0|   0|   0|              Educación y futur...|null|2016-06-24 00:00:00|\n",
      "|84167|23258|                null|  null|               phase transitions...|               Phase transitions...|null|2015|2015-01-01|                        null|null|null|null|null|null|null|null|   0|   1|   1|                              null|null|2016-06-24 00:00:00|\n",
      "|95220|25615|                null|  null|               al iqtibas fi nas...|               al-Iqtibas fi nas...|null|2005|2005-11-30|        Jakarta : Fakulta...|null|null|null|null|null|null|null|   0|   0|   0|                              null|null|2016-06-24 00:00:00|\n",
      "|98583|28437|                null|  null|               on the timing pro...|               On the Timing Pro...|null|1971|1971-01-01|        International Fou...|null|null|null|null|null|null|null|   5|   0|   0|              International Tel...|null|2016-06-24 00:00:00|\n",
      "|99867|27601|                null|  null|               buildup factors o...|               BUILDUP FACTORS O...|null|1967|1967-01-01|                        null|null|null|null|null|null|null|null|   0|   0|   0|              Hitachi Hyoron, 4...|null|2016-06-24 00:00:00|\n",
      "+-----+-----+--------------------+------+-----------------------------------+-----------------------------------+----+----+----------+----------------------------+----+----+----+----+----+----+----+----+----+----+----------------------------------+----+-------------------+\n",
      "only showing top 20 rows\n",
      "\n"
     ]
    },
    {
     "data": {
      "text/plain": [
       "magPapers = [_c0: bigint, _c1: int ... 21 more fields]\n"
      ]
     },
     "metadata": {},
     "output_type": "display_data",
     "source": "user"
    },
    {
     "data": {
      "text/plain": [
       "lastException: Throwable = null\n"
      ]
     },
     "metadata": {},
     "output_type": "display_data",
     "source": "user"
    },
    {
     "data": {
      "text/plain": [
       "[_c0: bigint, _c1: int ... 21 more fields]"
      ]
     },
     "execution_count": 40,
     "metadata": {},
     "output_type": "execute_result"
    }
   ],
   "source": [
    "val magPapers = spark.read.format(\"csv\")\n",
    "      //.option(\"header\", \"true\")\n",
    "      .option(\"delimiter\",\"\\t\")\n",
    "      .option(\"inferSchema\",\"true\")\n",
    "      .load(\"wasbs://mag-2020-05-29@iunimag.blob.core.windows.net/mag/Papers.txt\")\n",
    "magPapers.show"
   ]
  },
  {
   "cell_type": "code",
   "execution_count": 41,
   "metadata": {},
   "outputs": [
    {
     "name": "stdout",
     "output_type": "stream",
     "text": [
      "+-------+--------+-----+--------+------+------+-----+---------+-------+--------+------------+-------+-------+------+----------------+--------+--------------+--------------+-----+------+-----+-----+-----+-----+-----+-----+---+-----+-----+-----+-----+----+----+----+----+-----+-----+-----+-----+-----+-----+----+\n",
      "|summary|cord_uid|  sha|source_x| title|   doi|pmcid|pubmed_id|license|abstract|publish_time|authors|journal|mag_id|who_covidence_id|arxiv_id|pdf_json_files|pmc_json_files|  url| s2_id|  _c0|  _c1|  _c2|  _c3|  _c4|  _c5|_c6|  _c7|  _c8|  _c9| _c10|_c11|_c12|_c13|_c14| _c15| _c16| _c17| _c18| _c19| _c20|_c21|\n",
      "+-------+--------+-----+--------+------+------+-----+---------+-------+--------+------------+-------+-------+------+----------------+--------+--------------+--------------+-----+------+-----+-----+-----+-----+-----+-----+---+-----+-----+-----+-----+----+----+----+----+-----+-----+-----+-----+-----+-----+----+\n",
      "|  count|  128648|55847|  128648|128620|100773|60927|    99169| 128609|  101709|      128604| 123809| 122558|  2630|           19018|    3408|         57413|         45346|50465|101777|14945|14945|14945|12295|14945|14945|546|14945|14945|14697|11736| 332|  48|7724|6108|11011|10165|14945|14945|14945|12446| 345|\n",
      "+-------+--------+-----+--------+------+------+-----+---------+-------+--------+------------+-------+-------+------+----------------+--------+--------------+--------------+-----+------+-----+-----+-----+-----+-----+-----+---+-----+-----+-----+-----+----+----+----+----+-----+-----+-----+-----+-----+-----+----+\n",
      "\n"
     ]
    },
    {
     "data": {
      "text/plain": [
       "doiMatch = [cord_uid: string, sha: string ... 40 more fields]\n"
      ]
     },
     "metadata": {},
     "output_type": "display_data",
     "source": "user"
    },
    {
     "data": {
      "text/plain": [
       "[cord_uid: string, sha: string ... 40 more fields]"
      ]
     },
     "execution_count": 41,
     "metadata": {},
     "output_type": "execute_result"
    }
   ],
   "source": [
    "val doiMatch = sdf.join(magPapers, sdf(\"doi\")===magPapers(\"_c2\"), \"left\").cache()\n",
    "doiMatch.describe().filter($\"summary\" === \"count\").show"
   ]
  },
  {
   "cell_type": "code",
   "execution_count": 9,
   "metadata": {},
   "outputs": [
    {
     "name": "stdout",
     "output_type": "stream",
     "text": [
      "+-------+--------+-----+--------+------+------+-----+---------+-------+--------+------------+-------+-------+------+----------------+--------+--------------+--------------+------+------+----------+--------------+------+\n",
      "|summary|cord_uid|  sha|source_x| title|   doi|pmcid|pubmed_id|license|abstract|publish_time|authors|journal|mag_id|who_covidence_id|arxiv_id|pdf_json_files|pmc_json_files|   url| s2_id|pmcAuthors|pmcAffiliation| MAGid|\n",
      "+-------+--------+-----+--------+------+------+-----+---------+-------+--------+------------+-------+-------+------+----------------+--------+--------------+--------------+------+------+----------+--------------+------+\n",
      "|  count|  209004|88204|  209004|208946|147939|92205|   125284| 209004|  148791|      208986| 202268| 197107|     0|           57974|    2764|         88204|         67127|162199|180270|     67127|         67127|184143|\n",
      "+-------+--------+-----+--------+------+------+-----+---------+-------+--------+------------+-------+-------+------+----------------+--------+--------------+--------------+------+------+----------+--------------+------+\n",
      "\n"
     ]
    },
    {
     "data": {
      "text/plain": [
       "idMap = [_c0: string, _c1: string]\n",
       "idMatch = [cord_uid: string, sha: string ... 20 more fields]\n"
      ]
     },
     "metadata": {},
     "output_type": "display_data"
    },
    {
     "data": {
      "text/plain": [
       "[cord_uid: string, sha: string ... 20 more fields]"
      ]
     },
     "execution_count": 9,
     "metadata": {},
     "output_type": "execute_result"
    }
   ],
   "source": [
    "val idMap = spark.read.format(\"csv\").option(\"header\", false).load(\"wasbs://mag-2020-07-29@iunimag.blob.core.windows.net/2020-08-04-CORD-UID-MappedTo-2020-07-29-MAG-ID.csv\")\n",
    "val idMatch = sdf.join(idMap, sdf(\"cord_uid\")===idMap(\"_c0\"), \"left\").withColumnRenamed(\"_c1\",\"MAGid\").drop(\"_c0\")\n",
    "idMatch.describe().filter($\"summary\" === \"count\").show"
   ]
  },
  {
   "cell_type": "code",
   "execution_count": 10,
   "metadata": {},
   "outputs": [
    {
     "name": "stdout",
     "output_type": "stream",
     "text": [
      "+-------+--------+------+\n",
      "|summary|cord_uid|MAGids|\n",
      "+-------+--------+------+\n",
      "|  count|  205829|205829|\n",
      "+-------+--------+------+\n",
      "\n"
     ]
    },
    {
     "data": {
      "text/plain": [
       "idMatch2 = [cord_uid: string, MAGids: string]\n"
      ]
     },
     "metadata": {},
     "output_type": "display_data"
    },
    {
     "data": {
      "text/plain": [
       "[cord_uid: string, MAGids: string]"
      ]
     },
     "execution_count": 10,
     "metadata": {},
     "output_type": "execute_result"
    }
   ],
   "source": [
    "val idMatch2 = idMatch.groupBy(\"cord_uid\").agg(concat_ws(\";\", collect_list(\"MAGid\")) as \"MAGids\")\n",
    "idMatch2.describe().filter($\"summary\" === \"count\").show"
   ]
  },
  {
   "cell_type": "code",
   "execution_count": 5,
   "metadata": {},
   "outputs": [
    {
     "data": {
      "text/plain": [
       "Name: Compile Error\n",
       "Message: <console>:44: error: not found: value magPapers\n",
       "       val magMatch = idMatch.join(magPapers, idMatch(\"MAGid\")===magPapers(\"_c0\"), \"left\").cache()\n",
       "                                   ^\n",
       "<console>:44: error: not found: value magPapers\n",
       "       val magMatch = idMatch.join(magPapers, idMatch(\"MAGid\")===magPapers(\"_c0\"), \"left\").cache()\n",
       "                                                                 ^\n",
       "\n",
       "StackTrace: "
      ]
     },
     "execution_count": 5,
     "metadata": {},
     "output_type": "execute_result"
    }
   ],
   "source": [
    "val magMatch = idMatch.join(magPapers, idMatch(\"MAGid\")===magPapers(\"_c0\"), \"left\").cache()\n",
    "magMatch.describe().filter($\"summary\" === \"count\").show"
   ]
  },
  {
   "cell_type": "code",
   "execution_count": 11,
   "metadata": {},
   "outputs": [
    {
     "name": "stdout",
     "output_type": "stream",
     "text": [
      "+---+----------+----------+---+--------------------+--------------------+\n",
      "|_c0|       _c1|       _c2|_c3|                 _c4|                 _c5|\n",
      "+---+----------+----------+---+--------------------+--------------------+\n",
      "|  9|2632942543|      null|  1|Victoriano Perruc...|                null|\n",
      "| 15| 199142497|      null|  1|     Robert Münscher|Heidelberg, Deuts...|\n",
      "| 15| 680395887|      null|  2|       Julia Hormuth|Reutlingen, Deuts...|\n",
      "| 23|1243978490|  79576946|  1|     Eric T Stoopler|Department of Ora...|\n",
      "| 23|2582258949|      null|  3| Arthur S Kuperstein|                null|\n",
      "| 23|2582736345|      null|  2|        Ying Wai Sia|                null|\n",
      "| 58|2641488431|      null|  1|             I. Uray|                null|\n",
      "| 58|2693978806|      null|  2|           P. Kovacs|                null|\n",
      "| 79|2662843304|      null|  1|           K. Suresh|                null|\n",
      "| 79|2683440697|      null|  2|     T. S. J. Norman|                null|\n",
      "| 87|2676159639|      null|  1| Gabriel Torres Puga|                null|\n",
      "|108|2126642415| 165102784|  1|      Matthew Lovett|Duquesne Universi...|\n",
      "|125|1995014452| 169199633|  2|     David Hannaford|Aston University ...|\n",
      "|125|2002579779| 169199633|  1|           Jon Bader|Aston University ...|\n",
      "|125|2250382311| 169199633|  4|        John Edwards|Aston University ...|\n",
      "|125|2283694448| 169199633|  3|    Alastair Cochran|Aston University ...|\n",
      "|138|2729948773|1316910977|  2|       Tropea Alfred|E. I. du Pont De ...|\n",
      "|138|2825090221|      null|  1|      Blackwell John|CROMPTON & KNOWLE...|\n",
      "|143|2137699977|      null|  1|     Lina Birgersson|                null|\n",
      "|147|2616864840|      null|  1|       Callejas Pozo|                null|\n",
      "+---+----------+----------+---+--------------------+--------------------+\n",
      "only showing top 20 rows\n",
      "\n"
     ]
    },
    {
     "data": {
      "text/plain": [
       "magPPA = [_c0: bigint, _c1: bigint ... 4 more fields]\n"
      ]
     },
     "metadata": {},
     "output_type": "display_data"
    },
    {
     "data": {
      "text/plain": [
       "[_c0: bigint, _c1: bigint ... 4 more fields]"
      ]
     },
     "execution_count": 11,
     "metadata": {},
     "output_type": "execute_result"
    }
   ],
   "source": [
    "val magPPA = spark.read.format(\"csv\")\n",
    "      //.option(\"header\", \"true\")\n",
    "      .option(\"delimiter\",\"\\t\")\n",
    "      .option(\"inferSchema\",\"true\")\n",
    "      .load(\"wasbs://mag-2020-07-29@iunimag.blob.core.windows.net/mag/PaperAuthorAffiliations.txt\")\n",
    "\n",
    "magPPA.show"
   ]
  },
  {
   "cell_type": "code",
   "execution_count": 12,
   "metadata": {},
   "outputs": [
    {
     "name": "stdout",
     "output_type": "stream",
     "text": [
      "+-------+--------+------+--------+------+------+------+---------+-------+--------+------------+-------+-------+------+----------------+--------+--------------+--------------+------+------+----------+--------------+------+------+--------+-------------+-----------+------+-----------+\n",
      "|summary|cord_uid|   sha|source_x| title|   doi| pmcid|pubmed_id|license|abstract|publish_time|authors|journal|mag_id|who_covidence_id|arxiv_id|pdf_json_files|pmc_json_files|   url| s2_id|pmcAuthors|pmcAffiliation| MAGid|MAGid2|authorID|affiliationID|authorOrder|author|affiliation|\n",
      "+-------+--------+------+--------+------+------+------+---------+-------+--------+------------+-------+-------+------+----------------+--------+--------------+--------------+------+------+----------+--------------+------+------+--------+-------------+-----------+------+-----------+\n",
      "|  count|  795656|400653|  795656|795585|642212|384412|   556546| 795656|  647090|      795607| 781626| 749525|     0|          160541|    5515|        400653|        304380|671196|700846|    304380|        304380|770795|732264|  732264|       732264|     732264|732264|     695759|\n",
      "+-------+--------+------+--------+------+------+------+---------+-------+--------+------------+-------+-------+------+----------------+--------+--------------+--------------+------+------+----------+--------------+------+------+--------+-------------+-----------+------+-----------+\n",
      "\n"
     ]
    },
    {
     "data": {
      "text/plain": [
       "magPPA2 = [MAGid2: bigint, authorID: bigint ... 4 more fields]\n",
       "magMatchPPA = [cord_uid: string, sha: string ... 26 more fields]\n"
      ]
     },
     "metadata": {},
     "output_type": "display_data"
    },
    {
     "data": {
      "text/plain": [
       "[cord_uid: string, sha: string ... 26 more fields]"
      ]
     },
     "execution_count": 12,
     "metadata": {},
     "output_type": "execute_result"
    }
   ],
   "source": [
    "val magPPA2 = magPPA.toDF(\"MAGid2\",\"authorID\",\"affiliationID\",\"authorOrder\",\"author\",\"affiliation\").filter(\"affiliationID is not null\")\n",
    "val magMatchPPA = idMatch.join(magPPA2, idMatch(\"MAGid\")===magPPA2(\"MAGid2\"), \"left\").cache()\n",
    "magMatchPPA.describe().filter($\"summary\" === \"count\").show"
   ]
  },
  {
   "cell_type": "code",
   "execution_count": 14,
   "metadata": {},
   "outputs": [
    {
     "name": "stdout",
     "output_type": "stream",
     "text": [
      "+--------+-----+--------------------+--------------------+-------------+--------------------+--------------------+-----+-----+-------+----------+----------+-------------------+\n",
      "|     _c0|  _c1|                 _c2|                 _c3|          _c4|                 _c5|                 _c6|  _c7|  _c8|    _c9|      _c10|      _c11|               _c12|\n",
      "+--------+-----+--------------------+--------------------+-------------+--------------------+--------------------+-----+-----+-------+----------+----------+-------------------+\n",
      "|20455151| 9939|         air liquide|         Air Liquide|grid.476009.c|https://web.archi...|http://en.wikiped...| 6667| 6659|  55418|52.5035934|  -1.80516|2016-06-24 00:00:00|\n",
      "|24386293|13887|hellenic national...|Hellenic National...|         null|http://www.hnms.g...|http://en.wikiped...|   84|   84|   1871|  37.97614|   23.7364|2016-06-24 00:00:00|\n",
      "|32956416|12964|catholic universi...|Catholic Universi...|grid.448708.7|  http://www.uco.fr/|http://en.wikiped...|  337|  329|   4032|  47.46472|  -0.54861|2016-06-24 00:00:00|\n",
      "|35926432|11724|mackay medical co...|Mackay Medical Co...|grid.452449.a|http://www.mmc.ed...|http://en.wikiped...| 1360| 1355|  11867|  25.25436|121.495087|2016-06-24 00:00:00|\n",
      "|37448385|11856|chinese people s ...|Chinese People's ...|         null|http://www.ppsuc....|http://en.wikiped...| 1728| 1723|   2273|  39.90469|116.407173|2016-06-24 00:00:00|\n",
      "|37712293|13004|madeira interacti...|Madeira Interacti...|         null|http://www.m-iti....|http://en.wikiped...|  415|  407|   2888|  32.65889| -16.92444|2016-06-24 00:00:00|\n",
      "|42117203|17247|queen s college l...|Queen's College, ...|         null|http://www.qcl.or...|http://en.wikiped...|    8|    8|     11|  51.51837|  -0.14715|2016-06-24 00:00:00|\n",
      "|50614327|11815| amec foster wheeler| Amec Foster Wheeler|grid.436455.5|http://www.amecfw...|http://en.wikiped...| 1054| 1043|  11619|41.8807068| -87.67417|2016-06-24 00:00:00|\n",
      "|62987803|15924|ukrainian state u...|Ukrainian State U...|grid.445773.6|http://usufit.edu...|http://en.wikiped...|   30|   30|     22|   48.3042|   38.0181|2016-06-24 00:00:00|\n",
      "|71576600|14169|ural state mining...|Ural State Mining...|grid.446243.3|http://www.ursmu.ru/|http://en.wikiped...|  161|  161|    192|  56.82611|  60.59583|2016-06-24 00:00:00|\n",
      "|76806421|13032|selex sistemi int...|SELEX Sistemi Int...|  grid.9371.c|http://www.leonar...|http://en.wikiped...|  348|  345|   2203|   41.9348|12.6062136|2016-06-24 00:00:00|\n",
      "|78757542| 7478|university of new...|University of New...|grid.266842.c|http://www.newcas...|http://en.wikiped...|51257|50464|1207714| -32.89278|151.704437|2016-06-24 00:00:00|\n",
      "|80046288|10163|   walden university|   Walden University|grid.412868.1|http://www.walden...|http://en.wikiped...| 3730| 3721|  23603|44.9813271| -93.26623|2016-06-24 00:00:00|\n",
      "|81020251|14195|great lakes insti...|Great Lakes Insti...|grid.464927.a|                null|                null|  127|  126|   1201|12.5734711|  80.13986|2016-06-24 00:00:00|\n",
      "|83776822|11754|shandong institut...|Shandong Institut...|grid.443652.2|http://www.sdibt....|http://en.wikiped...| 1804| 1798|   3643|  37.48682|121.444229|2016-06-24 00:00:00|\n",
      "|84117484|17039|      college boreal|      Collège Boréal|grid.421295.9|http://www.colleg...|http://en.wikiped...|   10|    8|     16|46.5172272|  -80.9933|2016-06-24 00:00:00|\n",
      "|90303723|14105|scientific counci...|Scientific Counci...|grid.465268.b|  http://www.wrr.nl/|http://en.wikiped...|   92|   91|   1633|52.0701561|  4.305746|2016-06-24 00:00:00|\n",
      "|94975175|11844|des moines univer...|Des Moines Univer...|grid.255049.f| http://www.dmu.edu/|http://en.wikiped...|  860|  853|  14976|    41.584|   -93.662|2016-06-24 00:00:00|\n",
      "|95198407|14621|helpage internati...|HelpAge Internati...|         null|http://www.helpag...|http://en.wikiped...|   43|   43|    849|  51.52496|  -0.12812|2016-06-24 00:00:00|\n",
      "|98720382|14574|american school o...|American School o...|grid.461976.b|http://www.ascsa....|http://en.wikiped...|   85|   85|    686|  37.97944|  23.74806|2016-06-24 00:00:00|\n",
      "+--------+-----+--------------------+--------------------+-------------+--------------------+--------------------+-----+-----+-------+----------+----------+-------------------+\n",
      "only showing top 20 rows\n",
      "\n"
     ]
    },
    {
     "data": {
      "text/plain": [
       "magAffiliation = [_c0: bigint, _c1: int ... 11 more fields]\n"
      ]
     },
     "metadata": {},
     "output_type": "display_data"
    },
    {
     "data": {
      "text/plain": [
       "lastException: Throwable = null\n"
      ]
     },
     "metadata": {},
     "output_type": "display_data"
    },
    {
     "data": {
      "text/plain": [
       "[_c0: bigint, _c1: int ... 11 more fields]"
      ]
     },
     "execution_count": 14,
     "metadata": {},
     "output_type": "execute_result"
    }
   ],
   "source": [
    "val magAffiliation = spark.read.format(\"csv\")\n",
    "      //.option(\"header\", \"true\")\n",
    "      .option(\"delimiter\",\"\\t\")\n",
    "      .option(\"inferSchema\",\"true\")\n",
    "      .load(\"wasbs://mag-2020-07-29@iunimag.blob.core.windows.net/mag/Affiliations.txt\")\n",
    "\n",
    "magAffiliation.show"
   ]
  },
  {
   "cell_type": "code",
   "execution_count": 15,
   "metadata": {},
   "outputs": [
    {
     "name": "stdout",
     "output_type": "stream",
     "text": [
      "+-------+--------+------+--------+------+------+------+---------+-------+--------+------------+-------+-------+------+----------------+--------+--------------+--------------+------+------+----------+--------------+------+------+--------+-------------+-----------+------+-----------+--------------+--------------+-----------+------+------+----------+-------------+--------+---------+\n",
      "|summary|cord_uid|   sha|source_x| title|   doi| pmcid|pubmed_id|license|abstract|publish_time|authors|journal|mag_id|who_covidence_id|arxiv_id|pdf_json_files|pmc_json_files|   url| s2_id|pmcAuthors|pmcAffiliation| MAGid|MAGid2|authorID|affiliationID|authorOrder|author|affiliation|affiliationID2|normalizedName|displayName|GRIDid|  wiki|paperTotal|citationTotal|Latitude|Longitude|\n",
      "+-------+--------+------+--------+------+------+------+---------+-------+--------+------------+-------+-------+------+----------------+--------+--------------+--------------+------+------+----------+--------------+------+------+--------+-------------+-----------+------+-----------+--------------+--------------+-----------+------+------+----------+-------------+--------+---------+\n",
      "|  count|  795656|400653|  795656|795585|642212|384412|   556546| 795656|  647090|      795607| 781626| 749525|     0|          160541|    5515|        400653|        304380|671196|700846|    304380|        304380|770795|732264|  732264|       732264|     732264|732264|     695759|        732264|        732264|     732264|695572|730232|    732264|       732264|  730435|   730435|\n",
      "+-------+--------+------+--------+------+------+------+---------+-------+--------+------------+-------+-------+------+----------------+--------+--------------+--------------+------+------+----------+--------------+------+------+--------+-------------+-----------+------+-----------+--------------+--------------+-----------+------+------+----------+-------------+--------+---------+\n",
      "\n"
     ]
    },
    {
     "data": {
      "text/plain": [
       "magAffiliation2 = [affiliationID2: bigint, normalizedName: string ... 7 more fields]\n",
       "magMatchPPA2 = [cord_uid: string, sha: string ... 35 more fields]\n"
      ]
     },
     "metadata": {},
     "output_type": "display_data"
    },
    {
     "data": {
      "text/plain": [
       "[cord_uid: string, sha: string ... 35 more fields]"
      ]
     },
     "execution_count": 15,
     "metadata": {},
     "output_type": "execute_result"
    }
   ],
   "source": [
    "val magAffiliation2 = magAffiliation.select(\"_c0\",\"_c2\",\"_c3\",\"_c4\",\"_c6\",\"_c7\",\"_c9\",\"_c10\",\"_c11\").toDF(\"affiliationID2\",\"normalizedName\",\"displayName\",\"GRIDid\",\"wiki\",\"paperTotal\", \"citationTotal\", \"Latitude\", \"Longitude\")\n",
    "val magMatchPPA2 = magMatchPPA.join(magAffiliation2, magMatchPPA(\"affiliationID\")===magAffiliation2(\"affiliationID2\"), \"left\").cache()\n",
    "magMatchPPA2.describe().filter($\"summary\" === \"count\").show"
   ]
  },
  {
   "cell_type": "code",
   "execution_count": 16,
   "metadata": {},
   "outputs": [
    {
     "name": "stdout",
     "output_type": "stream",
     "text": [
      "+--------+-------------------------------------------------------------------------------------------------------------+-------------------------------------------------------------------------------------------------------------+--------------------+-------------------------------------------------------------------------------------------------------------+--------------------------------------------------------------------------------------------------------------------------------------------------------------------------------------------------------------------------------------------------------------------------------------------------------------+--------------------------------------------------------------------------------------------------------------------------------------------------------------------------------------------------------------------------------------------------------------------------------------------------------------------+-------------------------------------------------------------------------------------------------------------------------------------------+\n",
      "|cord_uid|MAGids                                                                                                       |authorids                                                                                                    |authorOrders        |affiliationids                                                                                               |affiliationNormalized                                                                                                                                                                                                                                                                                         |affiliationNames                                                                                                                                                                                                                                                                                                    |GRIDids                                                                                                                                    |\n",
      "+--------+-------------------------------------------------------------------------------------------------------------+-------------------------------------------------------------------------------------------------------------+--------------------+-------------------------------------------------------------------------------------------------------------+--------------------------------------------------------------------------------------------------------------------------------------------------------------------------------------------------------------------------------------------------------------------------------------------------------------+--------------------------------------------------------------------------------------------------------------------------------------------------------------------------------------------------------------------------------------------------------------------------------------------------------------------+-------------------------------------------------------------------------------------------------------------------------------------------+\n",
      "|00a19z5i|2065863039;2065863039;2065863039;2065863039;2065863039;2065863039                                            |19913035;1998044908;2085272691;2103951155;2313423376;2491059991                                              |2;1;3;4;5;6         |2800006345;1299303238;1850255;1850255;1299303238;1299303238                                                  |leiden university medical center;national institutes of health;university of basel;university of basel;national institutes of health;national institutes of health                                                                                                                                            |Leiden University Medical Center;National Institutes of Health;University of Basel;University of Basel;National Institutes of Health;National Institutes of Health                                                                                                                                                  |grid.10419.3d;grid.94365.3d;grid.6612.3;grid.6612.3;grid.94365.3d;grid.94365.3d                                                            |\n",
      "|02rcmt0g|2012911450;2012911450;2012911450;2012911450;2012911450                                                       |2127844664;2152867687;2154212754;2429219040;2776001672                                                       |1;5;3;2;4           |592451;592451;592451;592451;31419693                                                                         |indiana university;indiana university;indiana university;indiana university;kyungpook national university                                                                                                                                                                                                     |Indiana University;Indiana University;Indiana University;Indiana University;Kyungpook National University                                                                                                                                                                                                           |grid.257410.5;grid.257410.5;grid.257410.5;grid.257410.5;grid.258803.4                                                                      |\n",
      "|034w5afv|2998409415;2998409415;2998409415;2998409415;2998409415;2998409415                                            |125278209;2012668690;2019881018;2315351325;2899416205;2997211881                                             |4;3;7;5;2;1         |884181516;884181516;884181516;884181516;884181516;884181516                                                  |universidad autonoma del estado de morelos;universidad autonoma del estado de morelos;universidad autonoma del estado de morelos;universidad autonoma del estado de morelos;universidad autonoma del estado de morelos;universidad autonoma del estado de morelos                                             |Universidad Autónoma del Estado de Morelos;Universidad Autónoma del Estado de Morelos;Universidad Autónoma del Estado de Morelos;Universidad Autónoma del Estado de Morelos;Universidad Autónoma del Estado de Morelos;Universidad Autónoma del Estado de Morelos                                                   |grid.412873.b;grid.412873.b;grid.412873.b;grid.412873.b;grid.412873.b;grid.412873.b                                                        |\n",
      "|04uf62g7|2594827305                                                                                                   |2628219796                                                                                                   |3                   |2800491743                                                                                                   |sacred heart hospital                                                                                                                                                                                                                                                                                         |Sacred Heart Hospital                                                                                                                                                                                                                                                                                               |grid.460942.d                                                                                                                              |\n",
      "|05xwkii8|3025044630;3025044630                                                                                        |1629111649;2263721463                                                                                        |2;1                 |161318765;161318765                                                                                          |university of california los angeles;university of california los angeles                                                                                                                                                                                                                                     |University of California, Los Angeles;University of California, Los Angeles                                                                                                                                                                                                                                         |grid.19006.3e;grid.19006.3e                                                                                                                |\n",
      "|07peindz|                                                                                                             |                                                                                                             |                    |                                                                                                             |                                                                                                                                                                                                                                                                                                              |                                                                                                                                                                                                                                                                                                                    |                                                                                                                                           |\n",
      "|08hc3bwd|3042066663;3042066663;3042066663;3042066663;3042066663                                                       |1978686820;2040088585;2178443833;2651447467;3019094123                                                       |12;13;8;9;10        |189158943;189158943;189158943;189158943;189158943                                                            |university of milan;university of milan;university of milan;university of milan;university of milan                                                                                                                                                                                                           |University of Milan;University of Milan;University of Milan;University of Milan;University of Milan                                                                                                                                                                                                                 |grid.4708.b;grid.4708.b;grid.4708.b;grid.4708.b;grid.4708.b                                                                                |\n",
      "|0bogmafi|                                                                                                             |                                                                                                             |                    |                                                                                                             |                                                                                                                                                                                                                                                                                                              |                                                                                                                                                                                                                                                                                                                    |                                                                                                                                           |\n",
      "|0bpse3a0|2054669441;2054669441;2054669441;2054669441;2054669441                                                       |2233198491;2275196589;2304836341;3005274782;3005274782                                                       |2;4;3;1;1           |124601658;124601658;124601658;124601658;1313323035                                                           |university of parma;university of parma;university of parma;university of parma;russian academy of sciences                                                                                                                                                                                                   |University of Parma;University of Parma;University of Parma;University of Parma;Russian Academy of Sciences                                                                                                                                                                                                         |grid.10383.39;grid.10383.39;grid.10383.39;grid.10383.39;grid.4886.2                                                                        |\n",
      "|0c8hob5l|2917228511;2917228511;2917228511;2917228511;2917228511;2917228511;2917228511;2917228511;2917228511;2917228511|2100982618;2103174634;2549886304;2619766754;2765815937;2766749557;2801314204;2912623302;2913416547;2913631469|10;1;9;4;3;2;7;8;5;6|1327930874;1327930874;1327930874;1327930874;1327930874;1327930874;1327930874;1327930874;1327930874;1327930874|apollo hospitals;apollo hospitals;apollo hospitals;apollo hospitals;apollo hospitals;apollo hospitals;apollo hospitals;apollo hospitals;apollo hospitals;apollo hospitals                                                                                                                                     |Apollo Hospitals;Apollo Hospitals;Apollo Hospitals;Apollo Hospitals;Apollo Hospitals;Apollo Hospitals;Apollo Hospitals;Apollo Hospitals;Apollo Hospitals;Apollo Hospitals                                                                                                                                           |grid.413839.4;grid.413839.4;grid.413839.4;grid.413839.4;grid.413839.4;grid.413839.4;grid.413839.4;grid.413839.4;grid.413839.4;grid.413839.4|\n",
      "|0dac26xk|                                                                                                             |                                                                                                             |                    |                                                                                                             |                                                                                                                                                                                                                                                                                                              |                                                                                                                                                                                                                                                                                                                    |                                                                                                                                           |\n",
      "|0egc0hkx|3035520492                                                                                                   |3006491464                                                                                                   |1                   |18729865                                                                                                     |british dental association                                                                                                                                                                                                                                                                                    |British Dental Association                                                                                                                                                                                                                                                                                          |                                                                                                                                           |\n",
      "|0f5d2lxy|3042807636;3042807636;3042807636                                                                             |2755134825;2902205447;3042384681                                                                             |3;1;2               |181190671;181190671;181190671                                                                                |new york medical college;new york medical college;new york medical college                                                                                                                                                                                                                                    |New York Medical College;New York Medical College;New York Medical College                                                                                                                                                                                                                                          |grid.260917.b;grid.260917.b;grid.260917.b                                                                                                  |\n",
      "|0hf5nkbc|3023025232;3023025232;3023025232;3023025232;3023025232;3023025232;3023025232                                 |2132439200;2635336135;2670433135;2801183877;2964955867;3020821853;3022511426                                 |9;5;4;6;1;3;7       |20231570;20231570;20231570;20231570;20231570;2802939634;2802939634                                           |peking university;peking university;peking university;peking university;peking university;chinese pla general hospital;chinese pla general hospital                                                                                                                                                           |Peking University;Peking University;Peking University;Peking University;Peking University;Chinese PLA General Hospital;Chinese PLA General Hospital                                                                                                                                                                 |grid.11135.37;grid.11135.37;grid.11135.37;grid.11135.37;grid.11135.37;grid.414252.4;grid.414252.4                                          |\n",
      "|0if5z3xp|2064570507;2064570507                                                                                        |2045917102;2110523902                                                                                        |2;1                 |141945490;141945490                                                                                          |university of british columbia;university of british columbia                                                                                                                                                                                                                                                 |University of British Columbia;University of British Columbia                                                                                                                                                                                                                                                       |grid.17091.3e;grid.17091.3e                                                                                                                |\n",
      "|0jkl2f66|2568259424;2568259424;2568259424;2568259424                                                                  |2171645175;2178826165;2587886194;2588078072                                                                  |4;3;1;2             |165951966;165951966;165951966;1289568071                                                                     |university of texas health science center at san antonio;university of texas health science center at san antonio;university of texas health science center at san antonio;san antonio military medical center                                                                                                |University of Texas Health Science Center at San Antonio;University of Texas Health Science Center at San Antonio;University of Texas Health Science Center at San Antonio;San Antonio Military Medical Center                                                                                                      |grid.267309.9;grid.267309.9;grid.267309.9;grid.416653.3                                                                                    |\n",
      "|0k0n62rm|                                                                                                             |                                                                                                             |                    |                                                                                                             |                                                                                                                                                                                                                                                                                                              |                                                                                                                                                                                                                                                                                                                    |                                                                                                                                           |\n",
      "|0lv2d091|2531686969;2531686969;2531686969;2531686969;2531686969;2531686969;2531686969;2531686969;2531686969;2531686969|2100114044;2100166561;2100166561;2165917120;2184489236;2305222930;2491336121;2551485194;2552766008;2572735316|9;5;5;6;1;2;3;4;7;8 |68171755;91656880;151221077;16733864;68171755;16733864;68171755;68171755;68171755;68171755                   |national defense medical center;china medical university;chung yuan christian university;national taiwan university;national defense medical center;national taiwan university;national defense medical center;national defense medical center;national defense medical center;national defense medical center|National Defense Medical Center;China Medical University (PRC);Chung Yuan Christian University;National Taiwan University;National Defense Medical Center;National Taiwan University;National Defense Medical Center;National Defense Medical Center;National Defense Medical Center;National Defense Medical Center|grid.260565.2;grid.412449.e;grid.411649.f;grid.19188.39;grid.260565.2;grid.19188.39;grid.260565.2;grid.260565.2;grid.260565.2;grid.260565.2|\n",
      "|0n2dd7u6|2582323298;2582323298;2582323298;2582323298;2582323298;2582323298                                            |71486077;1608370746;1887148550;2119635048;2463202012;2531327674                                              |6;3;1;2;5;4         |170203145;170203145;170203145;40120149;40120149;40120149                                                     |laboratory of molecular biology;laboratory of molecular biology;laboratory of molecular biology;university of oxford;university of oxford;university of oxford                                                                                                                                                |Laboratory of Molecular Biology;Laboratory of Molecular Biology;Laboratory of Molecular Biology;University of Oxford;University of Oxford;University of Oxford                                                                                                                                                      |grid.42475.30;grid.42475.30;grid.42475.30;grid.4991.5;grid.4991.5;grid.4991.5                                                              |\n",
      "|0pk8e2jf|                                                                                                             |                                                                                                             |                    |                                                                                                             |                                                                                                                                                                                                                                                                                                              |                                                                                                                                                                                                                                                                                                                    |                                                                                                                                           |\n",
      "+--------+-------------------------------------------------------------------------------------------------------------+-------------------------------------------------------------------------------------------------------------+--------------------+-------------------------------------------------------------------------------------------------------------+--------------------------------------------------------------------------------------------------------------------------------------------------------------------------------------------------------------------------------------------------------------------------------------------------------------+--------------------------------------------------------------------------------------------------------------------------------------------------------------------------------------------------------------------------------------------------------------------------------------------------------------------+-------------------------------------------------------------------------------------------------------------------------------------------+\n",
      "only showing top 20 rows\n",
      "\n"
     ]
    },
    {
     "data": {
      "text/plain": [
       "PaperMAG = [cord_uid: string, MAGids: string ... 6 more fields]\n"
      ]
     },
     "metadata": {},
     "output_type": "display_data"
    },
    {
     "data": {
      "text/plain": [
       "[cord_uid: string, MAGids: string ... 6 more fields]"
      ]
     },
     "execution_count": 16,
     "metadata": {},
     "output_type": "execute_result"
    }
   ],
   "source": [
    "val PaperMAG = magMatchPPA2.groupBy(\"cord_uid\").agg(concat_ws(\";\", collect_list(\"MAGid2\")) as \"MAGids\",\n",
    "                                                    concat_ws(\";\", collect_list(\"authorID\")) as \"authorids\",\n",
    "                                                    concat_ws(\";\", collect_list(\"authorOrder\")) as \"authorOrders\",\n",
    "                                                    concat_ws(\";\", collect_list(\"affiliationID2\")) as \"affiliationids\",\n",
    "                                                    concat_ws(\";\", collect_list(\"normalizedName\")) as \"affiliationNormalized\",\n",
    "                                                    concat_ws(\";\", collect_list(\"displayName\")) as \"affiliationNames\",\n",
    "                                                    concat_ws(\";\", collect_list(\"GRIDid\")) as \"GRIDids\")\n",
    "PaperMAG.show(false)"
   ]
  },
  {
   "cell_type": "code",
   "execution_count": 17,
   "metadata": {},
   "outputs": [
    {
     "name": "stdout",
     "output_type": "stream",
     "text": [
      "+-------+--------+-----+--------+------+------+-----+---------+-------+--------+------------+-------+-------+------+----------------+--------+--------------+--------------+------+------+----------+--------------+------+---------+------------+--------------+---------------------+----------------+-------+\n",
      "|summary|cord_uid|  sha|source_x| title|   doi|pmcid|pubmed_id|license|abstract|publish_time|authors|journal|mag_id|who_covidence_id|arxiv_id|pdf_json_files|pmc_json_files|   url| s2_id|pmcAuthors|pmcAffiliation|MAGids|authorids|authorOrders|affiliationids|affiliationNormalized|affiliationNames|GRIDids|\n",
      "+-------+--------+-----+--------+------+------+-----+---------+-------+--------+------------+-------+-------+------+----------------+--------+--------------+--------------+------+------+----------+--------------+------+---------+------------+--------------+---------------------+----------------+-------+\n",
      "|  count|  207311|87409|  207311|207255|146317|91304|   123955| 207311|  147637|      207294| 200607| 195418|     0|           57491|    2759|         87409|         66516|160560|178607|     66516|         66516|207311|   207311|      207311|        207311|               207311|          207311| 207311|\n",
      "+-------+--------+-----+--------+------+------+-----+---------+-------+--------+------------+-------+-------+------+----------------+--------+--------------+--------------+------+------+----------+--------------+------+---------+------------+--------------+---------------------+----------------+-------+\n",
      "\n"
     ]
    },
    {
     "data": {
      "text/plain": [
       "PaperMAG2 = [cord_uid: string, sha: string ... 26 more fields]\n"
      ]
     },
     "metadata": {},
     "output_type": "display_data"
    },
    {
     "data": {
      "text/plain": [
       "[cord_uid: string, sha: string ... 26 more fields]"
      ]
     },
     "execution_count": 17,
     "metadata": {},
     "output_type": "execute_result"
    }
   ],
   "source": [
    "val PaperMAG2 = sdf.join(PaperMAG, Seq(\"cord_uid\"), \"left\").drop(\"_c0\").cache()\n",
    "PaperMAG2.describe().filter($\"summary\" === \"count\").show"
   ]
  },
  {
   "cell_type": "code",
   "execution_count": 20,
   "metadata": {},
   "outputs": [],
   "source": [
    "PaperMAG2.coalesce(1).write.mode(SaveMode.Overwrite)\n",
    "    .format(\"com.databricks.spark.csv\")\n",
    "    .option(\"header\", \"true\")\n",
    "    .option(\"quote\", \"\\\"\")\n",
    "    .save(\"wasbs://mag-2020-07-29@iunimag.blob.core.windows.net/2020-08-03/CORD-19-MAGinstsFull.csv\")"
   ]
  },
  {
   "cell_type": "code",
   "execution_count": 19,
   "metadata": {},
   "outputs": [
    {
     "name": "stdout",
     "output_type": "stream",
     "text": [
      "+-------------+------------------------------------------+------------------------------------------+-----------------------------------------------------------------------+----------+-------------+-----------+-----------+-------------+\n",
      "|affiliationID|displayName                               |normalizedName                            |wiki                                                                   |paperTotal|citationTotal|Latitude   |Longitude  |GRIDid       |\n",
      "+-------------+------------------------------------------+------------------------------------------+-----------------------------------------------------------------------+----------+-------------+-----------+-----------+-------------+\n",
      "|746986       |Halmstad University                       |halmstad university                       |http://en.wikipedia.org/wiki/Halmstad_University,_Sweden               |2529      |38650        |56.66417   |12.87861   |grid.73638.39|\n",
      "|6141010      |European Institute of Oncology            |european institute of oncology            |http://en.wikipedia.org/wiki/European_Institute_of_Oncology            |7772      |294448       |45.4140358 |9.208186   |grid.15667.33|\n",
      "|8408910      |Cardiff Metropolitan University           |cardiff metropolitan university           |http://en.wikipedia.org/wiki/Cardiff_Metropolitan_University           |2627      |41534        |51.4843    |-3.1649    |grid.47170.35|\n",
      "|10108838     |National University of Salta              |national university of salta              |http://en.wikipedia.org/wiki/National_University_of_Salta              |163       |1277         |-24.7864914|-65.3981247|grid.10821.3a|\n",
      "|23171815     |Zhengzhou University of Light Industry    |zhengzhou university of light industry    |http://en.wikipedia.org/wiki/Zhengzhou_University_of_Light_Industry    |5524      |33698        |34.79742   |113.655128 |grid.413080.e|\n",
      "|45438204     |University of Texas at San Antonio        |university of texas at san antonio        |http://en.wikipedia.org/wiki/University_of_Texas_at_San_Antonio        |22684     |535143       |29.59      |-98.61696  |grid.215352.2|\n",
      "|47396830     |Celgene                                   |celgene                                   |http://en.wikipedia.org/wiki/Celgene                                   |3342      |78820        |40.70987   |-74.3479   |grid.488233.6|\n",
      "|49185572     |Yunnan University of Finance and Economics|yunnan university of finance and economics|http://en.wikipedia.org/wiki/Yunnan_University_of_Finance_and_Economics|2077      |7399         |24.9266472 |102.811188 |grid.464506.5|\n",
      "|51195161     |EMLYON Business School                    |emlyon business school                    |http://en.wikipedia.org/wiki/EMLYON_Business_School                    |1437      |22533        |45.78611   |4.76389    |grid.462218.b|\n",
      "|53298266     |Belarusian State Medical University       |belarusian state medical university       |http://en.wikipedia.org/wiki/Belarusian_State_Medical_University       |557       |1766         |53.86139   |27.48528   |grid.21354.31|\n",
      "|55486353     |Reed College                              |reed college                              |http://en.wikipedia.org/wiki/Reed_College                              |2131      |52529        |45.48      |-122.63    |grid.182981.b|\n",
      "|61057504     |Fujian Agriculture and Forestry University|fujian agriculture and forestry university|http://en.wikipedia.org/wiki/Fujian_Agriculture_and_Forestry_University|12211     |67864        |26.08778   |119.235    |grid.256111.0|\n",
      "|67357951     |KIIT University                           |kiit university                           |http://en.wikipedia.org/wiki/KIIT_University                           |3948      |21618        |20.35278   |85.81944   |grid.412122.6|\n",
      "|72054575     |Cochrane Collaboration                    |cochrane collaboration                    |http://en.wikipedia.org/wiki/Cochrane_(organisation)                   |4135      |188375       |51.7791138 |-1.268244  |grid.420305.0|\n",
      "|75124487     |Gdańsk Medical University                 |gdansk medical university                 |http://en.wikipedia.org/wiki/Gdańsk_Medical_University                 |9946      |171334       |54.36611   |18.63056   |grid.11451.30|\n",
      "|80849659     |National Institute for Space Research     |national institute for space research     |http://en.wikipedia.org/wiki/National_Institute_for_Space_Research     |7067      |108484       |-23.2070217|-45.8612175|grid.419222.e|\n",
      "|91993116     |SIRRIS                                    |sirris                                    |http://en.wikipedia.org/wiki/SIRRIS                                    |136       |998          |50.85107   |4.401868   |grid.423712.1|\n",
      "|111575329    |Bharathiar University                     |bharathiar university                     |http://en.wikipedia.org/wiki/Bharathiar_University                     |7757      |93317        |11.0397692 |76.8788147 |grid.411677.2|\n",
      "|128193699    |Slovak University of Agriculture          |slovak university of agriculture          |http://en.wikipedia.org/wiki/Slovak_University_of_Agriculture          |2237      |10822        |48.31472   |18.0875    |grid.15227.33|\n",
      "|134586953    |Defence Medical Services                  |defence medical services                  |http://en.wikipedia.org/wiki/Defence_Medical_Services                  |195       |2280         |null       |null       |null         |\n",
      "+-------------+------------------------------------------+------------------------------------------+-----------------------------------------------------------------------+----------+-------------+-----------+-----------+-------------+\n",
      "only showing top 20 rows\n",
      "\n"
     ]
    },
    {
     "data": {
      "text/plain": [
       "insititutionMAG = [affiliationID: bigint, displayName: string ... 7 more fields]\n"
      ]
     },
     "metadata": {},
     "output_type": "display_data"
    },
    {
     "data": {
      "text/plain": [
       "[affiliationID: bigint, displayName: string ... 7 more fields]"
      ]
     },
     "execution_count": 19,
     "metadata": {},
     "output_type": "execute_result"
    }
   ],
   "source": [
    "val insititutionMAG = magMatchPPA2.groupBy(\"affiliationID\").agg(//concat_ws(\";\", collect_list(\"MAGid2\")) as \"MAGids\",\n",
    "                                                    //concat_ws(\";\", collect_list(\"cord_uid\")) as \"cord_uids\",\n",
    "                                                    first(\"displayName\") as \"displayName\",\n",
    "                                                    first(\"normalizedName\") as \"normalizedName\",\n",
    "                                                    first(\"wiki\") as \"wiki\",\n",
    "                                                    first(\"paperTotal\") as \"paperTotal\", \n",
    "                                                    first(\"citationTotal\") as \"citationTotal\",\n",
    "                                                    first(\"Latitude\") as \"Latitude\",\n",
    "                                                    first(\"Longitude\") as \"Longitude\",\n",
    "                                                    first(\"GRIDid\") as \"GRIDid\")\n",
    "insititutionMAG.show(false)"
   ]
  },
  {
   "cell_type": "code",
   "execution_count": 21,
   "metadata": {},
   "outputs": [],
   "source": [
    "insititutionMAG//.select(\"wosid\",\"headings\",\"subheadings\",\"WC\",\"SC\",\"disciplines\",\"subdisciplines\",\"fractions\")\n",
    "    .coalesce(1).write.mode(SaveMode.Overwrite)\n",
    "    .format(\"com.databricks.spark.csv\")\n",
    "    .option(\"header\", \"true\")\n",
    "    .option(\"quote\", \"\\\"\")\n",
    "    .save(\"wasbs://mag-2020-07-29@iunimag.blob.core.windows.net/2020-08-03/MAGInstTable.csv\")"
   ]
  },
  {
   "cell_type": "code",
   "execution_count": 7,
   "metadata": {},
   "outputs": [
    {
     "name": "stdout",
     "output_type": "stream",
     "text": [
      "+-------+------+--------+-----+--------+------+------+-----+---------+-------+--------+------------+-------+-------+------+----------------+--------+--------------+--------------+------+------+----------+----------+---------+--------------+--------------+------+\n",
      "|summary|   _c0|cord_uid|  sha|source_x| title|   doi|pmcid|pubmed_id|license|abstract|publish_time|authors|journal|mag_id|who_covidence_id|arxiv_id|pdf_json_files|pmc_json_files|   url| s2_id|pmcAuthors|pdfAuthors|SSAuthors|pmcAffiliation|pdfAffiliation|SSRefs|\n",
      "+-------+------+--------+-----+--------+------+------+-----+---------+-------+--------+------------+-------+-------+------+----------------+--------+--------------+--------------+------+------+----------+----------+---------+--------------+--------------+------+\n",
      "|  count|137411|  137411|63458|  137411|137370|113076|70527|   100629| 137359|  105932|      137366| 132106| 130231|  2649|           27941|    3719|         64965|         52370|124586|111762|     52315|     61451|    64429|         52685|         61040| 64081|\n",
      "+-------+------+--------+-----+--------+------+------+-----+---------+-------+--------+------------+-------+-------+------+----------------+--------+--------------+--------------+------+------+----------+----------+---------+--------------+--------------+------+\n",
      "\n"
     ]
    },
    {
     "data": {
      "text/plain": [
       "meta0 = [_c0: int, cord_uid: string ... 24 more fields]\n"
      ]
     },
     "metadata": {},
     "output_type": "display_data",
     "source": "user"
    },
    {
     "data": {
      "text/plain": [
       "[_c0: int, cord_uid: string ... 24 more fields]"
      ]
     },
     "execution_count": 7,
     "metadata": {},
     "output_type": "execute_result"
    }
   ],
   "source": [
    "val meta0 = spark.read.format(\"csv\")\n",
    "      .option(\"header\", \"true\")\n",
    "      //.option(\"delimiter\",\"\\t\")\n",
    "      .option(\"inferSchema\",\"true\")\n",
    "      .load(\"/dataRCSC/metaAuthors.csv\")\n",
    "\n",
    "meta0.describe().filter($\"summary\" === \"count\").show"
   ]
  },
  {
   "cell_type": "code",
   "execution_count": 3,
   "metadata": {},
   "outputs": [
    {
     "name": "stdout",
     "output_type": "stream",
     "text": [
      "root\n",
      " |-- authors: array (nullable = true)\n",
      " |    |-- element: struct (containsNull = true)\n",
      " |    |    |-- ids: array (nullable = true)\n",
      " |    |    |    |-- element: string (containsNull = true)\n",
      " |    |    |-- name: string (nullable = true)\n",
      " |-- doi: string (nullable = true)\n",
      " |-- doiUrl: string (nullable = true)\n",
      " |-- entities: array (nullable = true)\n",
      " |    |-- element: string (containsNull = true)\n",
      " |-- fieldsOfStudy: array (nullable = true)\n",
      " |    |-- element: string (containsNull = true)\n",
      " |-- id: string (nullable = true)\n",
      " |-- inCitations: array (nullable = true)\n",
      " |    |-- element: string (containsNull = true)\n",
      " |-- journalName: string (nullable = true)\n",
      " |-- journalPages: string (nullable = true)\n",
      " |-- journalVolume: string (nullable = true)\n",
      " |-- magId: string (nullable = true)\n",
      " |-- outCitations: array (nullable = true)\n",
      " |    |-- element: string (containsNull = true)\n",
      " |-- paperAbstract: string (nullable = true)\n",
      " |-- pdfUrls: array (nullable = true)\n",
      " |    |-- element: string (containsNull = true)\n",
      " |-- pmid: string (nullable = true)\n",
      " |-- s2PdfUrl: string (nullable = true)\n",
      " |-- s2Url: string (nullable = true)\n",
      " |-- sources: array (nullable = true)\n",
      " |    |-- element: string (containsNull = true)\n",
      " |-- title: string (nullable = true)\n",
      " |-- venue: string (nullable = true)\n",
      " |-- year: long (nullable = true)\n",
      "\n"
     ]
    },
    {
     "data": {
      "text/plain": [
       "SS = [authors: array<struct<ids:array<string>,name:string>>, doi: string ... 19 more fields]\n"
      ]
     },
     "metadata": {},
     "output_type": "display_data",
     "source": "user"
    },
    {
     "data": {
      "text/plain": [
       "[authors: array<struct<ids:array<string>,name:string>>, doi: string ... 19 more fields]"
      ]
     },
     "execution_count": 3,
     "metadata": {},
     "output_type": "execute_result"
    }
   ],
   "source": [
    "val SS = spark.read.json(\"/dataRCSC/SS-2020-05-27/*.gz\")\n",
    "SS.printSchema()"
   ]
  },
  {
   "cell_type": "code",
   "execution_count": 21,
   "metadata": {},
   "outputs": [
    {
     "name": "stdout",
     "output_type": "stream",
     "text": [
      "+-------+------+--------+-----+--------+------+------+-----+---------+-------+--------+------------+-------+-------+------+----------------+--------+--------------+--------------+------+------+----------+----------+---------+--------------+--------------+------+-----+-----+\n",
      "|summary|   _c0|cord_uid|  sha|source_x| title|   doi|pmcid|pubmed_id|license|abstract|publish_time|authors|journal|mag_id|who_covidence_id|arxiv_id|pdf_json_files|pmc_json_files|   url| s2_id|pmcAuthors|pdfAuthors|SSAuthors|pmcAffiliation|pdfAffiliation|SSRefs|SSdoi| SSid|\n",
      "+-------+------+--------+-----+--------+------+------+-----+---------+-------+--------+------------+-------+-------+------+----------------+--------+--------------+--------------+------+------+----------+----------+---------+--------------+--------------+------+-----+-----+\n",
      "|  count|137411|  137411|63458|  137411|137370|113076|70527|   100629| 137359|  105932|      137366| 132106| 130231|  2649|           27941|    3719|         64965|         52370|124586|111762|     52315|     61451|    64429|         52685|         61040| 64081|18822|18822|\n",
      "+-------+------+--------+-----+--------+------+------+-----+---------+-------+--------+------------+-------+-------+------+----------------+--------+--------------+--------------+------+------+----------+----------+---------+--------------+--------------+------+-----+-----+\n",
      "\n"
     ]
    },
    {
     "data": {
      "text/plain": [
       "SS0 = [SSauthorNames: array<string>, SSauthorIDs: array<array<string>> ... 3 more fields]\n",
       "meta1 = [_c0: int, cord_uid: string ... 29 more fields]\n"
      ]
     },
     "metadata": {},
     "output_type": "display_data",
     "source": "user"
    },
    {
     "data": {
      "text/plain": [
       "lastException: Throwable = null\n"
      ]
     },
     "metadata": {},
     "output_type": "display_data",
     "source": "user"
    },
    {
     "data": {
      "text/plain": [
       "[_c0: int, cord_uid: string ... 29 more fields]"
      ]
     },
     "execution_count": 21,
     "metadata": {},
     "output_type": "execute_result"
    }
   ],
   "source": [
    "val SS0 = SS.select(\"authors.name\", \"authors.ids\", \"doi\", \"id\", \"inCitations\")\n",
    "            .toDF(\"SSauthorNames\",\"SSauthorIDs\",\"SSdoi\",\"SSid\",\"SSrefs\").cache()\n",
    "val meta1 = meta0.join(SS0, meta0(\"sha\")===SS0(\"SSid\"), \"left\")\n",
    "meta1.describe().filter($\"summary\" === \"count\").show"
   ]
  },
  {
   "cell_type": "code",
   "execution_count": 51,
   "metadata": {},
   "outputs": [
    {
     "name": "stdout",
     "output_type": "stream",
     "text": [
      "+-----------+-------------------+----+\n",
      "|        col|size(SSauthorNames)|size|\n",
      "+-----------+-------------------+----+\n",
      "| [51978410]|                  1|   1|\n",
      "| [71630645]|                  3|   1|\n",
      "| [52393267]|                  3|   1|\n",
      "| [72050485]|                  3|   1|\n",
      "|  [1776025]|                  6|   1|\n",
      "|  [2836018]|                  6|   1|\n",
      "| [47422037]|                  6|   1|\n",
      "|  [1679387]|                  6|   1|\n",
      "|[145799243]|                  6|   1|\n",
      "|[145754722]|                  6|   1|\n",
      "|[114402012]|                  1|   1|\n",
      "|[136282636]|                  1|   1|\n",
      "|[146709087]|                  3|   1|\n",
      "| [51218054]|                  3|   1|\n",
      "|[144681826]|                  3|   1|\n",
      "|[120457898]|                  1|   1|\n",
      "|[152634023]|                  4|   1|\n",
      "|[153204165]|                  4|   1|\n",
      "|  [4244638]|                  4|   1|\n",
      "|  [1796371]|                  4|   1|\n",
      "+-----------+-------------------+----+\n",
      "only showing top 20 rows\n",
      "\n"
     ]
    },
    {
     "data": {
      "text/plain": [
       "SSexp = [col: array<string>, size(SSauthorNames): int ... 1 more field]\n"
      ]
     },
     "metadata": {},
     "output_type": "display_data",
     "source": "user"
    },
    {
     "data": {
      "text/plain": [
       "[col: array<string>, size(SSauthorNames): int ... 1 more field]"
      ]
     },
     "execution_count": 51,
     "metadata": {},
     "output_type": "execute_result"
    }
   ],
   "source": [
    "val SSexp = SS0.select(explode($\"SSauthorIDs\"),size($\"SSauthorNames\")).withColumn(\"size\", size($\"col\"))\n",
    "SSexp.orderBy($\"size\".desc).show"
   ]
  },
  {
   "cell_type": "code",
   "execution_count": 26,
   "metadata": {},
   "outputs": [
    {
     "name": "stdout",
     "output_type": "stream",
     "text": [
      "+-------+------+--------+-----+--------+------+------+-----+---------+-------+--------+------------+-------+-------+------+----------------+--------+--------------+--------------+------+------+----------+----------+---------+--------------+--------------+------+-----+-----+\n",
      "|summary|   _c0|cord_uid|  sha|source_x| title|   doi|pmcid|pubmed_id|license|abstract|publish_time|authors|journal|mag_id|who_covidence_id|arxiv_id|pdf_json_files|pmc_json_files|   url| s2_id|pmcAuthors|pdfAuthors|SSAuthors|pmcAffiliation|pdfAffiliation|SSRefs|SSdoi| SSid|\n",
      "+-------+------+--------+-----+--------+------+------+-----+---------+-------+--------+------------+-------+-------+------+----------------+--------+--------------+--------------+------+------+----------+----------+---------+--------------+--------------+------+-----+-----+\n",
      "|  count|140652|  140652|65282|  140652|140611|116317|73156|   102945| 140600|  107198|      140607| 133820| 133425|  2682|           28189|    3751|         66806|         53180|127814|113137|     53121|     63233|    66263|         53558|         62822| 65913|84057|84057|\n",
      "+-------+------+--------+-----+--------+------+------+-----+---------+-------+--------+------------+-------+-------+------+----------------+--------+--------------+--------------+------+------+----------+----------+---------+--------------+--------------+------+-----+-----+\n",
      "\n"
     ]
    },
    {
     "data": {
      "text/plain": [
       "meta2 = [_c0: int, cord_uid: string ... 29 more fields]\n"
      ]
     },
     "metadata": {},
     "output_type": "display_data",
     "source": "user"
    },
    {
     "data": {
      "text/plain": [
       "[_c0: int, cord_uid: string ... 29 more fields]"
      ]
     },
     "execution_count": 26,
     "metadata": {},
     "output_type": "execute_result"
    }
   ],
   "source": [
    "val meta2 = meta0.join(SS0, meta0(\"doi\")===SS0(\"SSdoi\"), \"left\").cache()\n",
    "meta2.describe().filter($\"summary\" === \"count\").show"
   ]
  },
  {
   "cell_type": "code",
   "execution_count": 29,
   "metadata": {},
   "outputs": [
    {
     "name": "stdout",
     "output_type": "stream",
     "text": [
      "root\n",
      " |-- _c0: integer (nullable = true)\n",
      " |-- cord_uid: string (nullable = true)\n",
      " |-- sha: string (nullable = true)\n",
      " |-- source_x: string (nullable = true)\n",
      " |-- title: string (nullable = true)\n",
      " |-- doi: string (nullable = true)\n",
      " |-- pmcid: string (nullable = true)\n",
      " |-- pubmed_id: string (nullable = true)\n",
      " |-- license: string (nullable = true)\n",
      " |-- abstract: string (nullable = true)\n",
      " |-- publish_time: string (nullable = true)\n",
      " |-- authors: string (nullable = true)\n",
      " |-- journal: string (nullable = true)\n",
      " |-- mag_id: string (nullable = true)\n",
      " |-- who_covidence_id: string (nullable = true)\n",
      " |-- arxiv_id: string (nullable = true)\n",
      " |-- pdf_json_files: string (nullable = true)\n",
      " |-- pmc_json_files: string (nullable = true)\n",
      " |-- url: string (nullable = true)\n",
      " |-- s2_id: string (nullable = true)\n",
      " |-- pmcAuthors: string (nullable = true)\n",
      " |-- pdfAuthors: string (nullable = true)\n",
      " |-- SSAuthors: string (nullable = true)\n",
      " |-- pmcAffiliation: string (nullable = true)\n",
      " |-- pdfAffiliation: string (nullable = true)\n",
      " |-- SSRefs: string (nullable = true)\n",
      " |-- SSauthorNames: array (nullable = true)\n",
      " |    |-- element: string (containsNull = true)\n",
      " |-- SSauthorIDs: array (nullable = true)\n",
      " |    |-- element: array (containsNull = true)\n",
      " |    |    |-- element: string (containsNull = true)\n",
      " |-- SSdoi: string (nullable = true)\n",
      " |-- SSid: string (nullable = true)\n",
      " |-- SSrefs: array (nullable = true)\n",
      " |    |-- element: string (containsNull = true)\n",
      "\n"
     ]
    }
   ],
   "source": [
    "meta2.printSchema"
   ]
  },
  {
   "cell_type": "code",
   "execution_count": 27,
   "metadata": {},
   "outputs": [
    {
     "name": "stdout",
     "output_type": "stream",
     "text": [
      "+-------------------------------------------------------------------------------------------------------------------------------------------------------------------------+-------------------------------------------------------------------------------------------------------------------+------------------------------------------------------------------------------------------------------------------------------------------------------------------------------------------------------------------------------------------------------------------------------------------------------------------------------------------------------------------------------------------------------------------------------------------------------------------------------------------------------------------------------------------------------------------------------------------------------------------------------------------------------------------------------------------------------------------------------------------------------------------------------------------------------------------------------------------------------------------------------------------------------------------------------------------------------------------------------------------------------------------------------------------------------------------------------------------------------------------------------------------------------------------------------------------------------------------------------------------------------------------------------------------------------------------------------------------------------------------------------------------------------------------------------------------------------------------------------------------------------------------------------------------------------------------------------------------------------------------------------------------------------------------------------------------------------------------------------------------------------------------------------------------------------------------------------------------------------------------------------------------------------------------------+\n",
      "|SSauthorNames                                                                                                                                                            |SSauthorIDs                                                                                                        |SSrefs                                                                                                                                                                                                                                                                                                                                                                                                                                                                                                                                                                                                                                                                                                                                                                                                                                                                                                                                                                                                                                                                                                                                                                                                                                                                                                                                                                                                                                                                                                                                                                                                                                                                                                                                                                                                                                                                                                                  |\n",
      "+-------------------------------------------------------------------------------------------------------------------------------------------------------------------------+-------------------------------------------------------------------------------------------------------------------+------------------------------------------------------------------------------------------------------------------------------------------------------------------------------------------------------------------------------------------------------------------------------------------------------------------------------------------------------------------------------------------------------------------------------------------------------------------------------------------------------------------------------------------------------------------------------------------------------------------------------------------------------------------------------------------------------------------------------------------------------------------------------------------------------------------------------------------------------------------------------------------------------------------------------------------------------------------------------------------------------------------------------------------------------------------------------------------------------------------------------------------------------------------------------------------------------------------------------------------------------------------------------------------------------------------------------------------------------------------------------------------------------------------------------------------------------------------------------------------------------------------------------------------------------------------------------------------------------------------------------------------------------------------------------------------------------------------------------------------------------------------------------------------------------------------------------------------------------------------------------------------------------------------------+\n",
      "|[Leeat Granek, Richard G. Tozer, Paolo Mazzotta, Aliya Ramjaun, Monika K Krzyzanowska]                                                                                   |[[4014392], [2802367], [4580483], [6793536], [3551389]]                                                            |[55b702efa9f1684903db425c6728d281e42a3d46, d9e3c9a497ac9ad7cd57a429173463740e1a8364, b8f3d495a2284011b20fd2b86773a4021bb1083e, 893d586248f362f7ef47be0b352290302f2b6f88, 829af42453f1c3f054d4534c8b0b2ee9761b37de, 03f7245116c18575cec7598433e4914e964bad0f, 0a8db35e0d4ed5684fd5d99ff3b7e5aac9919bfe, 2e06b80429d12620c653c6aa25a4c766259565b5, ae8d1a1005490473723d3a1543ba09ac94872abb, 86d25e9b15cbf32be124efccfbb2e580d4cee4d0, 04598406ba490b676dcaf460d135059e5f889fbb, 85904d47ef182382db8bb9ac9a707246a341be1b, e7bb583d758db885a9b743215c86021f34bae110, c20b3260d0d57918b6b3b5d17ba59ee17397fe70, d0be4d10d1ae2f5f5d7e03a1c3b1b9c11b9a7953, cfba02d0993b9ac8353a21b9a9de238620d298ad, 8f8de5cc50d7617548c27e41ddea6d97bd98a0d2, 6bf96226a97c4549b98892cc9134bfd93d2b6254, a99e3544418a7671f393be99b97dc8fce5174da9, be7bd69741bf64435aa04a4572fb014932b47488, e298fc0b524b6586ee11312f7a718c434f1c9d82, 2560678d5ecec739a08d59bc2940dc5b7cd3cb29, 08158de012fdffe53294bf886c1bf2b57e1d1ca1, 8ad4bb818100cdafe81011abc03d5837c036b306, 5855a6616f3711b38129cad7aa6fe01a0de1a487, ddbe8c27d9bc5e1878cc2fd4a9d33530618b1ea6, 4e1218c6e1c5eb71f5efe362df3a0aaa6c32e213, cbc7cb6416ff01e8f3cadbc0794f3392ff0077e8, b52577b1622769ee90f67eaf8c2c0667205eaf88, 7b698b02a7c442ec6cdae5ef67d0c1211d7a1d82, b2d40ffc1129b0617d02312dbfd4559fbae4057c, 4587155fde2577ae84600132cb2e76c180ba8ad3, e9bea68ef6745d006638566af36653a0de7fd393, d280680b1f5d1d8fc5e557f78efc1342feb5e56c, 18bc8f66fe6357399db77b153d5c1831a1c0886b, 62cfb4e7023fa163ec324cda16701db6f221f438, a82c7546e02079221c59ea2aa253830c67684116, befbd35b105e5801561b3dd8b4f7a4eed59d013c, 402e6f6d7546cf433906884ecbb944f273b3a03c, f765904f465fd79ed54b5c2c2e6ef769e202b5ab, 8b45a0d68a57984331de425b64ccfc57c87d2632, 26ed4efd9e4152e1153441d6cb6683ee1806a8ef, cd82f96fd5196e817d63ed7cad930889bcf5d044, 41d8daedc3986d8e43c45deac17ec15ba2c1281c]|\n",
      "|[Gabriela Ilie, Angela Boak, Edward M. Adlaf, Mark Asbridge, Michael D. Cusimano]                                                                                        |[[50576973], [49874662], [4124118], [6969691], [2783951]]                                                          |[1469d262ce543338b61b170b2c3faa205fea5237, e76aad174e228273d5830cc7e3841a70c467256b, 3f7d70ca569fc68fc3b12ba7ab68ddb4dedc736f, bc203b26b39b493a2b8acf8e71b8bb27b6cda69a, b064729d52033820b5ac2812346b6dfe0f3c1c7d, 1ac03f10146dd38cfa29f750d495ee8ca09cad4e, b5e2340e756e38553ac750b7aa43bb8fcf003a80, a12851e6b0574362b35ee190c53a8125347d46eb, b3d4ccec496a430d66a941ae61965f7bdd3ca322, 63fcfda46776c2c8aa78031d6b345ad24161b943, af5996c8e77731c21d924f7b5af348a4115015bc, 7ea3a2b1628ef680ee6df566b79997ee067021e2, 807011d3e527552a943ca6a82b3536efbb317210, 28898b82f7cd1907b7286c47f166e441cca27fcb, 68e92e110968e3e2d0ecb4f73a265ee117694b53, 8d299d1800f884fdc023c336f06d1d7ec82c60f5, 2acde7a8618b7da6affbd06e6b8ddfad8beaf19e, 36c8cf9e5c4accb3f1243588a11ee9ac9a7be5de, fcd4a326fb7784bcbaa5018611d3113244159ff7, 05a555b7b7bc81a48730f8c8ca30501073dd89ff, 681f52d410ad3eec6fdcb31774d74aa6055cf6e4, 8736eabd5263001caa91419d47c230b2eb726263, 10a277c8a15cf3b36224ec9bc0fde8e2c5b2237d, e598c70fdadc3787790a7995de85abebfb729b2c, bb021dc7bc9fcee9dbbb8650e361dd999e447b6d, 64ed1209e398654b91a9a02b0c62df2738fb4cc7, 3ac3fbe7dd3e4b1f64c2ac6e121718d0cd6238b1, 361f1d9a0f74e9ce548281861f58f130e5d98d5a, 873d577034cdc8f9fbae3b6bf6a7c4ad706646a3, a18f8c5b79f5c33a14361620c4af1d34a2c5cbea, fbf96cd4761b9c6cc339154def968cb52b381b1a, aa8bca42f1b0f5b1847f131ffd03269ae4da3b0e, 0932b1e9f64384c1a83efbb599f84f779b613c14, 5758721ceb9000949f5bedecc7f51f845dcdd724, dfe436a53fd070bf6a855d92cb3fc942343de7c3, e061813b81440348a4cb09abc8fc7d3a29c5b5bd, a3ddbba3d90015eeb92c1ca7c2e46339f757e581, 47b2e5a153cfa80683c93f2dd0e27d23a42138ac]                                                                                                                                                                                                                                                            |\n",
      "|null                                                                                                                                                                     |null                                                                                                               |null                                                                                                                                                                                                                                                                                                                                                                                                                                                                                                                                                                                                                                                                                                                                                                                                                                                                                                                                                                                                                                                                                                                                                                                                                                                                                                                                                                                                                                                                                                                                                                                                                                                                                                                                                                                                                                                                                                                    |\n",
      "|null                                                                                                                                                                     |null                                                                                                               |null                                                                                                                                                                                                                                                                                                                                                                                                                                                                                                                                                                                                                                                                                                                                                                                                                                                                                                                                                                                                                                                                                                                                                                                                                                                                                                                                                                                                                                                                                                                                                                                                                                                                                                                                                                                                                                                                                                                    |\n",
      "|[Traimat Boonthai, Thomas P Loch, Qingli Zhang, Michelle Gunn Van Deuren, Mohamed Faisal, Gary E Whelan, Seth J. Herbst]                                                 |[[49181151], [144103644], [2606108], [49613335], [145487402], [33495934], [16255773]]                              |[]                                                                                                                                                                                                                                                                                                                                                                                                                                                                                                                                                                                                                                                                                                                                                                                                                                                                                                                                                                                                                                                                                                                                                                                                                                                                                                                                                                                                                                                                                                                                                                                                                                                                                                                                                                                                                                                                                                                      |\n",
      "|[Thibault J Harmand, Vijaya Raghavan Pattabiraman, Jeffrey W. Bode]                                                                                                      |[[12027675], [8496857], [38926827]]                                                                                |[778bb86a875d8f00253068eb69f1c7db68793d35, 6c320a472101ad1d2434249e40a74d4a00a14dfa, 7393bc1d056ae99a6f6b691fe876e8c8399b30a5, 355d9cc519c6a25d4090c301e37a1d07581ad977, 0abfdc46a26c436738ebc69ad7b1e03b2b59740a]                                                                                                                                                                                                                                                                                                                                                                                                                                                                                                                                                                                                                                                                                                                                                                                                                                                                                                                                                                                                                                                                                                                                                                                                                                                                                                                                                                                                                                                                                                                                                                                                                                                                                                      |\n",
      "|[Akihiko Ichida, Kiyoshi Hasegawa, Tadatoshi Takayama, Hiroya Kudo, Yuko Sakamoto, Shintaro Yamazaki, Yutaka Midorikawa, Tokio Higaki, Yutaka Matsuyama, Norihiro Kokudo]|[[40249794], [50593495], [32547669], [35117745], [1725493], [2027959], [8090047], [4951560], [35225251], [5498617]]|[89f1a1252c97f68b9a4c72db860fce316878756f, 65585f7d1a267d018ea94030a632c302c9f2dc0c, 402640dee8654a04ea9d36a932283b5100235210, ea662b6e33c74314d7d3f1808c8787e2054bf0f7, 652d4ebf0d58b262cfbdb2ea4baec1893fc2e029, b3c061ba546e71963c0213f1586ee0891cbbd189, 11c79b601fcbc604c7491cd1dab2b74f06da9fba]                                                                                                                                                                                                                                                                                                                                                                                                                                                                                                                                                                                                                                                                                                                                                                                                                                                                                                                                                                                                                                                                                                                                                                                                                                                                                                                                                                                                                                                                                                                                                                                                                  |\n",
      "|[Yi-Qiang Cheng]                                                                                                                                                         |[[88385275]]                                                                                                       |[465075d26d187d11e4f779cc98336e338d36b7f3, ae46b4284afd52832239f73ec2d0bdb062ad5f73, 1e912d2c58583bb9540a560d237fca233aefde70, 04ba582c5d86686fda8cec0e942fd708e846ce84, 7d1c89e658e953e50620d9d6a72c20cf98f48056, 14f8fc9675831eda34bfd84ef2c3737657fb52a8, 8621c68f41f7e4f12a8b9c024749cdf613b29a3e, 246aa3de8dbd8770f2b5027e647db170b2b1b71d, 3248559660eb3d572c1a076ca9e8c408e2695056, d6d81787e7d149becbb76f5575eb27360af8ec14, 3aa6d4077a60e54074281a6eb5f60b7f7a53261e, c359759b8fa1e949e515c6b3b9b74acc329b259d, 512a4b69ee76e7e5e8224ac11013298d4abe3aee, 3e4740909fad36557d86dda40ae05a04884a1612, 8e9d4a67a3b4108a42004f2e40c1e0a13584611e, fceb1bedd92fb4cf812a1fd4f27bf2b343b12774, f1e370437d52c54267c4253abe5f624da866c6fc, 2da71474b6fc4bcca53826ea5eae7959d7c9160f, 05fe450892c81616e78cadb6f8437a6dfd6679be, 753b8706eb7a6929f8ce3393e743f609c0181adc, b0c4ccdbb9a7e7b76ca19fd59ca321b41aa688fb, 0d4325683f7d9546d76ccd90ab91d1a2c7851396, 3d3907e407dc6afd15f09fcf88727556b17fba33, 3fe408a753d434d4257dc9d2a03cc5aee7051f8c, 6e87cceee098c27a747b771f63ed1816eaf59e15, 7f7c17037117ebb0a75fb20ab9d4033f74bf69a8, 3a2084a38936f3dbaddee5b951e04bd8b6b6bb44, 4314717e8c12a5b47ba066b224952626972706de, 95e1e8159550d1febf4971c7322cfa10c6db3c8f]                                                                                                                                                                                                                                                                                                                                                                                                                                                                                                                                                                                                                                                      |\n",
      "|[Frank F. Ing, Asra Khan, Daisuke Kobayashi, Donald J. Hagler, Thomas J. Forbes]                                                                                         |[[13150331], [34430825], [40631321], [2933677], [9797182]]                                                         |[7f38cd089b280c0baf2926b1a9ff5e4268a157d7, 95a4c398b52ecaa39fc846520c306c712081cce2, dd3a86a7004995f4196feabe15a7c72eeaf584f8, 5b7aa425de2d9572cf1ff4ed48b7d3a5b6e21746, 65d20c7744f73400c78c45300bfd96efe74fd0de, cdf29320b7f7e1c91033d8dfff01e181ec2c5a5e]                                                                                                                                                                                                                                                                                                                                                                                                                                                                                                                                                                                                                                                                                                                                                                                                                                                                                                                                                                                                                                                                                                                                                                                                                                                                                                                                                                                                                                                                                                                                                                                                                                                            |\n",
      "|null                                                                                                                                                                     |null                                                                                                               |null                                                                                                                                                                                                                                                                                                                                                                                                                                                                                                                                                                                                                                                                                                                                                                                                                                                                                                                                                                                                                                                                                                                                                                                                                                                                                                                                                                                                                                                                                                                                                                                                                                                                                                                                                                                                                                                                                                                    |\n",
      "|[Juana del Valle Mendoza, Angela Cornejo-Tapia, Pablo Weilg, Eduardo Verne, Ronald Nazario-Fuertes, Claudia Ugarte, Luís Javier Del Valle, Tomàs Pumarola]               |[[134151538], [1404946722], [4862330], [34707178], [1404946724], [145615201], [6928048], [4002803]]                |[48dbc7149575130230b0a61d99ba1aef126bed77, 70f9fca9f47a94cc9a796911a972373eba3b7a9a, 35f06fe8870be0c3cd7f0e9b47872a59c7590d7d, 751adf94295074639f843ed0a0a7a209773b6ea4, 7f14f26c6ad9051fb3447531af2ffe16ce5b438a, b6a62ec3654348f8aeb507e7fc539d67d71cf948, bfb8b14f31808d196915dd8d8827768f90ce16da, 6bc5c122d7a729ba5a7f6a57686cb5599a98092f]                                                                                                                                                                                                                                                                                                                                                                                                                                                                                                                                                                                                                                                                                                                                                                                                                                                                                                                                                                                                                                                                                                                                                                                                                                                                                                                                                                                                                                                                                                                                                                        |\n",
      "|[Shou-Yan Zheng, Li-li Wang, Luo Ren, Jian Luo, Wei Liao, En-Mei Liu]                                                                                                    |[[13314107], [144514532], [5726096], [40594628], [145381129], [153349244]]                                         |[ec6e460733941e8e159c5f45ff83f6831f3c504d, f3d0d56ac68fe383e809e62b8c337ddb9c840afd, 5562c2dfbebce46e0c95827c8840ad0b861666e3, 94929dbea1edb59ccf9ffee32e6376a3fde0a9da, 7b6a34f213f3dac7b1af39d410e453e24f74d5d2, 279ec13ae260f47c9e2c5e9fb7924437c54b7b88]                                                                                                                                                                                                                                                                                                                                                                                                                                                                                                                                                                                                                                                                                                                                                                                                                                                                                                                                                                                                                                                                                                                                                                                                                                                                                                                                                                                                                                                                                                                                                                                                                                                            |\n",
      "|[Fan Yang, Shaobo Shi, Ji-ling Zhu, Jin-zhi Shi, Kai Dai, Xiaobei Chen]                                                                                                  |[[145338240], [66813640], [121853319], [13582399], [153913162], [87466626]]                                        |[]                                                                                                                                                                                                                                                                                                                                                                                                                                                                                                                                                                                                                                                                                                                                                                                                                                                                                                                                                                                                                                                                                                                                                                                                                                                                                                                                                                                                                                                                                                                                                                                                                                                                                                                                                                                                                                                                                                                      |\n",
      "|[Aleksandra Milewska, Joanna Ner-Kluza, Agnieszka Dąbrowska, Anna Bodzoń-Kułakowska, Krzysztof Pyrc, Piotr Suder]                                                        |[[3877059], [1414318627], [51255498], [1399705877], [7353974], [2299668]]                                          |[]                                                                                                                                                                                                                                                                                                                                                                                                                                                                                                                                                                                                                                                                                                                                                                                                                                                                                                                                                                                                                                                                                                                                                                                                                                                                                                                                                                                                                                                                                                                                                                                                                                                                                                                                                                                                                                                                                                                      |\n",
      "|[Christopher Götz, Glenn T Stebbins, Sheng Luo]                                                                                                                          |[[47345936], [2949114], [144125824]]                                                                               |[]                                                                                                                                                                                                                                                                                                                                                                                                                                                                                                                                                                                                                                                                                                                                                                                                                                                                                                                                                                                                                                                                                                                                                                                                                                                                                                                                                                                                                                                                                                                                                                                                                                                                                                                                                                                                                                                                                                                      |\n",
      "|[Valerie A. Canady]                                                                                                                                                      |[[52124629]]                                                                                                       |[]                                                                                                                                                                                                                                                                                                                                                                                                                                                                                                                                                                                                                                                                                                                                                                                                                                                                                                                                                                                                                                                                                                                                                                                                                                                                                                                                                                                                                                                                                                                                                                                                                                                                                                                                                                                                                                                                                                                      |\n",
      "|[Alex Kasman, Christopher D. Stave, Christopher S. Elliott]                                                                                                              |[[3111244], [2435081], [6502334]]                                                                                  |[]                                                                                                                                                                                                                                                                                                                                                                                                                                                                                                                                                                                                                                                                                                                                                                                                                                                                                                                                                                                                                                                                                                                                                                                                                                                                                                                                                                                                                                                                                                                                                                                                                                                                                                                                                                                                                                                                                                                      |\n",
      "|[Lisha Wang, W. H. Hu, Chengpeng Fan]                                                                                                                                    |[[49680583], [145066177], [47529134]]                                                                              |[]                                                                                                                                                                                                                                                                                                                                                                                                                                                                                                                                                                                                                                                                                                                                                                                                                                                                                                                                                                                                                                                                                                                                                                                                                                                                                                                                                                                                                                                                                                                                                                                                                                                                                                                                                                                                                                                                                                                      |\n",
      "|[Sun Kyoung Lee, Kwang-Kyun Park, Jung Han Yoon Park, Soon Sung Lim, Won-Yoon Chung]                                                                                     |[[2033299], [67343486], [3123931], [48639132], [8089099]]                                                          |[08a31c62d1a5f6cd39bd38d67b2a3a671b73f4da, 1764f2fcc59ecaec3674d3286d0fc1a6dd11450f, fa7ccbfe37124c653aca53296eb267a37a02c3be, 274915b76f05555b82df0fe68001bece05138cf2, a0db75c098dc8aaa4e2670a98b18fbeccbacf376, 3c9feebddd49e2b2c6bca092839b4d88c76e3d2e, 09cf42c7662afb5faccbc573d5eaba641055fe42, 970b4ebd2a6960ee85bf4011680922865f24a1f4, 237dee73bd75aeb3ba5e42451be30ea6752fe71a, ac109836424c989b9543e7dc2ad734a9583ccadd, 70a18d6c6b4fe88337ca023f412bc8aaba948914, 0fa887f784aad7eea196416561625ce429df3be8, 5a5cd6e869d32e31e587287f8d1bca12770bfc6b, 63c8a831243111cc8c4b220b2b3c378bbb56b882, ea857b4b31d3881da822d5c3849d5b4d091b0fff, 49a7343995c571a2bb99426b4f01aa4422c409b0, bc9810a755cf6fc17f1b32a481ef537623d192e1, e173c8b06d97dfe030f76a0a9ae05f8b2864fa71, 2d4db26bd5256013f26a830a5f5d4d5ead98c857, b544ae42b37b64b796988e215e406691d00846f2, 08d0229d10b9da3a363954be2494513fa41c4d76, 2334ccaf04b1ec18cfe49c01cfc67ff32d3f173c]                                                                                                                                                                                                                                                                                                                                                                                                                                                                                                                                                                                                                                                                                                                                                                                                                                                                                                                                                            |\n",
      "|[Paul M. Verheijen, Esther C J Consten, Ivo A.M.J. Broeders]                                                                                                             |[[2021607], [48407749], [144888308]]                                                                               |[91ed6b3691168c56cf21ee505a3579646f0b1303, 25da8ef1abf2aeeb0e75dc779cad32399e1169ad, d74a9f49e381cff3acc2cd2b9bcf3030d6c2053d, 8aeb1e9cadd20c069d2fd0c3d905641f6049c54f, 53892ff2d6ffef35dc7d1b6850060a6c080e844c, 345aa8ecf13414f5291d400579e55da6d53a2848, 63cb7f4ee5e93f25c13f76fbd3fa47e78e93ffcf, 6f99f8916932334e3a5250856d5d27c5bce0fd82, 68d59309b845743e04bb6bd5f7f32dbe553304e4, 3a693d2947ffbbaf96166f5f88ffbb81a69f9f6e, f79a491d66afc486de55c5824c382bf70063e5cf, 140dcd89815e56b44f75394622568d4de6dc6548, dba16520b8bc724d619928c469cfa20082d4cd18, d18e40063b74507286f64d39a59950b0cddb748e, 61395b81b65d16ed7bd07d4ec728412d73f6f018, 9270ef50dd57af832f095c1a06453b89f80bf634, 2d6346a5f7b86f29b304a818b6cba59fd99768c8, d2fff048e83f2b82e248e737cfa62f8330f9bd17, 7ea1b29b4b7a94f01912adb52fe06df0f3bcf270, d6c14bf588c214de0da77943ab2c73773cf3b434, b308ea0f35da7b09527dff3543cbc113495d3fd1, 9fa0ca6bab9c136892bd2590ff71ac628f1d48f4, bfa19e6ce459eac69585eae677ab3d8427f51c3b, 859dd5f30f99657cba7602ba4439065ef26502f1, a8ce5def240eee0ee491093e24ef7cacda82e3a4, e3f5f22d6deb453397675c1dcec20bfdb93a35e2]                                                                                                                                                                                                                                                                                                                                                                                                                                                                                                                                                                                                                                                                                                                                                                                    |\n",
      "+-------------------------------------------------------------------------------------------------------------------------------------------------------------------------+-------------------------------------------------------------------------------------------------------------------+------------------------------------------------------------------------------------------------------------------------------------------------------------------------------------------------------------------------------------------------------------------------------------------------------------------------------------------------------------------------------------------------------------------------------------------------------------------------------------------------------------------------------------------------------------------------------------------------------------------------------------------------------------------------------------------------------------------------------------------------------------------------------------------------------------------------------------------------------------------------------------------------------------------------------------------------------------------------------------------------------------------------------------------------------------------------------------------------------------------------------------------------------------------------------------------------------------------------------------------------------------------------------------------------------------------------------------------------------------------------------------------------------------------------------------------------------------------------------------------------------------------------------------------------------------------------------------------------------------------------------------------------------------------------------------------------------------------------------------------------------------------------------------------------------------------------------------------------------------------------------------------------------------------------+\n",
      "only showing top 20 rows\n",
      "\n"
     ]
    }
   ],
   "source": [
    "meta2.select(\"SSauthorNames\",\"SSauthorIDs\",\"SSrefs\").show(false)"
   ]
  },
  {
   "cell_type": "code",
   "execution_count": 31,
   "metadata": {},
   "outputs": [
    {
     "name": "stdout",
     "output_type": "stream",
     "text": [
      "+-------+--------+------+\n",
      "|summary|cord_uid|SSdois|\n",
      "+-------+--------+------+\n",
      "|  count|  136783|136783|\n",
      "+-------+--------+------+\n",
      "\n"
     ]
    },
    {
     "data": {
      "text/plain": [
       "SSmatched = [cord_uid: string, SSdois: string ... 3 more fields]\n"
      ]
     },
     "metadata": {},
     "output_type": "display_data",
     "source": "user"
    },
    {
     "data": {
      "text/plain": [
       "[cord_uid: string, SSdois: string ... 3 more fields]"
      ]
     },
     "execution_count": 31,
     "metadata": {},
     "output_type": "execute_result"
    }
   ],
   "source": [
    "val SSmatched = meta2.groupBy(\"cord_uid\").agg(concat_ws(\";\", collect_list(\"SSdoi\")) as \"SSdois\",\n",
    "                                            first(\"SSauthorNames\") as \"SSauthorNames\",\n",
    "                                            first(\"SSauthorIDs\") as \"SSauthorIDs\",\n",
    "                                            first(\"SSrefs\") as \"SSrefs\")\n",
    "\n",
    "SSmatched.describe().filter($\"summary\" === \"count\").show"
   ]
  },
  {
   "cell_type": "code",
   "execution_count": 57,
   "metadata": {},
   "outputs": [
    {
     "name": "stdout",
     "output_type": "stream",
     "text": [
      "+-------+--------+------+----------------+--------------+---------+\n",
      "|summary|cord_uid|SSdois|SSauthorNameList|SSauthorIDList|SSrefList|\n",
      "+-------+--------+------+----------------+--------------+---------+\n",
      "|  count|  136783|136783|           80453|         80453|    80453|\n",
      "+-------+--------+------+----------------+--------------+---------+\n",
      "\n"
     ]
    },
    {
     "data": {
      "text/plain": [
       "SSmatched2 = [cord_uid: string, SSdois: string ... 3 more fields]\n"
      ]
     },
     "metadata": {},
     "output_type": "display_data",
     "source": "user"
    },
    {
     "data": {
      "text/plain": [
       "[cord_uid: string, SSdois: string ... 3 more fields]"
      ]
     },
     "execution_count": 57,
     "metadata": {},
     "output_type": "execute_result"
    }
   ],
   "source": [
    "val SSmatched2 = SSmatched.withColumn(\"SSauthorNameList\", array_join($\"SSauthorNames\", \";\"))\n",
    "                        .withColumn(\"SSauthorIDList\", array_join(flatten($\"SSauthorIDs\"), \";\"))\n",
    "                        .withColumn(\"SSrefList\", array_join($\"SSrefs\", \";\"))\n",
    "                        .select(\"cord_uid\",\"SSdois\",\"SSauthorNameList\",\"SSauthorIDList\",\"SSrefList\")\n",
    "SSmatched2.describe().filter($\"summary\" === \"count\").show"
   ]
  },
  {
   "cell_type": "code",
   "execution_count": 56,
   "metadata": {},
   "outputs": [
    {
     "name": "stdout",
     "output_type": "stream",
     "text": [
      "+-------+--------+------+-----+--------+------+------+-----+---------+-------+--------+------------+-------+-------+------+----------------+--------+--------------+--------------+------+------+----------+----------+---------+--------------+--------------+------+------+----------------+--------------+---------+\n",
      "|summary|cord_uid|   _c0|  sha|source_x| title|   doi|pmcid|pubmed_id|license|abstract|publish_time|authors|journal|mag_id|who_covidence_id|arxiv_id|pdf_json_files|pmc_json_files|   url| s2_id|pmcAuthors|pdfAuthors|SSAuthors|pmcAffiliation|pdfAffiliation|SSRefs|SSdois|SSauthorNameList|SSauthorIDList|SSrefList|\n",
      "+-------+--------+------+-----+--------+------+------+-----+---------+-------+--------+------------+-------+-------+------+----------------+--------+--------------+--------------+------+------+----------+----------+---------+--------------+--------------+------+------+----------------+--------------+---------+\n",
      "|  count|  137411|137411|63458|  137411|137370|113076|70527|   100629| 137359|  105932|      137366| 132106| 130231|  2649|           27941|    3719|         64965|         52370|124586|111762|     52315|     61451|    64429|         52685|         61040| 64081|137411|           80816|         80816|    80816|\n",
      "+-------+--------+------+-----+--------+------+------+-----+---------+-------+--------+------------+-------+-------+------+----------------+--------+--------------+--------------+------+------+----------+----------+---------+--------------+--------------+------+------+----------------+--------------+---------+\n",
      "\n"
     ]
    },
    {
     "data": {
      "text/plain": [
       "meta2 = [cord_uid: string, _c0: int ... 28 more fields]\n"
      ]
     },
     "metadata": {},
     "output_type": "display_data",
     "source": "user"
    },
    {
     "data": {
      "text/plain": [
       "[cord_uid: string, _c0: int ... 28 more fields]"
      ]
     },
     "execution_count": 56,
     "metadata": {},
     "output_type": "execute_result"
    }
   ],
   "source": [
    "val meta2 = meta0.join(SSmatched2, Seq(\"cord_uid\"), \"left\").cache()\n",
    "meta2.describe().filter($\"summary\" === \"count\").show"
   ]
  },
  {
   "cell_type": "code",
   "execution_count": 58,
   "metadata": {},
   "outputs": [],
   "source": [
    "meta2.drop(\"_c0\",\"SSAuthors\",\"SSRefs\")\n",
    "    .coalesce(1).write.mode(SaveMode.Overwrite)\n",
    "    .format(\"com.databricks.spark.csv\")\n",
    "    .option(\"header\", \"true\")\n",
    "    .option(\"quote\", \"\\\"\")\n",
    "    .save(\"wasbs://mag-2020-05-29@iunimag.blob.core.windows.net/2020-06-08/metaAuthors.csv\")"
   ]
  },
  {
   "cell_type": "code",
   "execution_count": 68,
   "metadata": {},
   "outputs": [
    {
     "name": "stdout",
     "output_type": "stream",
     "text": [
      "{\"abstract\":\"ObjectiveThis retrospective chart review describes the epidemiology and clinical features of 40 patients with culture-proven Mycoplasma pneumoniae infections at King Abdulaziz University Hospital, Jeddah, Saudi Arabia.MethodsPatients with positive M. pneumoniae cultures from respiratory specimens from January 1997 through December 1998 were identified through the Microbiology records. Charts of patients were reviewed.Results40 patients were identified, 33 (82.5%) of whom required admission. Most infections (92.5%) were community-acquired. The infection affected all age groups but was most common in infants (32.5%) and pre-school children (22.5%). It occurred year-round but was most common in the fall (35%) and spring (30%). More than three-quarters of patients (77.5%) had comorbidities. Twenty-four isolates (60%) were associated with pneumonia, 14 (35%) with upper respiratory tract infections, and 2 (5%) with bronchiolitis. Cough (82.5%), fever (75%), and malaise (58.8%) were the most common symptoms, and crepitations (60%), and wheezes (40%) were the most common signs. Most patients with pneumonia had crepitations (79.2%) but only 25% had bronchial breathing. Immunocompromised patients were more likely than non-immunocompromised patients to present with pneumonia (8/9 versus 16/31, P = 0.05). Of the 24 patients with pneumonia, 14 (58.3%) had uneventful recovery, 4 (16.7%) recovered following some complications, 3 (12.5%) died because of M pneumoniae infection, and 3 (12.5%) died due to underlying comorbidities. The 3 patients who died of M pneumoniae pneumonia had other comorbidities.Conclusionour results were similar to published data except for the finding that infections were more common in infants and preschool children and that the mortality rate of pneumonia in patients with comorbidities was high.\",\"arxivId\":null,\"authors\":[{\"authorId\":\"2843307\",\"name\":\"Tariq A Madani\",\"url\":\"https://www.semanticscholar.org/author/2843307\"},{\"authorId\":\"7699774\",\"name\":\"Aisha A. Al-Ghamdi\",\"url\":\"https://www.semanticscholar.org/author/7699774\"}],\"citationVelocity\":0,\"citations\":[{\"arxivId\":null,\"authors\":[{\"authorId\":\"101823415\",\"name\":\"Osama Mohammed Saed Abdul-Wahab\",\"url\":\"https://www.semanticscholar.org/author/101823415\"},{\"authorId\":\"1401025118\",\"name\":\"Ahmed M. Al-Hakami\",\"url\":\"https://www.semanticscholar.org/author/1401025118\"},{\"authorId\":\"22699901\",\"name\":\"Ayed Abdullah Shati\",\"url\":\"https://www.semanticscholar.org/author/22699901\"},{\"authorId\":\"5113040\",\"name\":\"Ali Mohammed Alsuheel\",\"url\":\"https://www.semanticscholar.org/author/5113040\"},{\"authorId\":\"47311092\",\"name\":\"Ashish Kumar\",\"url\":\"https://www.semanticscholar.org/author/47311092\"},{\"authorId\":\"74001869\",\"name\":\"Fateha Benahmed\",\"url\":\"https://www.semanticscholar.org/author/74001869\"}],\"doi\":\"10.3844/ajisp.2013.1.8\",\"intent\":[],\"isInfluential\":false,\"paperId\":\"b15358c6fb33a9dd2674baa55924d7eb41faad2e\",\"title\":\"ASSOCIATION OF MYCOPLASMA PNEUMONIAE WITH RESPIRATORY TRACT INFECTIONS IN CHILDREN\",\"url\":\"https://www.semanticscholar.org/paper/b15358c6fb33a9dd2674baa55924d7eb41faad2e\",\"venue\":\"\",\"year\":2013},{\"arxivId\":null,\"authors\":[{\"authorId\":\"80896877\",\"name\":\"Raef Ahmed Muhammad Qutub\",\"url\":\"https://www.semanticscholar.org/author/80896877\"},{\"authorId\":\"12063487\",\"name\":\"Sari Ibrahim Asiri\",\"url\":\"https://www.semanticscholar.org/author/12063487\"},{\"authorId\":\"80947657\",\"name\":\"Eatetal Abdurabuh\",\"url\":\"https://www.semanticscholar.org/author/80947657\"},{\"authorId\":\"51373349\",\"name\":\"Alaa Ahmed Bugis\",\"url\":\"https://www.semanticscholar.org/author/51373349\"},{\"authorId\":\"80502368\",\"name\":\"Kholoud Alsemri\",\"url\":\"https://www.semanticscholar.org/author/80502368\"}],\"doi\":\"10.5455/ijmsph.2013.140320131\",\"intent\":[\"background\"],\"isInfluential\":false,\"paperId\":\"9535a3f08f57a5c1450557506167de73f66087b6\",\"title\":\"Confusion in a patient with mycoplasma pneumonia lowers threshhold to lumbar puncture despite hyponatremia\",\"url\":\"https://www.semanticscholar.org/paper/9535a3f08f57a5c1450557506167de73f66087b6\",\"venue\":\"\",\"year\":2013},{\"arxivId\":null,\"authors\":[{\"authorId\":\"120086033\",\"name\":\"Jin Soo Kim\",\"url\":\"https://www.semanticscholar.org/author/120086033\"},{\"authorId\":\"47778509\",\"name\":\"Jeong Hee Ko\",\"url\":\"https://www.semanticscholar.org/author/47778509\"},{\"authorId\":\"4580041\",\"name\":\"Sung Hee Oh\",\"url\":\"https://www.semanticscholar.org/author/4580041\"}],\"doi\":\"10.14776/kjpid.2013.20.2.71\",\"intent\":[],\"isInfluential\":false,\"paperId\":\"3c1588b7d42fa7809ebdf6294460898e323237de\",\"title\":\"Indirect Particle Agglutination Antibody Testing for Early Diagnosis of Mycoplasma pneumoniae pneumonia in Children\",\"url\":\"https://www.semanticscholar.org/paper/3c1588b7d42fa7809ebdf6294460898e323237de\",\"venue\":\"\",\"year\":2013},{\"arxivId\":null,\"authors\":[{\"authorId\":\"108205515\",\"name\":\"Achraf Zouari\",\"url\":\"https://www.semanticscholar.org/author/108205515\"},{\"authorId\":\"145953499\",\"name\":\"A. Touati\",\"url\":\"https://www.semanticscholar.org/author/145953499\"},{\"authorId\":\"153692019\",\"name\":\"Hanen Smaoui\",\"url\":\"https://www.semanticscholar.org/author/153692019\"},{\"authorId\":\"102030741\",\"name\":\"Didier Brun\",\"url\":\"https://www.semanticscholar.org/author/102030741\"},{\"authorId\":\"1398691624\",\"name\":\"K. Kasdaghli\",\"url\":\"https://www.semanticscholar.org/author/1398691624\"},{\"authorId\":\"5694347\",\"name\":\"Khaled Menif\",\"url\":\"https://www.semanticscholar.org/author/5694347\"},{\"authorId\":\"115465853\",\"name\":\"Nejla Ben Jaballah\",\"url\":\"https://www.semanticscholar.org/author/115465853\"},{\"authorId\":\"47512031\",\"name\":\"E Ben Hassen\",\"url\":\"https://www.semanticscholar.org/author/47512031\"},{\"authorId\":\"48463699\",\"name\":\"Nicole Guiso\",\"url\":\"https://www.semanticscholar.org/author/48463699\"},{\"authorId\":\"6553607\",\"name\":\"Amel K\\u00e9chrid\",\"url\":\"https://www.semanticscholar.org/author/6553607\"}],\"doi\":\"10.1007/s15010-011-0179-4\",\"intent\":[\"background\"],\"isInfluential\":false,\"paperId\":\"7796661eb911fd8ffb8a767ba8fc5bffb127a701\",\"title\":\"Dual infection with Bordetella pertussis and Mycoplasma pneumoniae in three infants: case reports\",\"url\":\"https://www.semanticscholar.org/paper/7796661eb911fd8ffb8a767ba8fc5bffb127a701\",\"venue\":\"Infection\",\"year\":2011},{\"arxivId\":null,\"authors\":[{\"authorId\":\"79022650\",\"name\":\"Ali H. Bayati\",\"url\":\"https://www.semanticscholar.org/author/79022650\"},{\"authorId\":\"82152837\",\"name\":\"Pakhshan M. Faraj\",\"url\":\"https://www.semanticscholar.org/author/82152837\"},{\"authorId\":\"66787442\",\"name\":\"Khalid Hama Salih\",\"url\":\"https://www.semanticscholar.org/author/66787442\"}],\"doi\":null,\"intent\":[],\"isInfluential\":false,\"paperId\":\"e9f834068d3b94a201b4f2fee77604dbf6ad0382\",\"title\":\"Epidemiological, Clinical, and immunological characteristics of Mycoplasma pneumonia infections among a group of hospitalized children in Suleimani city/Iraq\",\"url\":\"https://www.semanticscholar.org/paper/e9f834068d3b94a201b4f2fee77604dbf6ad0382\",\"venue\":\"\",\"year\":2014},{\"arxivId\":null,\"authors\":[{\"authorId\":\"48047756\",\"name\":\"J P de Boer\",\"url\":\"https://www.semanticscholar.org/author/48047756\"},{\"authorId\":\"4653923\",\"name\":\"S J A Aerdts\",\"url\":\"https://www.semanticscholar.org/author/4653923\"},{\"authorId\":\"7202207\",\"name\":\"Paul H. P. Groeneveld\",\"url\":\"https://www.semanticscholar.org/author/7202207\"}],\"doi\":null,\"intent\":[],\"isInfluential\":false,\"paperId\":\"71dac6dfdd2cac4cfeae00f2936b9bb901237d1b\",\"title\":\"Severe diffuse interstitial pneumonia due to Mycoplasma pneumoniae in a patient with respiratory insufficiency.\",\"url\":\"https://www.semanticscholar.org/paper/71dac6dfdd2cac4cfeae00f2936b9bb901237d1b\",\"venue\":\"The Netherlands journal of medicine\",\"year\":2003},{\"arxivId\":null,\"authors\":[{\"authorId\":\"2313459\",\"name\":\"Abraham Tareq Yacoub\",\"url\":\"https://www.semanticscholar.org/author/2313459\"},{\"authorId\":\"84417053\",\"name\":\"Sarah I. Khwaja\",\"url\":\"https://www.semanticscholar.org/author/84417053\"},{\"authorId\":\"153414509\",\"name\":\"Talabi Taiwo\",\"url\":\"https://www.semanticscholar.org/author/153414509\"},{\"authorId\":\"5728033\",\"name\":\"Ju Hee Kim\",\"url\":\"https://www.semanticscholar.org/author/5728033\"},{\"authorId\":\"3992947\",\"name\":\"Sowmya Nanjappa\",\"url\":\"https://www.semanticscholar.org/author/3992947\"},{\"authorId\":\"2604531\",\"name\":\"John N Greene\",\"url\":\"https://www.semanticscholar.org/author/2604531\"}],\"doi\":\"10.1097/ipc.0000000000000392\",\"intent\":[\"background\"],\"isInfluential\":false,\"paperId\":\"a27cd56c005715c1bf0981bc61dd0a422cf76025\",\"title\":\"Mycoplasma pneumoniae in the Immunocompromised Host: A Case Series and Review of Literature\",\"url\":\"https://www.semanticscholar.org/paper/a27cd56c005715c1bf0981bc61dd0a422cf76025\",\"venue\":\"\",\"year\":2016},{\"arxivId\":null,\"authors\":[{\"authorId\":\"46794877\",\"name\":\"Sharlene Govender\",\"url\":\"https://www.semanticscholar.org/author/46794877\"}],\"doi\":null,\"intent\":[\"background\"],\"isInfluential\":false,\"paperId\":\"7658ff262455a2bd6efdabd07670c3a48c35adfb\",\"title\":\"Epidemiology and antibiotic susceptibility patterns of mycoplasma sp. and ureaplasma urealyticum\",\"url\":\"https://www.semanticscholar.org/paper/7658ff262455a2bd6efdabd07670c3a48c35adfb\",\"venue\":\"\",\"year\":2010}],\"corpusId\":20142301,\"doi\":\"10.1186/1471-2334-1-6\",\"fieldsOfStudy\":[\"Medicine\"],\"influentialCitationCount\":0,\"is_open_access\":true,\"is_publisher_licensed\":true,\"paperId\":\"dee1269e42a568e8ab3afa5317c45ae4007ebe81\",\"references\":[{\"arxivId\":null,\"authors\":[{\"authorId\":\"46456870\",\"name\":\"James D. Cherry\",\"url\":\"https://www.semanticscholar.org/author/46456870\"}],\"doi\":\"10.1093/clinids/17.Supplement_1.S47\",\"intent\":[\"background\"],\"isInfluential\":false,\"paperId\":\"61c0cc81ad4dfce72db60ea1079d4c28449c2d3a\",\"title\":\"Anemia and mucocutaneous lesions due to Mycoplasma pneumoniae infections.\",\"url\":\"https://www.semanticscholar.org/paper/61c0cc81ad4dfce72db60ea1079d4c28449c2d3a\",\"venue\":\"Clinical infectious diseases : an official publication of the Infectious Diseases Society of America\",\"year\":1993},{\"arxivId\":null,\"authors\":[{\"authorId\":\"145230033\",\"name\":\"T J Marrie\",\"url\":\"https://www.semanticscholar.org/author/145230033\"},{\"authorId\":\"145430571\",\"name\":\"Rosanna W Peeling\",\"url\":\"https://www.semanticscholar.org/author/145430571\"},{\"authorId\":\"144676704\",\"name\":\"Michael J. Fine\",\"url\":\"https://www.semanticscholar.org/author/144676704\"},{\"authorId\":\"1931211\",\"name\":\"Daniel Singer\",\"url\":\"https://www.semanticscholar.org/author/1931211\"},{\"authorId\":\"2242199\",\"name\":\"Christopher M. Coley\",\"url\":\"https://www.semanticscholar.org/author/2242199\"},{\"authorId\":\"1796768\",\"name\":\"Wishwa Kapoor\",\"url\":\"https://www.semanticscholar.org/author/1796768\"}],\"doi\":\"10.1016/S0002-9343(96)00255-0\",\"intent\":[\"background\"],\"isInfluential\":false,\"paperId\":\"fb2241c270fd5d0b71acc68a64265de14dc062b7\",\"title\":\"Ambulatory patients with community-acquired pneumonia: the frequency of atypical agents and clinical course.\",\"url\":\"https://www.semanticscholar.org/paper/fb2241c270fd5d0b71acc68a64265de14dc062b7\",\"venue\":\"The American journal of medicine\",\"year\":1996},{\"arxivId\":null,\"authors\":[{\"authorId\":\"152323845\",\"name\":\"Nabil Yasin Al Kurashi\",\"url\":\"https://www.semanticscholar.org/author/152323845\"},{\"authorId\":\"1414033366\",\"name\":\"A. Al-Hamdan\",\"url\":\"https://www.semanticscholar.org/author/1414033366\"},{\"authorId\":\"144317170\",\"name\":\"Ezzeldin M. Ibrahim\",\"url\":\"https://www.semanticscholar.org/author/144317170\"},{\"authorId\":\"13167305\",\"name\":\"Hassan Y. Al-Idrissi\",\"url\":\"https://www.semanticscholar.org/author/13167305\"},{\"authorId\":\"1422543875\",\"name\":\"Talal H Al-Bayari\",\"url\":\"https://www.semanticscholar.org/author/1422543875\"}],\"doi\":\"10.1136/thx.47.2.115\",\"intent\":[],\"isInfluential\":false,\"paperId\":\"f9f9321da9e109e416296bf88d0aa58e2d42d90a\",\"title\":\"Community acquired acute bacterial and atypical pneumonia in Saudi Arabia.\",\"url\":\"https://www.semanticscholar.org/paper/f9f9321da9e109e416296bf88d0aa58e2d42d90a\",\"venue\":\"Thorax\",\"year\":1992},{\"arxivId\":null,\"authors\":[{\"authorId\":\"11573662\",\"name\":\"William J. Mogabgab\",\"url\":\"https://www.semanticscholar.org/author/11573662\"}],\"doi\":\"10.1164/arrd.1968.97.3.345\",\"intent\":[\"background\"],\"isInfluential\":false,\"paperId\":\"812bb7f5cb8e064c0e174ca9fa821201eb830fe0\",\"title\":\"Mycoplasma pneumoniae and adenovirus respiratory illnesses in military and university personnel, 1959-1966.\",\"url\":\"https://www.semanticscholar.org/paper/812bb7f5cb8e064c0e174ca9fa821201eb830fe0\",\"venue\":\"The American review of respiratory disease\",\"year\":1968},{\"arxivId\":null,\"authors\":[{\"authorId\":\"47970408\",\"name\":\"Richard T. Kenney\",\"url\":\"https://www.semanticscholar.org/author/47970408\"},{\"authorId\":\"47785867\",\"name\":\"Jennifer S. Li\",\"url\":\"https://www.semanticscholar.org/author/47785867\"},{\"authorId\":\"82754722\",\"name\":\"W A Clyde\",\"url\":\"https://www.semanticscholar.org/author/82754722\"},{\"authorId\":\"5760755\",\"name\":\"Thomas Carl Wall\",\"url\":\"https://www.semanticscholar.org/author/5760755\"},{\"authorId\":\"1429572226\",\"name\":\"Christopher O'Connor\",\"url\":\"https://www.semanticscholar.org/author/1429572226\"},{\"authorId\":\"49353623\",\"name\":\"Paul T Campbell\",\"url\":\"https://www.semanticscholar.org/author/49353623\"},{\"authorId\":\"10199919\",\"name\":\"P Van Trigt\",\"url\":\"https://www.semanticscholar.org/author/10199919\"},{\"authorId\":\"5176584\",\"name\":\"G. Ralph Corey\",\"url\":\"https://www.semanticscholar.org/author/5176584\"}],\"doi\":\"10.1093/clinids/17.Supplement_1.S58\",\"intent\":[\"background\"],\"isInfluential\":false,\"paperId\":\"678e7949f502c4012e9bc118631bfdaca6c839e5\",\"title\":\"Mycoplasmal pericarditis: evidence of invasive disease.\",\"url\":\"https://www.semanticscholar.org/paper/678e7949f502c4012e9bc118631bfdaca6c839e5\",\"venue\":\"Clinical infectious diseases : an official publication of the Infectious Diseases Society of America\",\"year\":1993},{\"arxivId\":null,\"authors\":[{\"authorId\":\"144053415\",\"name\":\"Devora Lieberman\",\"url\":\"https://www.semanticscholar.org/author/144053415\"},{\"authorId\":\"4548853\",\"name\":\"Francisc Schlaeffer\",\"url\":\"https://www.semanticscholar.org/author/4548853\"},{\"authorId\":\"144053415\",\"name\":\"Devora Lieberman\",\"url\":\"https://www.semanticscholar.org/author/144053415\"},{\"authorId\":\"66384634\",\"name\":\"Sheryl Horowitz\",\"url\":\"https://www.semanticscholar.org/author/66384634\"},{\"authorId\":\"2061007\",\"name\":\"Ossi Horovitz\",\"url\":\"https://www.semanticscholar.org/author/2061007\"},{\"authorId\":\"2582625\",\"name\":\"Avi Porath\",\"url\":\"https://www.semanticscholar.org/author/2582625\"}],\"doi\":\"10.1159/000196557\",\"intent\":[\"background\"],\"isInfluential\":false,\"paperId\":\"daf3404ecf25c31676c784c25d973de282eb6275\",\"title\":\"Mycoplasma pneumoniae community-acquired pneumonia: a review of 101 hospitalized adult patients.\",\"url\":\"https://www.semanticscholar.org/paper/daf3404ecf25c31676c784c25d973de282eb6275\",\"venue\":\"Respiration; international review of thoracic diseases\",\"year\":1996},{\"arxivId\":null,\"authors\":[{\"authorId\":\"6716646\",\"name\":\"Gary Maartens\",\"url\":\"https://www.semanticscholar.org/author/6716646\"},{\"authorId\":\"51096509\",\"name\":\"Stephanie J. Lewis\",\"url\":\"https://www.semanticscholar.org/author/51096509\"},{\"authorId\":\"15119707\",\"name\":\"C de Goveia\",\"url\":\"https://www.semanticscholar.org/author/15119707\"},{\"authorId\":\"49131111\",\"name\":\"Catheleen Bartie\",\"url\":\"https://www.semanticscholar.org/author/49131111\"},{\"authorId\":\"5641157\",\"name\":\"Denise Roditi\",\"url\":\"https://www.semanticscholar.org/author/5641157\"},{\"authorId\":\"2187399\",\"name\":\"Keith P. Klugman\",\"url\":\"https://www.semanticscholar.org/author/2187399\"}],\"doi\":null,\"intent\":[\"background\"],\"isInfluential\":false,\"paperId\":\"32b9daff0f4921c629fb1ef40ab7936a290bc10b\",\"title\":\"'Atypical' bacteria are a common cause of community-acquired pneumonia in hospitalised adults.\",\"url\":\"https://www.semanticscholar.org/paper/32b9daff0f4921c629fb1ef40ab7936a290bc10b\",\"venue\":\"South African medical journal = Suid-Afrikaanse tydskrif vir geneeskunde\",\"year\":1994},{\"arxivId\":null,\"authors\":[{\"authorId\":\"48556739\",\"name\":\"Hjordis M. Foy\",\"url\":\"https://www.semanticscholar.org/author/48556739\"},{\"authorId\":\"74329917\",\"name\":\"George E. Kenny\",\"url\":\"https://www.semanticscholar.org/author/74329917\"},{\"authorId\":\"3995454\",\"name\":\"Marion K. Cooney\",\"url\":\"https://www.semanticscholar.org/author/3995454\"},{\"authorId\":\"145580919\",\"name\":\"I. Dal Allan\",\"url\":\"https://www.semanticscholar.org/author/145580919\"}],\"doi\":\"10.1093/infdis/139.6.681\",\"intent\":[\"background\",\"result\"],\"isInfluential\":true,\"paperId\":\"ed0c66a4eb3810006d276dbfbf70debfc26747f0\",\"title\":\"Long-term epidemiology of infections with Mycoplasma pneumoniae.\",\"url\":\"https://www.semanticscholar.org/paper/ed0c66a4eb3810006d276dbfbf70debfc26747f0\",\"venue\":\"The Journal of infectious diseases\",\"year\":1979},{\"arxivId\":null,\"authors\":[{\"authorId\":\"113947573\",\"name\":\"A. Raouf Mohamed\",\"url\":\"https://www.semanticscholar.org/author/113947573\"},{\"authorId\":\"46626279\",\"name\":\"D. A. Evans\",\"url\":\"https://www.semanticscholar.org/author/46626279\"}],\"doi\":\"10.1016/S0163-4453(87)90756-0\",\"intent\":[],\"isInfluential\":false,\"paperId\":\"8e13f34b715d413c3b1a8cb451200a910a38891e\",\"title\":\"The spectrum of pneumonia in 1983 at the Riyadh Armed Forces Hospital.\",\"url\":\"https://www.semanticscholar.org/paper/8e13f34b715d413c3b1a8cb451200a910a38891e\",\"venue\":\"The Journal of infection\",\"year\":1987},{\"arxivId\":null,\"authors\":[{\"authorId\":\"145230033\",\"name\":\"T J Marrie\",\"url\":\"https://www.semanticscholar.org/author/145230033\"}],\"doi\":\"10.1001/archinte.1993.00410040054008\",\"intent\":[\"background\"],\"isInfluential\":false,\"paperId\":\"02cf12a4ea37721ad4b7944a5d06b5d1f7e59f13\",\"title\":\"Mycoplasma pneumoniae pneumonia requiring hospitalization, with emphasis on infection in the elderly.\",\"url\":\"https://www.semanticscholar.org/paper/02cf12a4ea37721ad4b7944a5d06b5d1f7e59f13\",\"venue\":\"Archives of internal medicine\",\"year\":1993},{\"arxivId\":null,\"authors\":[{\"authorId\":\"48556739\",\"name\":\"Hjordis M. Foy\",\"url\":\"https://www.semanticscholar.org/author/48556739\"}],\"doi\":\"10.1093/clinids/17.Supplement_1.S37\",\"intent\":[],\"isInfluential\":false,\"paperId\":\"6edb2d9f141c997dc2212359efe3782e7f97e18a\",\"title\":\"Infections caused by Mycoplasma pneumoniae and possible carrier state in different populations of patients.\",\"url\":\"https://www.semanticscholar.org/paper/6edb2d9f141c997dc2212359efe3782e7f97e18a\",\"venue\":\"Clinical infectious diseases : an official publication of the Infectious Diseases Society of America\",\"year\":1993},{\"arxivId\":null,\"authors\":[{\"authorId\":\"33129938\",\"name\":\"Nayeem Ali\",\"url\":\"https://www.semanticscholar.org/author/33129938\"},{\"authorId\":\"6708490\",\"name\":\"Margaret Sillis\",\"url\":\"https://www.semanticscholar.org/author/6708490\"},{\"authorId\":\"51343536\",\"name\":\"Basil E. Andrews\",\"url\":\"https://www.semanticscholar.org/author/51343536\"},{\"authorId\":\"6368704\",\"name\":\"Patricia F. Jenkins\",\"url\":\"https://www.semanticscholar.org/author/6368704\"},{\"authorId\":\"145197354\",\"name\":\"Brian D W Harrison\",\"url\":\"https://www.semanticscholar.org/author/145197354\"}],\"doi\":\"10.1093/oxfordjournals.qjmed.a067955\",\"intent\":[\"background\"],\"isInfluential\":false,\"paperId\":\"7648a4f73c57c7d7596398bf3555df54df1d647e\",\"title\":\"The clinical spectrum and diagnosis of Mycoplasma pneumoniae infection.\",\"url\":\"https://www.semanticscholar.org/paper/7648a4f73c57c7d7596398bf3555df54df1d647e\",\"venue\":\"The Quarterly journal of medicine\",\"year\":1986},{\"arxivId\":null,\"authors\":[{\"authorId\":\"3256252\",\"name\":\"Marjaleena Koskiniemi\",\"url\":\"https://www.semanticscholar.org/author/3256252\"}],\"doi\":\"10.1093/clinids/17.Supplement_1.S52\",\"intent\":[],\"isInfluential\":false,\"paperId\":\"a95f831a7692e2534f847833f0aa53b20393a86e\",\"title\":\"CNS Manifestations Associated with Mycoplasma pneumoniae Infections: Summary of Cases at the University of Helsinki and Review\",\"url\":\"https://www.semanticscholar.org/paper/a95f831a7692e2534f847833f0aa53b20393a86e\",\"venue\":\"Clinical infectious diseases : an official publication of the Infectious Diseases Society of America\",\"year\":1993},{\"arxivId\":null,\"authors\":[{\"authorId\":\"40663912\",\"name\":\"Sheldon Paul Stone\",\"url\":\"https://www.semanticscholar.org/author/40663912\"}],\"doi\":\"10.1016/S0140-6736(05)61363-3\",\"intent\":[\"background\"],\"isInfluential\":false,\"paperId\":\"724c735b5bd8d71752f23ae904c60fc63d900117\",\"title\":\"Community-acquired pneumonia\",\"url\":\"https://www.semanticscholar.org/paper/724c735b5bd8d71752f23ae904c60fc63d900117\",\"venue\":\"The Lancet\",\"year\":1998},{\"arxivId\":null,\"authors\":[{\"authorId\":\"82754722\",\"name\":\"W A Clyde\",\"url\":\"https://www.semanticscholar.org/author/82754722\"}],\"doi\":null,\"intent\":[\"background\"],\"isInfluential\":true,\"paperId\":\"2eefa64863ac30450246e182c7d3493c86182409\",\"title\":\"Clinical overview of typical Mycoplasma pneumoniae infections.\",\"url\":\"https://www.semanticscholar.org/paper/2eefa64863ac30450246e182c7d3493c86182409\",\"venue\":\"Clinical infectious diseases : an official publication of the Infectious Diseases Society of America\",\"year\":1993},{\"arxivId\":null,\"authors\":[{\"authorId\":\"31736784\",\"name\":\"Mark J. Sands\",\"url\":\"https://www.semanticscholar.org/author/31736784\"},{\"authorId\":\"49862401\",\"name\":\"J. E. Satz\",\"url\":\"https://www.semanticscholar.org/author/49862401\"},{\"authorId\":\"26866123\",\"name\":\"Wallace E. Turner\",\"url\":\"https://www.semanticscholar.org/author/26866123\"},{\"authorId\":\"4878158\",\"name\":\"L A Soloff\",\"url\":\"https://www.semanticscholar.org/author/4878158\"}],\"doi\":\"10.7326/0003-4819-86-5-544\",\"intent\":[],\"isInfluential\":false,\"paperId\":\"af7397fb87a497441aa95be5b38c49d65b00954d\",\"title\":\"Pericarditis and perimyocarditis associated with active Mycoplasma pneumoniae infection.\",\"url\":\"https://www.semanticscholar.org/paper/af7397fb87a497441aa95be5b38c49d65b00954d\",\"venue\":\"Annals of internal medicine\",\"year\":1977},{\"arxivId\":null,\"authors\":[{\"authorId\":\"145312176\",\"name\":\"James P. Luby\",\"url\":\"https://www.semanticscholar.org/author/145312176\"}],\"doi\":null,\"intent\":[\"background\"],\"isInfluential\":false,\"paperId\":\"1d199dac28fcc2f8c29aac1c4f3d3c3b3b56f09a\",\"title\":\"Pneumonia caused by Mycoplasma pneumoniae infection.\",\"url\":\"https://www.semanticscholar.org/paper/1d199dac28fcc2f8c29aac1c4f3d3c3b3b56f09a\",\"venue\":\"Clinics in chest medicine\",\"year\":1991},{\"arxivId\":null,\"authors\":[{\"authorId\":\"13023790\",\"name\":\"A al Rashed\",\"url\":\"https://www.semanticscholar.org/author/13023790\"}],\"doi\":null,\"intent\":[\"background\"],\"isInfluential\":false,\"paperId\":\"65fbd46c00a7e19820e9051627906d4c805ab105\",\"title\":\"Role of Mycoplasma pneumoniae in acute respiratory-tract infections in Saudi paediatric patients.\",\"url\":\"https://www.semanticscholar.org/paper/65fbd46c00a7e19820e9051627906d4c805ab105\",\"venue\":\"Annals of tropical medicine and parasitology\",\"year\":1998}],\"title\":\"Clinical features of culture-proven Mycoplasma pneumoniae infections at King Abdulaziz University Hospital, Jeddah, Saudi Arabia\",\"topics\":[{\"topic\":\"Infection\",\"topicId\":\"1032\",\"url\":\"https://www.semanticscholar.org/topic/1032\"},{\"topic\":\"Bronchiolitis\",\"topicId\":\"39758\",\"url\":\"https://www.semanticscholar.org/topic/39758\"},{\"topic\":\"Respiratory Tract Infections\",\"topicId\":\"4419\",\"url\":\"https://www.semanticscholar.org/topic/4419\"},{\"topic\":\"Cessation of life\",\"topicId\":\"35\",\"url\":\"https://www.semanticscholar.org/topic/35\"},{\"topic\":\"Fever\",\"topicId\":\"1213\",\"url\":\"https://www.semanticscholar.org/topic/1213\"},{\"topic\":\"Pneumocystis jiroveci pneumonia\",\"topicId\":\"73812\",\"url\":\"https://www.semanticscholar.org/topic/73812\"},{\"topic\":\"Wheezing\",\"topicId\":\"14232\",\"url\":\"https://www.semanticscholar.org/topic/14232\"},{\"topic\":\"Malaise\",\"topicId\":\"12701\",\"url\":\"https://www.semanticscholar.org/topic/12701\"},{\"topic\":\"Accident and Emergency department\",\"topicId\":\"9559\",\"url\":\"https://www.semanticscholar.org/topic/9559\"},{\"topic\":\"Specimen\",\"topicId\":\"32605\",\"url\":\"https://www.semanticscholar.org/topic/32605\"},{\"topic\":\"Respiratory tract structure\",\"topicId\":\"17013\",\"url\":\"https://www.semanticscholar.org/topic/17013\"},{\"topic\":\"Scientific Publication\",\"topicId\":\"347\",\"url\":\"https://www.semanticscholar.org/topic/347\"},{\"topic\":\"Upper Respiratory Infections\",\"topicId\":\"57795\",\"url\":\"https://www.semanticscholar.org/topic/57795\"},{\"topic\":\"Chart evaluation by healthcare professional\",\"topicId\":\"297558\",\"url\":\"https://www.semanticscholar.org/topic/297558\"},{\"topic\":\"Coughing\",\"topicId\":\"280\",\"url\":\"https://www.semanticscholar.org/topic/280\"},{\"topic\":\"Patients\",\"topicId\":\"153409\",\"url\":\"https://www.semanticscholar.org/topic/153409\"}],\"url\":\"https://www.semanticscholar.org/paper/dee1269e42a568e8ab3afa5317c45ae4007ebe81\",\"venue\":\"BMC infectious diseases\",\"year\":2001}\n",
      "\n"
     ]
    },
    {
     "data": {
      "text/plain": [
       "url = https://api.semanticscholar.org/v1/paper/d1aafb70c066a2068b02786f8929fd9c900897fb\n",
       "result = \n"
      ]
     },
     "metadata": {},
     "output_type": "display_data",
     "source": "user"
    },
    {
     "data": {
      "text/plain": [
       "\"{\"abstract\":\"ObjectiveThis retrospective chart review describes the epidemiology and clinical features of 40 patients with culture-proven Mycoplasma pneumoniae infections at King Abdulaziz University Hospital, Jeddah, Saudi Arabia.MethodsPatients with positive M. pneumoniae cultures from respiratory specimens from January 1997 through December 1998 were identified through the Microbiology records. Charts of patients were reviewed.Results40 patients were identified, 33 (82.5%) of whom required admission. Most infections (92.5%) were community-acquired. The infection affected all age groups but was most common in infants (32.5%) and pre-school children (22.5%). It occurred yea...\n"
      ]
     },
     "metadata": {},
     "output_type": "display_data",
     "source": "user"
    }
   ],
   "source": [
    "val url = \"https://api.semanticscholar.org/v1/paper/d1aafb70c066a2068b02786f8929fd9c900897fb\"\n",
    "val result = scala.io.Source.fromURL(url).mkString\n",
    "println(result)"
   ]
  }
 ],
 "metadata": {
  "kernelspec": {
   "display_name": "Apache Toree - Scala",
   "language": "scala",
   "name": "apache_toree_scala"
  },
  "language_info": {
   "codemirror_mode": "text/x-scala",
   "file_extension": ".scala",
   "mimetype": "text/x-scala",
   "name": "scala",
   "pygments_lexer": "scala",
   "version": "2.11.12"
  }
 },
 "nbformat": 4,
 "nbformat_minor": 2
}
